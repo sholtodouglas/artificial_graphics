{
 "cells": [
  {
   "cell_type": "markdown",
   "metadata": {},
   "source": [
    "# Creates an MS-COCO style dataset for powerpoint"
   ]
  },
  {
   "cell_type": "code",
   "execution_count": 1,
   "metadata": {},
   "outputs": [
    {
     "data": {
      "text/html": [
       "<style>.container { width:80% !important; }</s}tyle>"
      ],
      "text/plain": [
       "<IPython.core.display.HTML object>"
      ]
     },
     "metadata": {},
     "output_type": "display_data"
    }
   ],
   "source": [
    "from IPython.core.display import display, HTML\n",
    "display(HTML(\"<style>.container { width:80% !important; }</s}tyle>\"))"
   ]
  },
  {
   "cell_type": "code",
   "execution_count": 2,
   "metadata": {},
   "outputs": [],
   "source": [
    "# win32 com\n",
    "#http://www.s-anand.net/blog/automating-powerpoint-with-python/\n",
    "#https://docs.microsoft.com/en-us/office/vba/api/powerpoint.fillformat.visible\n",
    "import win32com.client\n",
    "import os\n",
    "import random\n",
    "import numpy as np\n",
    "import PIL\n",
    "from tqdm import tqdm\n",
    "import random \n",
    "import lib\n",
    "from natsort import natsorted"
   ]
  },
  {
   "cell_type": "code",
   "execution_count": 3,
   "metadata": {},
   "outputs": [],
   "source": [
    "Application = win32com.client.Dispatch('PowerPoint.Application')\n",
    "slide_height, slide_width = 540, 960\n",
    "IMAGE_RES_DIVISOR = 1"
   ]
  },
  {
   "cell_type": "code",
   "execution_count": 4,
   "metadata": {},
   "outputs": [
    {
     "name": "stdout",
     "output_type": "stream",
     "text": [
      "506.25 16.875 30.0\n"
     ]
    }
   ],
   "source": [
    "part_x, part_y = (slide_height/IMAGE_RES_DIVISOR)/32, (slide_width/IMAGE_RES_DIVISOR)/32 \n",
    "print(part_x*part_y, part_x, part_y)"
   ]
  },
  {
   "cell_type": "code",
   "execution_count": 6,
   "metadata": {},
   "outputs": [],
   "source": [
    "from importlib import reload\n",
    "from lib.ppt_interface import PPT_shapes, add_shape, add_line, add_title, add_textBox, convert_line_xyhw_to_points\n",
    "reload(lib)\n",
    "reload(lib.ppt_interface)\n",
    "\n",
    "shape_manager = PPT_shapes()"
   ]
  },
  {
   "cell_type": "code",
   "execution_count": null,
   "metadata": {},
   "outputs": [],
   "source": []
  },
  {
   "cell_type": "code",
   "execution_count": 7,
   "metadata": {},
   "outputs": [],
   "source": [
    "# Alright, lets generate some training data!\n",
    "\n",
    "choices = [\n",
    "             'TextBox',\n",
    "             'StraightConnector',\n",
    "             'Rectangle',\n",
    "             'LeftArrow',\n",
    "             'Chevron',\n",
    "             'Oval',\n",
    "             'Donut',\n",
    "             'IsoscelesTriangle',\n",
    "        ]\n",
    "\n",
    "\n",
    "def make_training_data_slide():\n",
    "    slide = Presentation.Slides.Add(1, 11)\n",
    "    \n",
    "    # Put some text in the title\n",
    "    slide.shapes.Title.TextFrame.TextRange.Text = \"Title\"\n",
    "#     slide.Shapes.Title.delete()\n",
    "    \n",
    "    num_shapes = np.random.randint(5,10) \n",
    "    \n",
    "    for s in range(0,num_shapes):\n",
    "        choice = np.random.choice(choices)\n",
    "        \n",
    "        info = shape_manager.shapes[choice]\n",
    "        if info[1] == 'line':\n",
    "            # either horizontal or vertical only\n",
    "            if np.random.uniform() < 0.5: # vertical\n",
    "                x1, y1 = np.random.uniform(0.2,0.9), np.random.uniform(0.2,0.5)\n",
    "                x2 = x1\n",
    "                y2 = y1 + min(np.random.uniform(0.3,0.6), 1-y1)\n",
    "            else: # vertical\n",
    "                x1, y1 = np.random.uniform(0.2,0.5), np.random.uniform(0.2,0.9)\n",
    "                y2 = y1\n",
    "                x2 = x1 + min(np.random.uniform(0.3,0.6), 1-x1)\n",
    "            \n",
    "            x1,x2, y1,y2 = x1*slide_width, x2*slide_width, y1*slide_height, y2*slide_height\n",
    "            add_line(slide, x1,y1,x2,y2)\n",
    "        else:\n",
    "            x = np.random.uniform(0.2,0.8)\n",
    "            y = np.random.uniform(0.2,0.7)\n",
    "            h = min(np.random.uniform(0.05,0.2), 1-y)\n",
    "            w = min(np.random.uniform(0.05,0.3), 1-x) # don't want it bigger than the frame\n",
    "\n",
    "            x,w, y,h = x*slide_width, w*slide_width, y*slide_height, h*slide_height\n",
    "\n",
    "            rgb = np.zeros(3) # default 0\n",
    "            border = 0 #default 0 \n",
    "            fill = 1# np.random.randint(2)\n",
    "            if fill == 1:\n",
    "                col = np.random.randint(3)\n",
    "                rgb[col] = 1 # literally only do r, g or b at the moment. This isn't a color accuracy test\n",
    "            else:\n",
    "                border = 1 # if not filled, then do a border\n",
    "            text = 0# np.random.randint(2)\n",
    "\n",
    "            ####################################\n",
    "            if info[1] == 'textBox':\n",
    "                add_textBox(slide, x,y,h,w)\n",
    "            if info[1] == 'shape':\n",
    "                add_shape(slide, info[0], x,y,h,w, rgb, border, fill,text)\n",
    "        \n",
    "    return slide"
   ]
  },
  {
   "cell_type": "code",
   "execution_count": 8,
   "metadata": {},
   "outputs": [],
   "source": [
    "# Presentation = Application.Presentations.Add()\n",
    "# slide = Presentation.Slides.Add(1, 11)\n",
    "# add_shape(slide, 1, 0,520,20,20, [0,0,0])"
   ]
  },
  {
   "cell_type": "code",
   "execution_count": null,
   "metadata": {},
   "outputs": [],
   "source": []
  },
  {
   "cell_type": "code",
   "execution_count": 9,
   "metadata": {},
   "outputs": [],
   "source": [
    "#Presentation = Application.Presentations.Open(os.getcwd()+ '\\\\Presentation.pptx') # need full path with win22com\n",
    "# Create a new ppt deck\n"
   ]
  },
  {
   "cell_type": "markdown",
   "metadata": {},
   "source": [
    "# Make the deck of examples"
   ]
  },
  {
   "cell_type": "code",
   "execution_count": 10,
   "metadata": {},
   "outputs": [],
   "source": [
    "def try_dir(path):\n",
    "    try:\n",
    "        os.makedirs(path)\n",
    "    except Exception as e:\n",
    "        print(e)\n",
    "        pass\n"
   ]
  },
  {
   "cell_type": "code",
   "execution_count": 11,
   "metadata": {},
   "outputs": [
    {
     "name": "stdout",
     "output_type": "stream",
     "text": [
      "[WinError 183] Cannot create a file when that file already exists: 'C:\\\\Users\\\\Sholto Douglas\\\\Desktop\\\\artificial_graphics\\\\data\\\\rgb_ppt\\\\train/decks/'\n"
     ]
    }
   ],
   "source": [
    "train_path =  os.getcwd()+ '\\\\data\\\\rgb_ppt\\\\train'\n",
    "val_path =  os.getcwd()+ '\\\\data\\\\rgb_ppt\\\\val'\n",
    "path = train_path\n",
    "deck_path = path + '/decks/'\n",
    "try_dir(deck_path)\n"
   ]
  },
  {
   "cell_type": "code",
   "execution_count": 507,
   "metadata": {},
   "outputs": [
    {
     "name": "stderr",
     "output_type": "stream",
     "text": [
      "100%|████████████████████████████████████████████████████████████████████████████████| 200/200 [28:15<00:00,  8.48s/it]\n"
     ]
    }
   ],
   "source": [
    "existing_presos = len(os.listdir(path+'/decks/'))\n",
    "N_PRESOS = existing_presos+200\n",
    "for p in tqdm(range(existing_presos, N_PRESOS)):\n",
    "    Presentation = Application.Presentations.Add()\n",
    "    for i in range(0,40):\n",
    "        make_training_data_slide() \n",
    "    Presentation.saveAs(path+f'/decks/{p}')\n",
    "    Presentation.close()"
   ]
  },
  {
   "cell_type": "markdown",
   "metadata": {},
   "source": [
    "# Save images to disk"
   ]
  },
  {
   "cell_type": "code",
   "execution_count": 508,
   "metadata": {},
   "outputs": [
    {
     "name": "stderr",
     "output_type": "stream",
     "text": [
      "40it [00:09,  4.28it/s]\n",
      "40it [00:09,  4.32it/s]\n",
      "40it [00:09,  4.44it/s]\n",
      "40it [00:09,  4.36it/s]\n",
      "40it [00:08,  4.56it/s]\n",
      "40it [00:09,  4.32it/s]\n",
      "40it [00:09,  4.05it/s]\n",
      "40it [00:08,  4.76it/s]\n",
      "40it [00:09,  4.18it/s]\n",
      "40it [00:09,  4.31it/s]\n",
      "40it [00:09,  4.36it/s]\n",
      "40it [00:09,  4.27it/s]\n",
      "40it [00:09,  4.19it/s]\n",
      "40it [00:08,  4.63it/s]\n",
      "40it [00:08,  4.71it/s]\n",
      "40it [00:09,  4.12it/s]\n",
      "40it [00:08,  4.53it/s]\n",
      "40it [00:08,  4.55it/s]\n",
      "40it [00:09,  4.16it/s]\n",
      "40it [00:09,  4.27it/s]\n",
      "40it [00:10,  3.93it/s]\n",
      "40it [00:10,  3.68it/s]\n",
      "40it [00:11,  3.62it/s]\n",
      "40it [00:10,  3.99it/s]\n",
      "40it [00:10,  3.79it/s]\n",
      "40it [00:10,  3.90it/s]\n",
      "40it [00:10,  3.73it/s]\n",
      "40it [00:10,  3.70it/s]\n",
      "40it [00:10,  3.71it/s]\n",
      "40it [00:10,  3.66it/s]\n",
      "40it [00:10,  3.74it/s]\n",
      "40it [00:11,  3.64it/s]\n",
      "40it [00:10,  3.74it/s]\n",
      "40it [00:11,  3.60it/s]\n",
      "40it [00:11,  3.57it/s]\n",
      "40it [00:11,  3.58it/s]\n",
      "40it [00:10,  3.75it/s]\n",
      "40it [00:10,  3.77it/s]\n",
      "40it [00:11,  3.58it/s]\n",
      "40it [00:10,  3.91it/s]\n",
      "40it [00:10,  3.76it/s]\n",
      "40it [00:10,  3.70it/s]\n",
      "40it [00:10,  3.73it/s]\n",
      "40it [00:10,  3.71it/s]\n",
      "40it [00:10,  3.65it/s]\n",
      "40it [00:09,  4.00it/s]\n",
      "40it [00:10,  3.81it/s]\n",
      "40it [00:10,  3.74it/s]\n",
      "40it [00:10,  3.95it/s]\n",
      "40it [00:10,  3.79it/s]\n",
      "40it [00:10,  3.79it/s]\n",
      "40it [00:10,  3.85it/s]\n",
      "40it [00:10,  3.82it/s]\n",
      "40it [00:10,  3.81it/s]\n",
      "40it [00:10,  3.81it/s]\n",
      "40it [00:10,  3.65it/s]\n",
      "40it [00:10,  3.85it/s]\n",
      "40it [00:10,  3.87it/s]\n",
      "40it [00:10,  3.92it/s]\n",
      "40it [00:10,  3.88it/s]\n",
      "40it [00:10,  3.91it/s]\n",
      "40it [00:11,  3.61it/s]\n",
      "40it [00:10,  3.83it/s]\n",
      "40it [00:11,  3.64it/s]\n",
      "40it [00:10,  3.70it/s]\n",
      "40it [00:10,  3.87it/s]\n",
      "40it [00:10,  3.86it/s]\n",
      "40it [00:10,  3.93it/s]\n",
      "40it [00:10,  3.73it/s]\n",
      "40it [00:10,  3.89it/s]\n",
      "40it [00:10,  3.96it/s]\n",
      "40it [00:10,  3.90it/s]\n",
      "40it [00:10,  3.74it/s]\n",
      "40it [00:10,  3.77it/s]\n",
      "40it [00:11,  3.60it/s]\n",
      "40it [00:10,  3.71it/s]\n",
      "40it [00:10,  3.77it/s]\n",
      "40it [00:10,  3.67it/s]\n",
      "40it [00:10,  3.88it/s]\n",
      "40it [00:10,  3.85it/s]\n",
      "40it [00:10,  3.64it/s]\n",
      "40it [00:10,  3.94it/s]\n",
      "40it [00:10,  3.70it/s]\n",
      "40it [00:10,  3.90it/s]\n",
      "40it [00:10,  3.83it/s]\n",
      "40it [00:10,  3.79it/s]\n",
      "40it [00:11,  3.48it/s]\n",
      "40it [00:10,  3.83it/s]\n",
      "40it [00:10,  3.78it/s]\n",
      "40it [00:11,  3.63it/s]\n",
      "40it [00:10,  3.80it/s]\n",
      "40it [00:10,  3.82it/s]\n",
      "40it [00:10,  3.92it/s]\n",
      "40it [00:10,  3.65it/s]\n",
      "40it [00:10,  3.70it/s]\n",
      "40it [00:10,  3.86it/s]\n",
      "40it [00:10,  3.64it/s]\n",
      "40it [00:10,  3.86it/s]\n",
      "40it [00:10,  3.94it/s]\n",
      "40it [00:09,  4.02it/s]\n",
      "40it [00:10,  3.74it/s]\n",
      "40it [00:09,  4.09it/s]\n",
      "40it [00:10,  3.80it/s]\n",
      "40it [00:10,  3.86it/s]\n",
      "40it [00:10,  3.72it/s]\n",
      "40it [00:10,  3.87it/s]\n",
      "40it [00:10,  3.92it/s]\n",
      "40it [00:10,  3.84it/s]\n",
      "40it [00:10,  3.75it/s]\n",
      "40it [00:10,  3.86it/s]\n",
      "40it [00:10,  3.83it/s]\n",
      "40it [00:09,  4.00it/s]\n",
      "40it [00:10,  3.93it/s]\n",
      "40it [00:09,  4.03it/s]\n",
      "40it [00:10,  3.71it/s]\n",
      "40it [00:10,  3.85it/s]\n",
      "40it [00:10,  3.85it/s]\n",
      "40it [00:10,  3.95it/s]\n",
      "40it [00:10,  3.78it/s]\n",
      "40it [00:10,  3.86it/s]\n",
      "40it [00:10,  3.79it/s]\n",
      "40it [00:10,  3.80it/s]\n",
      "40it [00:10,  3.74it/s]\n",
      "40it [00:11,  3.62it/s]\n",
      "40it [00:10,  3.79it/s]\n",
      "40it [00:10,  3.67it/s]\n",
      "40it [00:10,  3.77it/s]\n",
      "40it [00:10,  3.83it/s]\n",
      "40it [00:10,  3.72it/s]\n",
      "40it [00:10,  3.81it/s]\n",
      "40it [00:10,  3.76it/s]\n",
      "40it [00:10,  3.79it/s]\n",
      "40it [00:10,  3.71it/s]\n",
      "40it [00:10,  3.76it/s]\n",
      "40it [00:09,  4.12it/s]\n",
      "40it [00:10,  3.88it/s]\n",
      "40it [00:11,  3.56it/s]\n",
      "40it [00:10,  3.72it/s]\n",
      "40it [00:09,  4.02it/s]\n",
      "40it [00:10,  3.83it/s]\n",
      "40it [00:10,  3.67it/s]\n",
      "40it [00:10,  3.82it/s]\n",
      "40it [00:10,  3.78it/s]\n",
      "40it [00:10,  3.69it/s]\n",
      "40it [00:10,  3.73it/s]\n",
      "40it [00:10,  3.75it/s]\n",
      "40it [00:10,  3.77it/s]\n",
      "40it [00:10,  3.81it/s]\n",
      "40it [00:10,  3.72it/s]\n",
      "40it [00:10,  3.71it/s]\n",
      "40it [00:10,  3.75it/s]\n",
      "40it [00:10,  3.78it/s]\n",
      "40it [00:10,  3.87it/s]\n",
      "40it [00:10,  3.94it/s]\n",
      "40it [00:10,  3.80it/s]\n",
      "40it [00:10,  3.69it/s]\n",
      "40it [00:10,  3.72it/s]\n",
      "40it [00:11,  3.59it/s]\n",
      "40it [00:10,  3.72it/s]\n",
      "40it [00:10,  3.86it/s]\n",
      "40it [00:10,  3.72it/s]\n",
      "40it [00:11,  3.64it/s]\n",
      "40it [00:10,  3.83it/s]\n",
      "40it [00:10,  3.95it/s]\n",
      "40it [00:11,  3.56it/s]\n",
      "40it [00:10,  3.82it/s]\n",
      "40it [00:10,  3.69it/s]\n",
      "40it [00:10,  3.76it/s]\n",
      "40it [00:10,  3.84it/s]\n",
      "40it [00:10,  3.85it/s]\n",
      "40it [00:10,  3.86it/s]\n",
      "40it [00:11,  3.59it/s]\n",
      "40it [00:10,  3.80it/s]\n",
      "40it [00:10,  3.70it/s]\n",
      "40it [00:10,  3.71it/s]\n",
      "40it [00:10,  3.72it/s]\n",
      "40it [00:10,  3.83it/s]\n",
      "40it [00:10,  3.79it/s]\n",
      "40it [00:10,  3.88it/s]\n",
      "40it [00:10,  3.98it/s]\n",
      "40it [00:11,  3.62it/s]\n",
      "40it [00:10,  3.92it/s]\n",
      "40it [00:10,  3.91it/s]\n",
      "40it [00:11,  3.61it/s]\n",
      "40it [00:10,  3.83it/s]\n",
      "40it [00:10,  3.67it/s]\n",
      "40it [00:10,  3.97it/s]\n",
      "40it [00:10,  3.86it/s]\n",
      "40it [00:10,  3.93it/s]\n",
      "40it [00:10,  3.84it/s]\n",
      "40it [00:10,  3.96it/s]\n",
      "40it [00:10,  3.75it/s]\n",
      "40it [00:10,  3.85it/s]\n",
      "40it [00:10,  3.71it/s]\n",
      "40it [00:10,  3.77it/s]\n",
      "40it [00:10,  3.79it/s]\n",
      "40it [00:11,  3.63it/s]\n",
      "40it [00:10,  3.77it/s]\n",
      "40it [00:10,  3.82it/s]\n",
      "40it [00:10,  3.73it/s]\n"
     ]
    }
   ],
   "source": [
    "images = []\n",
    "annotations = []\n",
    "\n",
    "counter = 0\n",
    "anno_counter = 0\n",
    "for p in natsorted(os.listdir(path+'/decks/')):\n",
    "    if '~' in p: # don't want the intermediate checkpoints\n",
    "        continue\n",
    "    Presentation = Application.Presentations.Open(f'{path}\\\\decks\\\\' + p)\n",
    "    # Make a dir for the images from tha\n",
    "    for i,slide in tqdm(enumerate(Presentation.Slides)):\n",
    "        readout = read_slide(slide)\n",
    "        slide.Export(path+f\"/{counter}.jpg\", 'JPG', slide_width, slide_height)\n",
    "        images.append({\n",
    "            \"id\": counter,\n",
    "            \"file_name\": f\"{counter}.jpg\",\n",
    "            \"width\": slide_width,\n",
    "            \"height\": slide_height,\n",
    "            \"date_captured\":  \"2021-06-20 01:55:23.687250\",\n",
    "            \"license\": 1,\n",
    "            \"coco_url\": \"\",\n",
    "            \"flickr_url\": \"\",\n",
    "        })\n",
    "        for anno in readout:\n",
    "            annotations.append({\n",
    "                \"id\": anno_counter,\n",
    "                \"image_id\": counter,\n",
    "                \"category_id\": anno['class'],\n",
    "                \"iscrowd\": 0,\n",
    "                \"area\": anno['height']*anno['width'],\n",
    "                \"bbox\": [anno['left'], anno['top'], anno['width'], anno['height']],\n",
    "                \"segmentation\": [],\n",
    "                \n",
    "            })\n",
    "            anno_counter += 1\n",
    "        \n",
    "        counter += 1\n",
    "        \n",
    "    Presentation.close()"
   ]
  },
  {
   "cell_type": "code",
   "execution_count": 509,
   "metadata": {},
   "outputs": [
    {
     "name": "stderr",
     "output_type": "stream",
     "text": [
      "IOPub data rate exceeded.\n",
      "The notebook server will temporarily stop sending output\n",
      "to the client in order to avoid crashing it.\n",
      "To change this limit, set the config variable\n",
      "`--NotebookApp.iopub_data_rate_limit`.\n",
      "\n",
      "Current values:\n",
      "NotebookApp.iopub_data_rate_limit=1000000.0 (bytes/sec)\n",
      "NotebookApp.rate_limit_window=3.0 (secs)\n",
      "\n"
     ]
    }
   ],
   "source": [
    "import json\n",
    "data =  {\n",
    "    \"info\":           {\n",
    "                      \"description\": \"PPTAI\",\n",
    "                      \"url\": \"sholtodouglas.github.io\",\n",
    "                      \"version\": \"0.1.0\",\n",
    "                      \"year\": 2021,\n",
    "                      \"contributor\": \"sholtodouglas\",\n",
    "                      \"date_created\": \"2021-06-20 01:55:39.314230\"\n",
    "                      },\n",
    "    \"licenses\": [\n",
    "                  {\n",
    "                      \"id\": 1,\n",
    "                      \"name\": \"Mine\",\n",
    "                      \"url\": \"Mine\"\n",
    "                  }\n",
    "                ],\n",
    "    \"categories\" : [],\n",
    "    \"images\": images,\n",
    "    \"annotations\": annotations,\n",
    "}\n",
    "\n",
    "for name, ID in shape_manager.classIDs.items():\n",
    "    data['categories'].append({'id': ID, 'name':name, 'supercategory':\"N/A\"})\n",
    "json_object = json.dumps(data, indent = 4)  \n",
    "print(json_object) "
   ]
  },
  {
   "cell_type": "code",
   "execution_count": 510,
   "metadata": {},
   "outputs": [],
   "source": [
    "if \"train\" in path:\n",
    "    with open(f'{path}//custom_train.json', 'w') as f:\n",
    "        json.dump(data, f)\n",
    "else:\n",
    "    with open(f'{path}//custom_val.json', 'w') as f:\n",
    "        json.dump(data, f)"
   ]
  },
  {
   "cell_type": "code",
   "execution_count": 447,
   "metadata": {},
   "outputs": [],
   "source": [
    "# gsutil -m cp -r data/rgb_ppt/ gs://lfp_europe_west4_a/data/"
   ]
  },
  {
   "cell_type": "code",
   "execution_count": null,
   "metadata": {},
   "outputs": [],
   "source": []
  },
  {
   "cell_type": "code",
   "execution_count": null,
   "metadata": {},
   "outputs": [],
   "source": []
  },
  {
   "cell_type": "code",
   "execution_count": null,
   "metadata": {},
   "outputs": [],
   "source": []
  },
  {
   "cell_type": "code",
   "execution_count": null,
   "metadata": {},
   "outputs": [],
   "source": []
  },
  {
   "cell_type": "code",
   "execution_count": 12,
   "metadata": {},
   "outputs": [],
   "source": [
    "DATA_BASE = 'data/rgb_ppt/'"
   ]
  },
  {
   "cell_type": "code",
   "execution_count": 471,
   "metadata": {},
   "outputs": [],
   "source": [
    "import torchvision\n",
    "import os\n",
    "\n",
    "class CocoDetection(torchvision.datasets.CocoDetection):\n",
    "    def __init__(self, img_folder, feature_extractor, train=True):\n",
    "        ann_file = os.path.join(img_folder, \"custom_train.json\" if train else \"custom_val.json\")\n",
    "        super(CocoDetection, self).__init__(img_folder, ann_file)\n",
    "        self.feature_extractor = feature_extractor\n",
    "\n",
    "    def __getitem__(self, idx):\n",
    "        # read in PIL image and target in COCO format\n",
    "        img, target = super(CocoDetection, self).__getitem__(idx)\n",
    "        \n",
    "        # preprocess image and target (converting target to DETR format, resizing + normalization of both image and target)\n",
    "        image_id = self.ids[idx]\n",
    "        target = {'image_id': image_id, 'annotations': target}\n",
    "        encoding = self.feature_extractor(images=img, annotations=target, return_tensors=\"pt\")\n",
    "        pixel_values = encoding[\"pixel_values\"].squeeze() # remove batch dimension\n",
    "        target = encoding[\"target\"][0] # remove batch dimension\n",
    "\n",
    "        return pixel_values, target"
   ]
  },
  {
   "cell_type": "code",
   "execution_count": 472,
   "metadata": {},
   "outputs": [
    {
     "name": "stdout",
     "output_type": "stream",
     "text": [
      "loading annotations into memory...\n",
      "Done (t=0.02s)\n",
      "creating index...\n",
      "index created!\n",
      "loading annotations into memory...\n",
      "Done (t=0.01s)\n",
      "creating index...\n",
      "index created!\n"
     ]
    }
   ],
   "source": [
    "# Based on the class defined above, we create training and validation datasets.\n",
    "from transformers import DetrFeatureExtractor\n",
    "\n",
    "feature_extractor = DetrFeatureExtractor.from_pretrained(\"facebook/detr-resnet-50\")\n",
    "\n",
    "train_dataset = CocoDetection(img_folder=f'{DATA_BASE}/train', feature_extractor=feature_extractor)\n",
    "val_dataset = CocoDetection(img_folder=f'{DATA_BASE}/val', feature_extractor=feature_extractor, train=False)"
   ]
  },
  {
   "cell_type": "code",
   "execution_count": 473,
   "metadata": {},
   "outputs": [
    {
     "name": "stdout",
     "output_type": "stream",
     "text": [
      "Number of training examples: 410\n",
      "Number of validation examples: 40\n"
     ]
    }
   ],
   "source": [
    "print(\"Number of training examples:\", len(train_dataset))\n",
    "print(\"Number of validation examples:\", len(val_dataset))"
   ]
  },
  {
   "cell_type": "code",
   "execution_count": 478,
   "metadata": {},
   "outputs": [
    {
     "name": "stdout",
     "output_type": "stream",
     "text": [
      "Image n°367\n"
     ]
    },
    {
     "data": {
      "image/png": "[encoded data removed]",
      "text/plain": [
       "<PIL.JpegImagePlugin.JpegImageFile image mode=RGB size=960x540 at 0x20B19605100>"
      ]
     },
     "execution_count": 478,
     "metadata": {},
     "output_type": "execute_result"
    }
   ],
   "source": [
    "import numpy as np\n",
    "import os\n",
    "from PIL import Image, ImageDraw\n",
    "\n",
    "# based on https://github.com/woctezuma/finetune-detr/blob/master/finetune_detr.ipynb\n",
    "image_ids = train_dataset.coco.getImgIds()\n",
    "# let's pick a random image\n",
    "image_id = image_ids[np.random.randint(0, len(image_ids))]\n",
    "print('Image n°{}'.format(image_id))\n",
    "image = train_dataset.coco.loadImgs(image_id)[0]\n",
    "image = Image.open(os.path.join(f'{DATA_BASE}/train', image['file_name']))\n",
    "\n",
    "annotations = train_dataset.coco.imgToAnns[image_id]\n",
    "draw = ImageDraw.Draw(image, \"RGBA\")\n",
    "\n",
    "cats = train_dataset.coco.cats\n",
    "id2label = {k: v['name'] for k,v in cats.items()}\n",
    "\n",
    "for annotation in annotations:\n",
    "  box = annotation['bbox']\n",
    "  class_idx = annotation['category_id']\n",
    "  x,y,w,h = tuple(box)\n",
    "  draw.rectangle((x,y,x+w,y+h), outline='red', width=1)\n",
    "  draw.text((x, y), id2label[class_idx], fill='black')\n",
    "\n",
    "image"
   ]
  },
  {
   "cell_type": "code",
   "execution_count": 17,
   "metadata": {},
   "outputs": [
    {
     "data": {
      "text/plain": [
       "'data/rgb_ppt//train//0.jpg'"
      ]
     },
     "execution_count": 17,
     "metadata": {},
     "output_type": "execute_result"
    }
   ],
   "source": [
    "f'{DATA_BASE}/train//' + os.listdir(f'{DATA_BASE}/train')[0]"
   ]
  },
  {
   "cell_type": "code",
   "execution_count": null,
   "metadata": {},
   "outputs": [],
   "source": []
  }
 ],
 "metadata": {
  "kernelspec": {
   "display_name": "Python 3",
   "language": "python",
   "name": "python3"
  },
  "language_info": {
   "codemirror_mode": {
    "name": "ipython",
    "version": 3
   },
   "file_extension": ".py",
   "mimetype": "text/x-python",
   "name": "python",
   "nbconvert_exporter": "python",
   "pygments_lexer": "ipython3",
   "version": "3.8.8"
  }
 },
 "nbformat": 4,
 "nbformat_minor": 2
}
