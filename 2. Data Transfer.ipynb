{
 "cells": [
  {
   "cell_type": "code",
   "execution_count": 1,
   "metadata": {},
   "outputs": [
    {
     "name": "stdout",
     "output_type": "stream",
     "text": [
      "loading annotations into memory...\n",
      "Done (t=0.01s)\n",
      "creating index...\n",
      "index created!\n",
      "loading annotations into memory...\n",
      "Done (t=0.00s)\n",
      "creating index...\n",
      "index created!\n"
     ]
    }
   ],
   "source": [
    "# Based on the class defined above, we create training and validation datasets.\n",
    "from transformers import DetrFeatureExtractor\n",
    "from lib.DETR import CocoDetection\n",
    "feature_extractor = DetrFeatureExtractor.from_pretrained(\"facebook/detr-resnet-50\")\n",
    "\n",
    "feature_extractor.max_size = 256\n",
    "feature_extractor.size = 128\n",
    "\n",
    "DATA_BASE = 'data/custom/'\n",
    "train_dataset = CocoDetection(img_folder=f'{DATA_BASE}/train', feature_extractor=feature_extractor)\n",
    "val_dataset = CocoDetection(img_folder=f'{DATA_BASE}/val', feature_extractor=feature_extractor, train=False)\n",
    "\n",
    "from torch.utils.data import DataLoader\n",
    "\n",
    "def collate_fn(batch):\n",
    "  pixel_values = [item[0] for item in batch]\n",
    "  encoding = feature_extractor.pad_and_create_pixel_mask(pixel_values, return_tensors=\"pt\")\n",
    "  labels = [item[1] for item in batch]\n",
    "  batch = {}\n",
    "  batch['pixel_values'] = encoding['pixel_values']\n",
    "  batch['pixel_mask'] = encoding['pixel_mask']\n",
    "  batch['labels'] = labels\n",
    "  return batch\n",
    "\n",
    "\n",
    "def to_jax(batch):\n",
    "    batch['pixel_values'] = jnp.array(batch['pixel_values'].numpy().transpose(0,2,3,1))\n",
    "    batch['pixel_mask'] = jnp.array(batch['pixel_mask'])\n",
    "    batch['labels'] = [{k: jnp.array(v) for k,v in n.items()} for n in batch['labels']]\n",
    "    return batch\n",
    "\n",
    "train_dataloader = DataLoader(train_dataset, collate_fn=collate_fn, batch_size=2, shuffle=True, num_workers = 3)\n",
    "val_dataloader = DataLoader(val_dataset, collate_fn=collate_fn, batch_size=2, shuffle=True, num_workers = 3)\n",
    "cats = val_dataset.coco.cats\n",
    "# Use this for the # classes\n",
    "id2label = {k: v['name'] for k,v in cats.items()}\n",
    "\n",
    "t_it = iter(train_dataloader)\n",
    "batch = next(t_it)"
   ]
  },
  {
   "cell_type": "code",
   "execution_count": null,
   "metadata": {},
   "outputs": [],
   "source": []
  }
 ],
 "metadata": {
  "kernelspec": {
   "display_name": "Python 3",
   "language": "python",
   "name": "python3"
  },
  "language_info": {
   "codemirror_mode": {
    "name": "ipython",
    "version": 3
   },
   "file_extension": ".py",
   "mimetype": "text/x-python",
   "name": "python",
   "nbconvert_exporter": "python",
   "pygments_lexer": "ipython3",
   "version": "3.8.8"
  }
 },
 "nbformat": 4,
 "nbformat_minor": 2
}
