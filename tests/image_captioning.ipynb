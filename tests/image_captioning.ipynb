{
  "nbformat": 4,
  "nbformat_minor": 0,
  "metadata": {
    "accelerator": "GPU",
    "colab": {
      "name": "image_captioning.ipynb",
      "provenance": [],
      "collapsed_sections": [],
      "toc_visible": true
    },
    "kernelspec": {
      "display_name": "Python 3",
      "name": "python3"
    }
  },
  "cells": [
    {
      "cell_type": "code",
      "metadata": {
        "id": "7pQDRf1bZYib"
      },
      "source": [
        "!pip install pathy -q\n",
        "!pip install wandb -q"
      ],
      "execution_count": null,
      "outputs": []
    },
    {
      "cell_type": "code",
      "metadata": {
        "id": "U8l4RJ0XRPEm"
      },
      "source": [
        "import tensorflow as tf\n",
        "\n",
        "# You'll generate plots of attention in order to see which parts of an image\n",
        "# your model focuses on during captioning\n",
        "import matplotlib.pyplot as plt\n",
        "\n",
        "import collections\n",
        "import random\n",
        "import numpy as np\n",
        "import os\n",
        "import time\n",
        "import json\n",
        "from PIL import Image\n"
      ],
      "execution_count": null,
      "outputs": []
    },
    {
      "cell_type": "code",
      "metadata": {
        "colab": {
          "base_uri": "https://localhost:8080/"
        },
        "id": "eYwpN_a3Xwm0",
        "outputId": "71ae5063-f428-413b-cae0-f2ca5760b5af"
      },
      "source": [
        "import requests\n",
        "r = requests.get('https://ipinfo.io')\n",
        "region = r.json()['region']\n",
        "r.json()"
      ],
      "execution_count": null,
      "outputs": [
        {
          "output_type": "execute_result",
          "data": {
            "text/plain": [
              "{'city': 'Groningen',\n",
              " 'country': 'NL',\n",
              " 'hostname': '18.88.204.35.bc.googleusercontent.com',\n",
              " 'ip': '35.204.88.18',\n",
              " 'loc': '53.2192,6.5667',\n",
              " 'org': 'AS15169 Google LLC',\n",
              " 'postal': '9711',\n",
              " 'readme': 'https://ipinfo.io/missingauth',\n",
              " 'region': 'Groningen',\n",
              " 'timezone': 'Europe/Amsterdam'}"
            ]
          },
          "metadata": {
            "tags": []
          },
          "execution_count": 3
        }
      ]
    },
    {
      "cell_type": "code",
      "metadata": {
        "id": "aNq2ZBYOZOMX"
      },
      "source": [
        "import argparse\n",
        "from natsort import natsorted\n",
        "\n",
        "parser = argparse.ArgumentParser(description='AG training arguments')\n",
        "parser.add_argument('run_name')\n",
        "parser.add_argument('--train_datasets', nargs='+', help='Training dataset names')\n",
        "parser.add_argument('--test_datasets', nargs='+', help='Testing dataset names')\n",
        "parser.add_argument('-c', '--colab', default=False, action='store_true', help='Enable if using colab environment')\n",
        "parser.add_argument('-s', '--data_source', default='DRIVE', help='Source of training data')\n",
        "parser.add_argument('-d', '--device', default='TPU', help='Hardware device to train on')\n",
        "parser.add_argument('-b', '--batch_size', default=16, type=int)\n",
        "parser.add_argument('-lr', '--learning_rate', type=float, default=2e-4)\n",
        "parser.add_argument('-t', '--train_steps', type=int, default=200000)\n",
        "parser.add_argument('--bucket_name', help='GCS bucket name to stream data from')\n",
        "parser.add_argument('--tpu_name', help='GCP TPU name') # Only used in the script on GCP\n",
        "\n",
        "parser.add_argument('-dim', '--d_model', default=256, type=int)\n",
        "parser.add_argument('-nh', '--num_heads', default=4, type=int)\n",
        "parser.add_argument('-nl', '--num_layers', default=6, type=int)\n",
        "parser.add_argument('-sl', '--sequence_length', default=128, type=int)\n",
        "parser.add_argument('-dr', '--dropout_rate', type=float, default=0.1)\n",
        "parser.add_argument('-cl', '--grad_clip_value', type=float, default=0.25)\n",
        "parser.add_argument('-ds', '--distributed', type=bool, default=False)\n",
        "\n",
        "\n",
        "### Sample local config\n",
        "args = parser.parse_args('''\n",
        "dummy_run_rgb\n",
        "--train_dataset train\n",
        "--test_dataset test\n",
        "-c\n",
        "-s GCS\n",
        "--bucket_name artificial_graphics\n",
        "'''.split())\n"
      ],
      "execution_count": null,
      "outputs": []
    },
    {
      "cell_type": "code",
      "metadata": {
        "cellView": "form",
        "colab": {
          "base_uri": "https://localhost:8080/"
        },
        "id": "vzm-YfFQZLQ_",
        "outputId": "a9595ad1-be80-402d-db3d-c22a77d1e13c"
      },
      "source": [
        "from pathlib import Path\n",
        "from pathy import Pathy\n",
        "import os\n",
        "import requests\n",
        "import json\n",
        "import pprint\n",
        "import logging\n",
        "import numpy as np\n",
        "import tensorflow as tf\n",
        "import time\n",
        "\n",
        "\n",
        "\n",
        "pp = pprint.PrettyPrinter(indent=4)\n",
        "# In[4]:\n",
        "\n",
        "\n",
        "#@title Workpace Setup (Local vs Colab)\n",
        "\n",
        "# Set up working directory and libraries\n",
        "if args.colab:\n",
        "    from google.colab import drive, auth\n",
        "    print('Using colab setup')\n",
        "    WORKING_PATH = Path('/content/artificial_graphics')\n",
        "    # Clone repo\n",
        "    try:\n",
        "        get_ipython().system(\"git clone 'https://github.com/sholtodouglas/artificial_graphics' {WORKING_PATH}\")\n",
        "    except: \n",
        "        pass\n",
        "    # Mount drive\n",
        "    drive.mount('/content/drive')\n",
        "else:\n",
        "    print('Using local setup')\n",
        "    WORKING_PATH = Path.cwd()\n",
        "    print(f'Working path: {WORKING_PATH}')\n",
        "\n",
        "# Change working directory to artificial_graphics\n",
        "os.chdir(WORKING_PATH)\n",
        "import lib\n",
        "\n",
        "# Set up storage directory and datasets\n",
        "if args.data_source == 'DRIVE':\n",
        "    assert args.colab, \"Must be using Colab\"\n",
        "    print('Reading data from Google Drive')\n",
        "    STORAGE_PATH = Path('/content/drive/My Drive/artificial_graphics')\n",
        "elif args.data_source == 'GCS':\n",
        "    if args.colab:\n",
        "      auth.authenticate_user()\n",
        "    print('Reading data from Google Cloud Storage')\n",
        "    r = requests.get('https://ipinfo.io')\n",
        "    region = r.json()['region']\n",
        "    project_id = 'learning-from-play-303306'\n",
        "    logging.warning(f'You are accessing GCS data from {region}, make sure this is the same as your bucket {args.bucket_name}')\n",
        "    STORAGE_PATH = Pathy(f'gs://{args.bucket_name}')\n",
        "else:\n",
        "    print('Reading data from local filesystem')\n",
        "    STORAGE_PATH = WORKING_PATH\n",
        "\n",
        "print(f'Storage path: {STORAGE_PATH}')\n",
        "TRAIN_DATA_PATHS = [STORAGE_PATH/'data'/x for x in args.train_datasets]\n",
        "TEST_DATA_PATHS = [STORAGE_PATH/'data'/x for x in args.test_datasets]"
      ],
      "execution_count": null,
      "outputs": [
        {
          "output_type": "stream",
          "text": [
            "Using colab setup\n",
            "fatal: destination path '/content/artificial_graphics' already exists and is not an empty directory.\n",
            "Drive already mounted at /content/drive; to attempt to forcibly remount, call drive.mount(\"/content/drive\", force_remount=True).\n",
            "Reading data from Google Cloud Storage\n"
          ],
          "name": "stdout"
        },
        {
          "output_type": "stream",
          "text": [
            "WARNING:root:You are accessing GCS data from Groningen, make sure this is the same as your bucket artificial_graphics\n"
          ],
          "name": "stderr"
        },
        {
          "output_type": "stream",
          "text": [
            "Storage path: gs://artificial_graphics/\n"
          ],
          "name": "stdout"
        }
      ]
    },
    {
      "cell_type": "code",
      "metadata": {
        "colab": {
          "base_uri": "https://localhost:8080/"
        },
        "id": "JQEQ5UZOcv22",
        "outputId": "e4a6f78f-5a1a-46ee-90b0-6253bc87e087"
      },
      "source": [
        "!git pull\n",
        "from importlib import reload\n",
        "reload(lib)\n",
        "# reload(lib.data)"
      ],
      "execution_count": null,
      "outputs": [
        {
          "output_type": "stream",
          "text": [
            "Already up to date.\n"
          ],
          "name": "stdout"
        },
        {
          "output_type": "execute_result",
          "data": {
            "text/plain": [
              "<module 'lib' (namespace)>"
            ]
          },
          "metadata": {
            "tags": []
          },
          "execution_count": 6
        }
      ]
    },
    {
      "cell_type": "code",
      "metadata": {
        "id": "BD_54BMgc3zS"
      },
      "source": [
        "import tensorflow_datasets as tfds\n",
        "import lib\n",
        "import lib.data\n",
        "\n",
        "train_dl = lib.data.dataloader(TRAIN_DATA_PATHS, batch_size = 128, inception_prepro=True) # to make this distributed, pass num devices so we get an 8 ways batch - and then pmap it\n",
        "train_dataset = iter(train_dl.dataset)\n",
        "test_dl = lib.data.dataloader(TEST_DATA_PATHS, batch_size = 128, inception_prepro=True) # to make this distributed, pass num devices so we get an 8 ways batch - and then pmap it\n",
        "test_dataset = iter(test_dl.dataset)"
      ],
      "execution_count": null,
      "outputs": []
    },
    {
      "cell_type": "markdown",
      "metadata": {
        "id": "MDvIu4sXRPFV"
      },
      "source": [
        "## Initialize InceptionV3 \n"
      ]
    },
    {
      "cell_type": "code",
      "metadata": {
        "id": "RD3vW4SsRPFW"
      },
      "source": [
        "image_model = tf.keras.applications.InceptionV3(include_top=False,\n",
        "                                                weights='imagenet')\n",
        "new_input = image_model.input\n",
        "hidden_layer = image_model.layers[-1].output\n",
        "\n",
        "image_features_extract_model = tf.keras.Model(new_input, hidden_layer)"
      ],
      "execution_count": null,
      "outputs": []
    },
    {
      "cell_type": "code",
      "metadata": {
        "id": "Q3TnZ1ToRPGV"
      },
      "source": [
        "# Feel free to change these parameters according to your system's configuration\n",
        "\n",
        "BUFFER_SIZE = 1000\n",
        "embedding_dim = 256\n",
        "units = 512\n",
        "vocab_size = 6 # TODO Change\n",
        "num_steps = 10000\n",
        "# Shape of the vector extracted from InceptionV3 is (64, 2048)\n",
        "# These two variables represent that vector shape\n",
        "features_shape = 2048\n",
        "attention_features_shape = 64"
      ],
      "execution_count": null,
      "outputs": []
    },
    {
      "cell_type": "markdown",
      "metadata": {
        "id": "nrvoDphgRPGd"
      },
      "source": [
        "## Model\n",
        "\n",
        "\n",
        "\n",
        "Model architecture inspired by the [Show, Attend and Tell](https://arxiv.org/pdf/1502.03044.pdf) paper.\n",
        "\n",
        "* Extract the features from the lower convolutional layer of InceptionV3 giving us a vector of shape (8, 8, 2048).\n",
        "* Squash that to a shape of (64, 2048).\n",
        "* Vector passed through the CNN Encoder\n",
        "* The RNN (here GRU) attends over the image to predict the next word. TODO: Convert to transformer"
      ]
    },
    {
      "cell_type": "code",
      "metadata": {
        "id": "ja2LFTMSdeV3"
      },
      "source": [
        "class BahdanauAttention(tf.keras.Model):\n",
        "  def __init__(self, units):\n",
        "    super(BahdanauAttention, self).__init__()\n",
        "    self.W1 = tf.keras.layers.Dense(units)\n",
        "    self.W2 = tf.keras.layers.Dense(units)\n",
        "    self.V = tf.keras.layers.Dense(1)\n",
        "\n",
        "  def call(self, features, hidden):\n",
        "    # features(CNN_encoder output) shape == (batch_size, 64, embedding_dim)\n",
        "\n",
        "    # hidden shape == (batch_size, hidden_size)\n",
        "    # hidden_with_time_axis shape == (batch_size, 1, hidden_size)\n",
        "    hidden_with_time_axis = tf.expand_dims(hidden, 1)\n",
        "\n",
        "    # attention_hidden_layer shape == (batch_size, 64, units)\n",
        "    attention_hidden_layer = (tf.nn.tanh(self.W1(features) +\n",
        "                                         self.W2(hidden_with_time_axis)))\n",
        "\n",
        "    # score shape == (batch_size, 64, 1)\n",
        "    # This gives you an unnormalized score for each image feature.\n",
        "    score = self.V(attention_hidden_layer)\n",
        "\n",
        "    # attention_weights shape == (batch_size, 64, 1)\n",
        "    attention_weights = tf.nn.softmax(score, axis=1)\n",
        "\n",
        "    # context_vector shape after sum == (batch_size, hidden_size)\n",
        "    context_vector = attention_weights * features\n",
        "    context_vector = tf.reduce_sum(context_vector, axis=1)\n",
        "\n",
        "    return context_vector, attention_weights"
      ],
      "execution_count": null,
      "outputs": []
    },
    {
      "cell_type": "code",
      "metadata": {
        "id": "AZ7R1RxHRPGf"
      },
      "source": [
        "class CNN_Encoder(tf.keras.Model):\n",
        "    # Since you have already extracted the features and dumped it\n",
        "    # This encoder passes those features through a Fully connected layer\n",
        "    def __init__(self, embedding_dim):\n",
        "        super(CNN_Encoder, self).__init__()\n",
        "        # shape after fc == (batch_size, 64, embedding_dim)\n",
        "        self.fc = tf.keras.layers.Dense(embedding_dim)\n",
        "\n",
        "    def call(self, x):\n",
        "        x = self.fc(x)\n",
        "        x = tf.nn.relu(x)\n",
        "        return x"
      ],
      "execution_count": null,
      "outputs": []
    },
    {
      "cell_type": "code",
      "metadata": {
        "id": "V9UbGQmERPGi"
      },
      "source": [
        "class RNN_Decoder(tf.keras.Model):\n",
        "  def __init__(self, embedding_dim, units, vocab_size, position_size=2, dimension_size=2, color_size=3):\n",
        "    super(RNN_Decoder, self).__init__()\n",
        "    self.units = units\n",
        "\n",
        "    self.embedding = tf.keras.layers.Embedding(vocab_size, embedding_dim)\n",
        "    self.gru = tf.keras.layers.GRU(self.units,\n",
        "                                   return_sequences=True,\n",
        "                                   return_state=True,\n",
        "                                   recurrent_initializer='glorot_uniform')\n",
        "    self.fc1 = tf.keras.layers.Dense(self.units)\n",
        "    self.fc2 = tf.keras.layers.Dense(vocab_size)\n",
        "\n",
        "    self.fc_position = tf.keras.layers.Dense(position_size)\n",
        "    self.fc_dimension = tf.keras.layers.Dense(dimension_size)\n",
        "    self.fc_color = tf.keras.layers.Dense(color_size)\n",
        "    self.aux_size = position_size + dimension_size + color_size\n",
        "\n",
        "    self.attention = BahdanauAttention(self.units)\n",
        "\n",
        "  def call(self, prev_pred, prev_aux, features, hidden):\n",
        "    # defining attention as a separate model\n",
        "    context_vector, attention_weights = self.attention(features, hidden)\n",
        "\n",
        "    # x shape after passing through embedding == (batch_size, 1, embedding_dim)\n",
        "    x = self.embedding(prev_pred)\n",
        "\n",
        "    # x shape after concatenation == (batch_size, 1, embedding_dim + hidden_size)\n",
        "    x = tf.concat([tf.expand_dims(context_vector, 1), x, prev_aux], axis=-1)\n",
        "\n",
        "    # passing the concatenated vector to the GRU\n",
        "    output, state = self.gru(x)\n",
        "\n",
        "    # shape == (batch_size, max_length, hidden_size)\n",
        "    x = self.fc1(output)\n",
        "\n",
        "    # x shape == (batch_size * max_length, hidden_size)\n",
        "    x = tf.reshape(x, (-1, x.shape[2]))\n",
        "    position = self.fc_position(x)\n",
        "    dimensions = self.fc_dimension(x)\n",
        "    color = self.fc_color(x)\n",
        "    # output shape == (batch_size * max_length, vocab)\n",
        "    pred = self.fc2(x)\n",
        "    \n",
        "\n",
        "    return pred, position, dimensions, color, state, attention_weights\n",
        "\n",
        "  def reset_state(self, batch_size):\n",
        "    return tf.zeros((batch_size, self.units))"
      ],
      "execution_count": null,
      "outputs": []
    },
    {
      "cell_type": "code",
      "metadata": {
        "id": "Qs_Sr03wRPGk"
      },
      "source": [
        "encoder = CNN_Encoder(embedding_dim)\n",
        "decoder = RNN_Decoder(embedding_dim, units, vocab_size)"
      ],
      "execution_count": null,
      "outputs": []
    },
    {
      "cell_type": "code",
      "metadata": {
        "id": "-bYN7xA0RPGl"
      },
      "source": [
        "optimizer = tf.keras.optimizers.Adam()\n",
        "\n",
        "mse = tf.keras.losses.MeanSquaredError()\n",
        "\n",
        "loss_object = tf.keras.losses.SparseCategoricalCrossentropy(\n",
        "    from_logits=True, reduction='none')\n",
        "\n",
        "\n",
        "\n",
        "def loss_function(real, pred):\n",
        "  mask = tf.math.logical_not(tf.math.equal(real, 0))\n",
        "  loss_ = loss_object(real, pred)\n",
        "\n",
        "  mask = tf.cast(mask, dtype=loss_.dtype)\n",
        "  loss_ *= mask\n",
        "\n",
        "  return tf.reduce_mean(loss_)"
      ],
      "execution_count": null,
      "outputs": []
    },
    {
      "cell_type": "markdown",
      "metadata": {
        "id": "6A3Ni64joyab"
      },
      "source": [
        "## Checkpoint"
      ]
    },
    {
      "cell_type": "code",
      "metadata": {
        "colab": {
          "base_uri": "https://localhost:8080/",
          "height": 136
        },
        "id": "lU3sVr4VySOP",
        "outputId": "33cc20a8-c744-45eb-a13c-5beb3b148816"
      },
      "source": [
        "import wandb\n",
        "wandb.init(project=\"artificial_graphics\")\n",
        "wandb.run.name = args.run_name\n",
        "t = 0"
      ],
      "execution_count": null,
      "outputs": [
        {
          "output_type": "stream",
          "text": [
            "\u001b[34m\u001b[1mwandb\u001b[0m: Currently logged in as: \u001b[33msholto\u001b[0m (use `wandb login --relogin` to force relogin)\n"
          ],
          "name": "stderr"
        },
        {
          "output_type": "display_data",
          "data": {
            "text/html": [
              "\n",
              "                Tracking run with wandb version 0.10.32<br/>\n",
              "                Syncing run <strong style=\"color:#cdcd00\">swift-dust-51</strong> to <a href=\"https://wandb.ai\" target=\"_blank\">Weights & Biases</a> <a href=\"https://docs.wandb.com/integrations/jupyter.html\" target=\"_blank\">(Documentation)</a>.<br/>\n",
              "                Project page: <a href=\"https://wandb.ai/sholto/artificial_graphics\" target=\"_blank\">https://wandb.ai/sholto/artificial_graphics</a><br/>\n",
              "                Run page: <a href=\"https://wandb.ai/sholto/artificial_graphics/runs/3f6l4tw3\" target=\"_blank\">https://wandb.ai/sholto/artificial_graphics/runs/3f6l4tw3</a><br/>\n",
              "                Run data is saved locally in <code>/content/artificial_graphics/wandb/run-20210614_113252-3f6l4tw3</code><br/><br/>\n",
              "            "
            ],
            "text/plain": [
              "<IPython.core.display.HTML object>"
            ]
          },
          "metadata": {
            "tags": []
          }
        }
      ]
    },
    {
      "cell_type": "code",
      "metadata": {
        "id": "PpJAqPMWo0uE"
      },
      "source": [
        "checkpoint_path = str(STORAGE_PATH/f'saved_models/{args.run_name}')\n",
        "ckpt = tf.train.Checkpoint(encoder=encoder,\n",
        "                           decoder=decoder,\n",
        "                           optimizer=optimizer)\n",
        "ckpt_manager = tf.train.CheckpointManager(ckpt, checkpoint_path, max_to_keep=5)"
      ],
      "execution_count": null,
      "outputs": []
    },
    {
      "cell_type": "code",
      "metadata": {
        "id": "fUkbqhc_uObw"
      },
      "source": [
        "\n",
        "if ckpt_manager.latest_checkpoint:\n",
        "  start_epoch = int(ckpt_manager.latest_checkpoint.split('-')[-1])\n",
        "  # restoring the latest checkpoint in checkpoint_path\n",
        "  ckpt.restore(ckpt_manager.latest_checkpoint)"
      ],
      "execution_count": null,
      "outputs": []
    },
    {
      "cell_type": "markdown",
      "metadata": {
        "id": "PHod7t72RPGn"
      },
      "source": [
        "## Training\n",
        "\n"
      ]
    },
    {
      "cell_type": "code",
      "metadata": {
        "id": "sqgyz2ANKlpU"
      },
      "source": [
        "def accuracy(real, pred):\n",
        "  \n",
        "  padding = tf.cast(real != 0, tf.float32)\n",
        "  pred = tf.cast(tf.squeeze(tf.random.categorical(pred, 1)), tf.int32)\n",
        "  # print(padding*pred, padding)\n",
        "  \n",
        "  correct = tf.cast(real == pred, tf.float32)\n",
        "  return tf.reduce_sum(correct*padding) / tf.reduce_sum(padding) # multiply by padding to 0 out anything which is a pad and then divide by it to get dividue by non pads e.g ./5\n",
        "\n",
        "\n",
        "@tf.function\n",
        "def train_step(data):\n",
        "  class_loss = 0\n",
        "  aux_loss = 0\n",
        "  img_tensor, target = data['img'], data['target']\n",
        "  # initializing the hidden state for each batch\n",
        "  # because the captions are not related from image to image\n",
        "  hidden = decoder.reset_state(batch_size=target.shape[0])\n",
        "\n",
        "  dec_input = tf.expand_dims([1] * target.shape[0], 1)\n",
        "  aux_input  = tf.zeros([target.shape[0], 1, decoder.aux_size]) # B, Aux_size\n",
        "\n",
        "  img_features = image_features_extract_model(img_tensor)\n",
        "  img_features = tf.reshape(img_features, (img_features.shape[0], -1, img_features.shape[3]))\n",
        "\n",
        "  metrics = {}\n",
        "  with tf.GradientTape() as tape:\n",
        "      features = encoder(img_features)\n",
        "\n",
        "      for i in range(0, target.shape[1]):\n",
        "          # passing the features through the decoder\n",
        "          predictions, position, dimensions, color, hidden, _ = decoder(dec_input, aux_input, features, hidden)\n",
        "          class_loss += loss_function(target[:, i], predictions)\n",
        "          \n",
        "          aux_loss += (mse(data['pos'][:,i], position) + mse(data['dimensions'][:,i], dimensions) + mse(data['color'][:,i], color))\n",
        "          \n",
        "          metrics[f\"train_acc_step_{i}\"] =  accuracy(target[:,i], predictions)\n",
        "          \n",
        "          # using teacher forcing\n",
        "          dec_input = tf.expand_dims(target[:, i], 1)\n",
        "          aux_input  = tf.concat([data['pos'][:,i], data['dimensions'][:,i], data['color'][:,i]], -1)[:,tf.newaxis,:] # B, Aux_size\n",
        "          \n",
        "      loss = class_loss+aux_loss\n",
        "\n",
        "\n",
        "  trainable_variables = encoder.trainable_variables + decoder.trainable_variables\n",
        "\n",
        "  gradients = tape.gradient(loss, trainable_variables)\n",
        "\n",
        "  optimizer.apply_gradients(zip(gradients, trainable_variables))\n",
        "\n",
        "\n",
        "  metrics['train_class_loss'] =  class_loss / int(target.shape[1])\n",
        "  metrics['train_aux_loss'] =  aux_loss / int(target.shape[1])\n",
        "\n",
        "\n",
        "  return metrics\n",
        "\n",
        "@tf.function\n",
        "def step(data):\n",
        "  class_loss = 0\n",
        "  aux_loss = 0\n",
        "  img_tensor, target = data['img'], data['target']\n",
        "  # initializing the hidden state for each batch\n",
        "  # because the captions are not related from image to image\n",
        "  hidden = decoder.reset_state(batch_size=target.shape[0])\n",
        "\n",
        "  dec_input = tf.expand_dims([1] * target.shape[0], 1)\n",
        "  aux_input  = tf.zeros([target.shape[0], 1, decoder.aux_size]) # B, Aux_size\n",
        "\n",
        "  img_features = image_features_extract_model(img_tensor)\n",
        "  img_features = tf.reshape(img_features, (img_features.shape[0], -1, img_features.shape[3]))\n",
        "\n",
        "\n",
        "  features = encoder(img_features)\n",
        "  metrics = {}\n",
        "  for i in range(0, target.shape[1]):\n",
        "      # passing the features through the decoder\n",
        "      predictions, position, dimensions, color, hidden, _ = decoder(dec_input, aux_input, features, hidden)\n",
        "      class_loss += loss_function(target[:, i], predictions)\n",
        "      \n",
        "      aux_loss += (mse(data['pos'][:,i], position) + mse(data['dimensions'][:,i], dimensions) + mse(data['color'][:,i], color))\n",
        "      \n",
        "      metrics[f\"test_acc_step_{i}\"] =  accuracy(target[:,i], predictions)\n",
        "      \n",
        "      # using teacher forcing\n",
        "      dec_input = tf.expand_dims(target[:, i], 1)\n",
        "      aux_input  = tf.concat([data['pos'][:,i], data['dimensions'][:,i], data['color'][:,i]], -1)[:,tf.newaxis,:] # B, Aux_size\n",
        "\n",
        "\n",
        "  metrics['test_class_loss'] =  class_loss / int(target.shape[1])\n",
        "  metrics['test_aux_loss'] =  aux_loss / int(target.shape[1])\n",
        "  return metrics\n"
      ],
      "execution_count": null,
      "outputs": []
    },
    {
      "cell_type": "code",
      "metadata": {
        "id": "InEF9zlm9oq4"
      },
      "source": [
        "# data = train_dataset.next()\n",
        "# data.keys()\n",
        "# metrics = train_step(data)"
      ],
      "execution_count": null,
      "outputs": []
    },
    {
      "cell_type": "code",
      "metadata": {
        "id": "UlA4VIQpRPGo",
        "colab": {
          "base_uri": "https://localhost:8080/"
        },
        "outputId": "5a0da8bf-5f6f-4cea-ec65-d992d36f320e"
      },
      "source": [
        "\n",
        "while t < 3000:\n",
        "    data = train_dataset.next()\n",
        "    train_metrics = train_step(data)\n",
        "\n",
        "    if t % 100 == 0:\n",
        "        test_data = test_dataset.next()\n",
        "        test_metrics = step(test_data)\n",
        "        print(f'Batch {t} Loss {train_metrics[\"train_class_loss\"]:.4f} Valid loss {test_metrics[\"test_class_loss\"]:.4f}')\n",
        "        wandb.log(train_metrics, step=t)\n",
        "        wandb.log(test_metrics, step=t)\n",
        "    if t % 1000 == 0:\n",
        "      ckpt_manager.save()\n",
        "    t += 1\n"
      ],
      "execution_count": null,
      "outputs": [
        {
          "output_type": "stream",
          "text": [
            "Batch 1000 Loss 0.0007 Valid loss 0.0120\n",
            "Batch 1100 Loss 0.0026 Valid loss 0.0020\n",
            "Batch 1200 Loss 0.0014 Valid loss 0.0067\n",
            "Batch 1300 Loss 0.0010 Valid loss 0.0320\n",
            "Batch 1400 Loss 0.0118 Valid loss 0.0350\n",
            "Batch 1500 Loss 0.0006 Valid loss 0.0014\n",
            "Batch 1600 Loss 0.0013 Valid loss 0.0071\n",
            "Batch 1700 Loss 0.0001 Valid loss 0.0001\n",
            "Batch 1800 Loss 0.0001 Valid loss 0.0152\n",
            "Batch 1900 Loss 0.0011 Valid loss 0.0151\n",
            "Batch 2000 Loss 0.0001 Valid loss 0.0139\n",
            "Batch 2100 Loss 0.0001 Valid loss 0.0002\n",
            "Batch 2200 Loss 0.0003 Valid loss 0.0710\n",
            "Batch 2300 Loss 0.0000 Valid loss 0.0122\n",
            "Batch 2400 Loss 0.0000 Valid loss 0.0009\n",
            "Batch 2500 Loss 0.0001 Valid loss 0.0002\n",
            "Batch 2600 Loss 0.0001 Valid loss 0.0052\n",
            "Batch 2700 Loss 0.0000 Valid loss 0.0004\n",
            "Batch 2800 Loss 0.0001 Valid loss 0.0213\n",
            "Batch 2900 Loss 0.0000 Valid loss 0.0145\n"
          ],
          "name": "stdout"
        }
      ]
    },
    {
      "cell_type": "markdown",
      "metadata": {
        "id": "xGvOcLQKghXN"
      },
      "source": [
        "## Caption!\n",
        "\n",
        "* The evaluate function is similar to the training loop, except you don't use teacher forcing here. The input to the decoder at each time step is its previous predictions along with the hidden state and the encoder output.\n",
        "* Stop predicting when the model predicts the end token.\n",
        "* And store the attention weights for every time step."
      ]
    },
    {
      "cell_type": "code",
      "metadata": {
        "id": "Wc-mb1g_WyI_"
      },
      "source": [
        "shapes = { 2: '<end>', \n",
        "      3: 'Rectangle',\n",
        "       4: 'Chevron',\n",
        "        5: 'Oval'}"
      ],
      "execution_count": null,
      "outputs": []
    },
    {
      "cell_type": "code",
      "metadata": {
        "id": "RCWpDtyNRPGs"
      },
      "source": [
        "data = test_dataset.next()\n",
        "max_length = data['target'].shape[1]\n",
        "def evaluate(image):\n",
        "    attention_plot = np.zeros((max_length, attention_features_shape))\n",
        "\n",
        "    hidden = decoder.reset_state(batch_size=1)\n",
        "\n",
        "    temp_input = tf.expand_dims(image, 0)\n",
        "    img_tensor_val = image_features_extract_model(temp_input)\n",
        "    img_tensor_val = tf.reshape(img_tensor_val, (img_tensor_val.shape[0],\n",
        "                                                 -1,\n",
        "                                                 img_tensor_val.shape[3]))\n",
        "\n",
        "    features = encoder(img_tensor_val)\n",
        "\n",
        "    dec_input = tf.expand_dims([1], 0)\n",
        "    aux_input  = tf.zeros([1, 1, decoder.aux_size]) # B, Aux_size\n",
        "    result = []\n",
        "\n",
        "    print(\"#############################################################\")\n",
        "    for i in range(max_length):\n",
        "        predictions, position, dimensions, color, hidden, attention_weights = decoder(dec_input,aux_input,\n",
        "                                                         features,\n",
        "                                                         hidden)\n",
        "        \n",
        "\n",
        "        attention_plot[i] = tf.reshape(attention_weights, (-1, )).numpy()\n",
        "\n",
        "        predicted_id = tf.random.categorical(predictions, 1)[0][0].numpy()\n",
        "        print(f\"{shapes[predicted_id]} xy: {position.numpy()}, dims: {dimensions.numpy()}, color: {color.numpy()}\")\n",
        "        result.append(shapes[predicted_id])\n",
        "\n",
        "        if predicted_id == 2:\n",
        "            return result, attention_plot\n",
        "\n",
        "        dec_input = tf.expand_dims([predicted_id], 0)\n",
        "        aux_input  = tf.concat([position, dimensions, color], -1)[tf.newaxis,:] # B, Aux_size\n",
        "        \n",
        "\n",
        "    attention_plot = attention_plot[:len(result), :]\n",
        "    return result, attention_plot"
      ],
      "execution_count": null,
      "outputs": []
    },
    {
      "cell_type": "code",
      "metadata": {
        "id": "fD_y7PD6RPGt"
      },
      "source": [
        "def plot_attention(img, result, attention_plot):\n",
        "    temp_image = np.array(img)\n",
        "\n",
        "    fig = plt.figure(figsize=(10, 10))\n",
        "\n",
        "    len_result = len(result)\n",
        "    for i in range(len_result):\n",
        "        temp_att = np.resize(attention_plot[i], (8, 8))\n",
        "        grid_size = max(np.ceil(len_result/2), 2)\n",
        "        ax = fig.add_subplot(grid_size, grid_size, i+1)\n",
        "        ax.set_title(result[i])\n",
        "        img = ax.imshow(temp_image)\n",
        "        ax.imshow(temp_att, cmap='gray', alpha=0.6, extent=img.get_extent())\n",
        "\n",
        "    plt.tight_layout()\n",
        "    plt.show()"
      ],
      "execution_count": null,
      "outputs": []
    },
    {
      "cell_type": "code",
      "metadata": {
        "colab": {
          "base_uri": "https://localhost:8080/",
          "height": 303
        },
        "id": "PRrSF5uDwAvj",
        "outputId": "e70e7895-075a-4f56-cd61-c49f66287c54"
      },
      "source": [
        "data = test_dataset.next()\n",
        "image = data['img'][0]\n",
        "plt.imshow(image)"
      ],
      "execution_count": null,
      "outputs": [
        {
          "output_type": "stream",
          "text": [
            "WARNING:matplotlib.image:Clipping input data to the valid range for imshow with RGB data ([0..1] for floats or [0..255] for integers).\n"
          ],
          "name": "stderr"
        },
        {
          "output_type": "execute_result",
          "data": {
            "text/plain": [
              "<matplotlib.image.AxesImage at 0x7f9d2f969850>"
            ]
          },
          "metadata": {
            "tags": []
          },
          "execution_count": 85
        },
        {
          "output_type": "display_data",
          "data": {
            "image/png": "[encoded data removed]",
            "text/plain": [
              "<Figure size 432x288 with 1 Axes>"
            ]
          },
          "metadata": {
            "tags": [],
            "needs_background": "light"
          }
        }
      ]
    },
    {
      "cell_type": "code",
      "metadata": {
        "id": "7x8RiPHe_4qI",
        "colab": {
          "base_uri": "https://localhost:8080/",
          "height": 899
        },
        "outputId": "1be1b14c-12c0-4a89-a464-b17939f979c3"
      },
      "source": [
        "# captions on the validation set\n",
        "\n",
        "# real_caption = ' '.join([tokenizer.index_word[i]\n",
        "#                         for i in cap_val[rid] if i not in [0]])\n",
        "result, attention_plot = evaluate(image)\n",
        "\n",
        "# print('Real Caption:', real_caption)\n",
        "print('Prediction Caption:', ' '.join(result))\n",
        "plot_attention(image, result, attention_plot)"
      ],
      "execution_count": null,
      "outputs": [
        {
          "output_type": "stream",
          "text": [
            "WARNING:matplotlib.image:Clipping input data to the valid range for imshow with RGB data ([0..1] for floats or [0..255] for integers).\n",
            "WARNING:matplotlib.image:Clipping input data to the valid range for imshow with RGB data ([0..1] for floats or [0..255] for integers).\n",
            "WARNING:matplotlib.image:Clipping input data to the valid range for imshow with RGB data ([0..1] for floats or [0..255] for integers).\n",
            "WARNING:matplotlib.image:Clipping input data to the valid range for imshow with RGB data ([0..1] for floats or [0..255] for integers).\n"
          ],
          "name": "stderr"
        },
        {
          "output_type": "stream",
          "text": [
            "#############################################################\n",
            "Rectangle xy: [[0.18648396 0.27042237]], dims: [[0.1868974  0.27647915]], color: [[1.0024825e+00 5.9279283e-03 7.3973183e-04]]\n",
            "Oval xy: [[0.40564054 0.21832956]], dims: [[0.4073495  0.23040994]], color: [[0.15765555 0.74018496 0.10293642]]\n",
            "Rectangle xy: [[0.74011546 0.16269661]], dims: [[0.7330251  0.16624735]], color: [[0.9146353  0.01547972 0.06234065]]\n",
            "<end> xy: [[-0.0018371  -0.00206275]], dims: [[-0.0051395   0.00057941]], color: [[ 0.00313199 -0.00553162 -0.00714508]]\n",
            "Prediction Caption: Rectangle Oval Rectangle <end>\n"
          ],
          "name": "stdout"
        },
        {
          "output_type": "display_data",
          "data": {
            "image/png": "[encoded data removed]",
            "text/plain": [
              "<Figure size 720x720 with 4 Axes>"
            ]
          },
          "metadata": {
            "tags": [],
            "needs_background": "light"
          }
        }
      ]
    }
  ]
}