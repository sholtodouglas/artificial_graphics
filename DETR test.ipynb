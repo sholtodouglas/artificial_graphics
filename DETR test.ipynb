{
  "nbformat": 4,
  "nbformat_minor": 5,
  "metadata": {
    "kernelspec": {
      "name": "python3",
      "display_name": "Python 3.8.8 64-bit ('ProgramData': virtualenv)"
    },
    "language_info": {
      "codemirror_mode": {
        "name": "ipython",
        "version": 3
      },
      "file_extension": ".py",
      "mimetype": "text/x-python",
      "name": "python",
      "nbconvert_exporter": "python",
      "pygments_lexer": "ipython3",
      "version": "3.8.8"
    },
    "colab": {
      "name": "DETR test.ipynb",
      "provenance": [],
      "machine_shape": "hm"
    },
    "accelerator": "GPU",
    "widgets": {
      "application/vnd.jupyter.widget-state+json": {
        "9d78fccd5b70424386d6f7fa88b49dc9": {
          "model_module": "@jupyter-widgets/controls",
          "model_name": "VBoxModel",
          "state": {
            "_view_name": "VBoxView",
            "_dom_classes": [],
            "_model_name": "VBoxModel",
            "_view_module": "@jupyter-widgets/controls",
            "_model_module_version": "1.5.0",
            "_view_count": null,
            "_view_module_version": "1.5.0",
            "box_style": "",
            "layout": "IPY_MODEL_fc349db507c04ee8ab20d3a4fdf7de54",
            "_model_module": "@jupyter-widgets/controls",
            "children": [
              "IPY_MODEL_b88e10e6e4c14f229c376948c779f462",
              "IPY_MODEL_96c64debff9343bd9ff71503e099bb7c"
            ]
          }
        },
        "fc349db507c04ee8ab20d3a4fdf7de54": {
          "model_module": "@jupyter-widgets/base",
          "model_name": "LayoutModel",
          "state": {
            "_view_name": "LayoutView",
            "grid_template_rows": null,
            "right": null,
            "justify_content": null,
            "_view_module": "@jupyter-widgets/base",
            "overflow": null,
            "_model_module_version": "1.2.0",
            "_view_count": null,
            "flex_flow": null,
            "width": null,
            "min_width": null,
            "border": null,
            "align_items": null,
            "bottom": null,
            "_model_module": "@jupyter-widgets/base",
            "top": null,
            "grid_column": null,
            "overflow_y": null,
            "overflow_x": null,
            "grid_auto_flow": null,
            "grid_area": null,
            "grid_template_columns": null,
            "flex": null,
            "_model_name": "LayoutModel",
            "justify_items": null,
            "grid_row": null,
            "max_height": null,
            "align_content": null,
            "visibility": null,
            "align_self": null,
            "height": null,
            "min_height": null,
            "padding": null,
            "grid_auto_rows": null,
            "grid_gap": null,
            "max_width": null,
            "order": null,
            "_view_module_version": "1.2.0",
            "grid_template_areas": null,
            "object_position": null,
            "object_fit": null,
            "grid_auto_columns": null,
            "margin": null,
            "display": null,
            "left": null
          }
        },
        "b88e10e6e4c14f229c376948c779f462": {
          "model_module": "@jupyter-widgets/controls",
          "model_name": "LabelModel",
          "state": {
            "_view_name": "LabelView",
            "style": "IPY_MODEL_68aed993342f4239885b2977940a6e94",
            "_dom_classes": [],
            "description": "",
            "_model_name": "LabelModel",
            "placeholder": "​",
            "_view_module": "@jupyter-widgets/controls",
            "_model_module_version": "1.5.0",
            "value": " 0.01MB of 0.01MB uploaded (0.00MB deduped)\r",
            "_view_count": null,
            "_view_module_version": "1.5.0",
            "description_tooltip": null,
            "_model_module": "@jupyter-widgets/controls",
            "layout": "IPY_MODEL_6e41d74e8cb045939a9897413176b160"
          }
        },
        "96c64debff9343bd9ff71503e099bb7c": {
          "model_module": "@jupyter-widgets/controls",
          "model_name": "FloatProgressModel",
          "state": {
            "_view_name": "ProgressView",
            "style": "IPY_MODEL_b3aecdf5f6ef4c12a70d5e010e43a4ba",
            "_dom_classes": [],
            "description": "",
            "_model_name": "FloatProgressModel",
            "bar_style": "",
            "max": 1,
            "_view_module": "@jupyter-widgets/controls",
            "_model_module_version": "1.5.0",
            "value": 1,
            "_view_count": null,
            "_view_module_version": "1.5.0",
            "orientation": "horizontal",
            "min": 0,
            "description_tooltip": null,
            "_model_module": "@jupyter-widgets/controls",
            "layout": "IPY_MODEL_b90c7dc4f5ed4d0a89f2e2f45b02cf7a"
          }
        },
        "68aed993342f4239885b2977940a6e94": {
          "model_module": "@jupyter-widgets/controls",
          "model_name": "DescriptionStyleModel",
          "state": {
            "_view_name": "StyleView",
            "_model_name": "DescriptionStyleModel",
            "description_width": "",
            "_view_module": "@jupyter-widgets/base",
            "_model_module_version": "1.5.0",
            "_view_count": null,
            "_view_module_version": "1.2.0",
            "_model_module": "@jupyter-widgets/controls"
          }
        },
        "6e41d74e8cb045939a9897413176b160": {
          "model_module": "@jupyter-widgets/base",
          "model_name": "LayoutModel",
          "state": {
            "_view_name": "LayoutView",
            "grid_template_rows": null,
            "right": null,
            "justify_content": null,
            "_view_module": "@jupyter-widgets/base",
            "overflow": null,
            "_model_module_version": "1.2.0",
            "_view_count": null,
            "flex_flow": null,
            "width": null,
            "min_width": null,
            "border": null,
            "align_items": null,
            "bottom": null,
            "_model_module": "@jupyter-widgets/base",
            "top": null,
            "grid_column": null,
            "overflow_y": null,
            "overflow_x": null,
            "grid_auto_flow": null,
            "grid_area": null,
            "grid_template_columns": null,
            "flex": null,
            "_model_name": "LayoutModel",
            "justify_items": null,
            "grid_row": null,
            "max_height": null,
            "align_content": null,
            "visibility": null,
            "align_self": null,
            "height": null,
            "min_height": null,
            "padding": null,
            "grid_auto_rows": null,
            "grid_gap": null,
            "max_width": null,
            "order": null,
            "_view_module_version": "1.2.0",
            "grid_template_areas": null,
            "object_position": null,
            "object_fit": null,
            "grid_auto_columns": null,
            "margin": null,
            "display": null,
            "left": null
          }
        },
        "b3aecdf5f6ef4c12a70d5e010e43a4ba": {
          "model_module": "@jupyter-widgets/controls",
          "model_name": "ProgressStyleModel",
          "state": {
            "_view_name": "StyleView",
            "_model_name": "ProgressStyleModel",
            "description_width": "",
            "_view_module": "@jupyter-widgets/base",
            "_model_module_version": "1.5.0",
            "_view_count": null,
            "_view_module_version": "1.2.0",
            "bar_color": null,
            "_model_module": "@jupyter-widgets/controls"
          }
        },
        "b90c7dc4f5ed4d0a89f2e2f45b02cf7a": {
          "model_module": "@jupyter-widgets/base",
          "model_name": "LayoutModel",
          "state": {
            "_view_name": "LayoutView",
            "grid_template_rows": null,
            "right": null,
            "justify_content": null,
            "_view_module": "@jupyter-widgets/base",
            "overflow": null,
            "_model_module_version": "1.2.0",
            "_view_count": null,
            "flex_flow": null,
            "width": null,
            "min_width": null,
            "border": null,
            "align_items": null,
            "bottom": null,
            "_model_module": "@jupyter-widgets/base",
            "top": null,
            "grid_column": null,
            "overflow_y": null,
            "overflow_x": null,
            "grid_auto_flow": null,
            "grid_area": null,
            "grid_template_columns": null,
            "flex": null,
            "_model_name": "LayoutModel",
            "justify_items": null,
            "grid_row": null,
            "max_height": null,
            "align_content": null,
            "visibility": null,
            "align_self": null,
            "height": null,
            "min_height": null,
            "padding": null,
            "grid_auto_rows": null,
            "grid_gap": null,
            "max_width": null,
            "order": null,
            "_view_module_version": "1.2.0",
            "grid_template_areas": null,
            "object_position": null,
            "object_fit": null,
            "grid_auto_columns": null,
            "margin": null,
            "display": null,
            "left": null
          }
        },
        "02545af3be464a43855b79419f3bb4f8": {
          "model_module": "@jupyter-widgets/controls",
          "model_name": "HBoxModel",
          "state": {
            "_view_name": "HBoxView",
            "_dom_classes": [],
            "_model_name": "HBoxModel",
            "_view_module": "@jupyter-widgets/controls",
            "_model_module_version": "1.5.0",
            "_view_count": null,
            "_view_module_version": "1.5.0",
            "box_style": "",
            "layout": "IPY_MODEL_d922fa472dc242cd8d66fcf48375c3f5",
            "_model_module": "@jupyter-widgets/controls",
            "children": [
              "IPY_MODEL_ebcf76ec9c56487da742b75fbaf035f9",
              "IPY_MODEL_c0915be5a031484f94cd34b73c73b16e"
            ]
          }
        },
        "d922fa472dc242cd8d66fcf48375c3f5": {
          "model_module": "@jupyter-widgets/base",
          "model_name": "LayoutModel",
          "state": {
            "_view_name": "LayoutView",
            "grid_template_rows": null,
            "right": null,
            "justify_content": null,
            "_view_module": "@jupyter-widgets/base",
            "overflow": null,
            "_model_module_version": "1.2.0",
            "_view_count": null,
            "flex_flow": "row wrap",
            "width": "100%",
            "min_width": null,
            "border": null,
            "align_items": null,
            "bottom": null,
            "_model_module": "@jupyter-widgets/base",
            "top": null,
            "grid_column": null,
            "overflow_y": null,
            "overflow_x": null,
            "grid_auto_flow": null,
            "grid_area": null,
            "grid_template_columns": null,
            "flex": null,
            "_model_name": "LayoutModel",
            "justify_items": null,
            "grid_row": null,
            "max_height": null,
            "align_content": null,
            "visibility": null,
            "align_self": null,
            "height": null,
            "min_height": null,
            "padding": null,
            "grid_auto_rows": null,
            "grid_gap": null,
            "max_width": null,
            "order": null,
            "_view_module_version": "1.2.0",
            "grid_template_areas": null,
            "object_position": null,
            "object_fit": null,
            "grid_auto_columns": null,
            "margin": null,
            "display": "inline-flex",
            "left": null
          }
        },
        "ebcf76ec9c56487da742b75fbaf035f9": {
          "model_module": "@jupyter-widgets/controls",
          "model_name": "FloatProgressModel",
          "state": {
            "_view_name": "ProgressView",
            "style": "IPY_MODEL_a27ff0ba8407413ba7d83976d4bd1b50",
            "_dom_classes": [],
            "description": "Validating: 100%",
            "_model_name": "FloatProgressModel",
            "bar_style": "info",
            "max": 20,
            "_view_module": "@jupyter-widgets/controls",
            "_model_module_version": "1.5.0",
            "value": 20,
            "_view_count": null,
            "_view_module_version": "1.5.0",
            "orientation": "horizontal",
            "min": 0,
            "description_tooltip": null,
            "_model_module": "@jupyter-widgets/controls",
            "layout": "IPY_MODEL_e77483c888034edb8255980d12f39152"
          }
        },
        "c0915be5a031484f94cd34b73c73b16e": {
          "model_module": "@jupyter-widgets/controls",
          "model_name": "HTMLModel",
          "state": {
            "_view_name": "HTMLView",
            "style": "IPY_MODEL_06f4df8dc4da4145bcac5659a523eaa9",
            "_dom_classes": [],
            "description": "",
            "_model_name": "HTMLModel",
            "placeholder": "​",
            "_view_module": "@jupyter-widgets/controls",
            "_model_module_version": "1.5.0",
            "value": " 20/20 [01:09&lt;00:00,  3.47s/it]",
            "_view_count": null,
            "_view_module_version": "1.5.0",
            "description_tooltip": null,
            "_model_module": "@jupyter-widgets/controls",
            "layout": "IPY_MODEL_9c7770c9f51c4e5eaf342ba2e1190e4e"
          }
        },
        "a27ff0ba8407413ba7d83976d4bd1b50": {
          "model_module": "@jupyter-widgets/controls",
          "model_name": "ProgressStyleModel",
          "state": {
            "_view_name": "StyleView",
            "_model_name": "ProgressStyleModel",
            "description_width": "initial",
            "_view_module": "@jupyter-widgets/base",
            "_model_module_version": "1.5.0",
            "_view_count": null,
            "_view_module_version": "1.2.0",
            "bar_color": null,
            "_model_module": "@jupyter-widgets/controls"
          }
        },
        "e77483c888034edb8255980d12f39152": {
          "model_module": "@jupyter-widgets/base",
          "model_name": "LayoutModel",
          "state": {
            "_view_name": "LayoutView",
            "grid_template_rows": null,
            "right": null,
            "justify_content": null,
            "_view_module": "@jupyter-widgets/base",
            "overflow": null,
            "_model_module_version": "1.2.0",
            "_view_count": null,
            "flex_flow": null,
            "width": null,
            "min_width": null,
            "border": null,
            "align_items": null,
            "bottom": null,
            "_model_module": "@jupyter-widgets/base",
            "top": null,
            "grid_column": null,
            "overflow_y": null,
            "overflow_x": null,
            "grid_auto_flow": null,
            "grid_area": null,
            "grid_template_columns": null,
            "flex": "2",
            "_model_name": "LayoutModel",
            "justify_items": null,
            "grid_row": null,
            "max_height": null,
            "align_content": null,
            "visibility": null,
            "align_self": null,
            "height": null,
            "min_height": null,
            "padding": null,
            "grid_auto_rows": null,
            "grid_gap": null,
            "max_width": null,
            "order": null,
            "_view_module_version": "1.2.0",
            "grid_template_areas": null,
            "object_position": null,
            "object_fit": null,
            "grid_auto_columns": null,
            "margin": null,
            "display": null,
            "left": null
          }
        },
        "06f4df8dc4da4145bcac5659a523eaa9": {
          "model_module": "@jupyter-widgets/controls",
          "model_name": "DescriptionStyleModel",
          "state": {
            "_view_name": "StyleView",
            "_model_name": "DescriptionStyleModel",
            "description_width": "",
            "_view_module": "@jupyter-widgets/base",
            "_model_module_version": "1.5.0",
            "_view_count": null,
            "_view_module_version": "1.2.0",
            "_model_module": "@jupyter-widgets/controls"
          }
        },
        "9c7770c9f51c4e5eaf342ba2e1190e4e": {
          "model_module": "@jupyter-widgets/base",
          "model_name": "LayoutModel",
          "state": {
            "_view_name": "LayoutView",
            "grid_template_rows": null,
            "right": null,
            "justify_content": null,
            "_view_module": "@jupyter-widgets/base",
            "overflow": null,
            "_model_module_version": "1.2.0",
            "_view_count": null,
            "flex_flow": null,
            "width": null,
            "min_width": null,
            "border": null,
            "align_items": null,
            "bottom": null,
            "_model_module": "@jupyter-widgets/base",
            "top": null,
            "grid_column": null,
            "overflow_y": null,
            "overflow_x": null,
            "grid_auto_flow": null,
            "grid_area": null,
            "grid_template_columns": null,
            "flex": null,
            "_model_name": "LayoutModel",
            "justify_items": null,
            "grid_row": null,
            "max_height": null,
            "align_content": null,
            "visibility": null,
            "align_self": null,
            "height": null,
            "min_height": null,
            "padding": null,
            "grid_auto_rows": null,
            "grid_gap": null,
            "max_width": null,
            "order": null,
            "_view_module_version": "1.2.0",
            "grid_template_areas": null,
            "object_position": null,
            "object_fit": null,
            "grid_auto_columns": null,
            "margin": null,
            "display": null,
            "left": null
          }
        }
      }
    },
    "interpreter": {
      "hash": "b3ba2566441a7c06988d0923437866b63cedc61552a5af99d1f4fb67d367b25f"
    }
  },
  "cells": [
    {
      "cell_type": "code",
      "metadata": {
        "colab": {
          "base_uri": "https://localhost:8080/"
        },
        "id": "vwpK68LVsWYM",
        "outputId": "942f5c82-d7ba-4fbb-91c3-ab88c50bbcea"
      },
      "source": [
        "import requests\n",
        "r = requests.get('https://ipinfo.io')\n",
        "region = r.json()['region']\n",
        "r.json()"
      ],
      "id": "vwpK68LVsWYM",
      "execution_count": 1,
      "outputs": [
        {
          "output_type": "execute_result",
          "data": {
            "text/plain": [
              "{'ip': '120.152.35.253',\n",
              " 'hostname': 'cpe-120-152-35-253.nb03.nsw.asp.telstra.net',\n",
              " 'city': 'Sydney',\n",
              " 'region': 'New South Wales',\n",
              " 'country': 'AU',\n",
              " 'loc': '-33.8678,151.2073',\n",
              " 'org': 'AS1221 Telstra Corporation Ltd',\n",
              " 'postal': '1001',\n",
              " 'timezone': 'Australia/Sydney',\n",
              " 'readme': 'https://ipinfo.io/missingauth'}"
            ]
          },
          "metadata": {},
          "execution_count": 1
        }
      ]
    },
    {
      "cell_type": "code",
      "metadata": {
        "colab": {
          "base_uri": "https://localhost:8080/"
        },
        "id": "s4Tw9MYYp-Xx",
        "outputId": "cab9dbe3-41cb-45da-c478-576f29a1ca80"
      },
      "source": [
        "!pip install pathy -q\n",
        "!pip install wandb -q\n",
        "!pip install -q git+https://github.com/huggingface/transformers.git timm\n",
        "!pip install -q pytorch-lightning"
      ],
      "id": "s4Tw9MYYp-Xx",
      "execution_count": null,
      "outputs": [
        {
          "output_type": "stream",
          "text": [
            "  Installing build dependencies ... \u001b[?25l\u001b[?25hdone\n",
            "  Getting requirements to build wheel ... \u001b[?25l\u001b[?25hdone\n",
            "    Preparing wheel metadata ... \u001b[?25l\u001b[?25hdone\n",
            "  Building wheel for transformers (PEP 517) ... \u001b[?25l\u001b[?25hdone\n"
          ],
          "name": "stdout"
        }
      ]
    },
    {
      "cell_type": "code",
      "metadata": {
        "id": "lf0sC2ohsULu"
      },
      "source": [
        "import argparse\n",
        "from natsort import natsorted\n",
        "\n",
        "parser = argparse.ArgumentParser(description='AG training arguments')\n",
        "parser.add_argument('run_name')\n",
        "parser.add_argument('--train_datasets', nargs='+', help='Training dataset names')\n",
        "parser.add_argument('--test_datasets', nargs='+', help='Testing dataset names')\n",
        "parser.add_argument('-c', '--colab', default=False, action='store_true', help='Enable if using colab environment')\n",
        "parser.add_argument('-s', '--data_source', default='DRIVE', help='Source of training data')\n",
        "parser.add_argument('-d', '--device', default='TPU', help='Hardware device to train on')\n",
        "parser.add_argument('-b', '--batch_size', default=16, type=int)\n",
        "parser.add_argument('-lr', '--learning_rate', type=float, default=2e-4)\n",
        "parser.add_argument('-t', '--train_steps', type=int, default=1000)\n",
        "parser.add_argument('--bucket_name', help='GCS bucket name to stream data from')\n",
        "parser.add_argument('--tpu_name', help='GCP TPU name') # Only used in the script on GCP\n",
        "\n",
        "\n",
        "\n",
        "# ### Sample local config\n",
        "# args = parser.parse_args('''\n",
        "# dummy_run2 \n",
        "# --train_dataset rgb_ppt/train\n",
        "# --test_dataset rgb_ppt/val\n",
        "# -c\n",
        "# -s GCS\n",
        "# --bucket_name lfp_europe_west4_a\n",
        "# '''.split())\n",
        "\n",
        "### Sample local config\n",
        "args = parser.parse_args('''\n",
        "dummy_run2 \n",
        "--train_dataset rgb_ppt/train\n",
        "--test_dataset rgb_ppt/val\n",
        "-s LOCAL\n",
        "--bucket_name lfp_europe_west4_a\n",
        "'''.split())"
      ],
      "id": "lf0sC2ohsULu",
      "execution_count": 6,
      "outputs": []
    },
    {
      "cell_type": "code",
      "metadata": {
        "cellView": "form",
        "colab": {
          "base_uri": "https://localhost:8080/"
        },
        "id": "au8ZNw-5tWpU",
        "outputId": "412d5d0c-07b2-40bf-af9f-8ad92b522c85"
      },
      "source": [
        "from pathlib import Path\n",
        "from pathy import Pathy\n",
        "import os\n",
        "import requests\n",
        "import json\n",
        "import pprint\n",
        "import logging\n",
        "import numpy as np\n",
        "import tensorflow as tf\n",
        "import time\n",
        "\n",
        "\n",
        "\n",
        "pp = pprint.PrettyPrinter(indent=4)\n",
        "# In[4]:\n",
        "\n",
        "\n",
        "#@title Workpace Setup (Local vs Colab)\n",
        "\n",
        "# Set up working directory and libraries\n",
        "if args.colab:\n",
        "    from google.colab import drive, auth\n",
        "    print('Using colab setup')\n",
        "    WORKING_PATH = Path('/content/artificial_graphics')\n",
        "    # Clone repo\n",
        "    try:\n",
        "        get_ipython().system(\"git clone 'https://github.com/sholtodouglas/artificial_graphics' {WORKING_PATH}\")\n",
        "    except: \n",
        "        pass\n",
        "    # Mount drive\n",
        "    drive.mount('/content/drive')\n",
        "else:\n",
        "    print('Using local setup')\n",
        "    WORKING_PATH = Path.cwd()\n",
        "    print(f'Working path: {WORKING_PATH}')\n",
        "\n",
        "# Change working directory to artificial_graphics\n",
        "os.chdir(WORKING_PATH)\n",
        "import lib\n",
        "\n",
        "# Set up storage directory and datasets\n",
        "if args.data_source == 'DRIVE':\n",
        "    assert args.colab, \"Must be using Colab\"\n",
        "    print('Reading data from Google Drive')\n",
        "    STORAGE_PATH = Path('/content/drive/My Drive/artificial_graphics')\n",
        "elif args.data_source == 'GCS':\n",
        "    if args.colab:\n",
        "      auth.authenticate_user()\n",
        "    print('Reading data from Google Cloud Storage')\n",
        "    r = requests.get('https://ipinfo.io')\n",
        "    region = r.json()['region']\n",
        "    project_id = 'learning-from-play-303306'\n",
        "    logging.warning(f'You are accessing GCS data from {region}, make sure this is the same as your bucket {args.bucket_name}')\n",
        "    STORAGE_PATH = Pathy(f'gs://{args.bucket_name}')\n",
        "else:\n",
        "    print('Reading data from local filesystem')\n",
        "    STORAGE_PATH = WORKING_PATH\n",
        "\n",
        "print(f'Storage path: {STORAGE_PATH}')\n",
        "TRAIN_DATA_PATHS = [STORAGE_PATH/'data'/x for x in args.train_datasets]\n",
        "TEST_DATA_PATHS = [STORAGE_PATH/'data'/x for x in args.test_datasets]"
      ],
      "id": "au8ZNw-5tWpU",
      "execution_count": 7,
      "outputs": [
        {
          "output_type": "stream",
          "name": "stdout",
          "text": [
            "Using local setup\nWorking path: c:\\Users\\Sholto Douglas\\Desktop\\artificial_graphics\nReading data from local filesystem\nStorage path: c:\\Users\\Sholto Douglas\\Desktop\\artificial_graphics\n"
          ]
        }
      ]
    },
    {
      "cell_type": "markdown",
      "metadata": {
        "id": "Bew8Z1nLtpEa"
      },
      "source": [
        "## With Pytorch - we have to copy the data over\n"
      ],
      "id": "Bew8Z1nLtpEa"
    },
    {
      "cell_type": "code",
      "metadata": {
        "colab": {
          "base_uri": "https://localhost:8080/"
        },
        "id": "KmesGK6wt-HQ",
        "outputId": "283bafdb-6b3e-49c7-8962-45c2d675377d"
      },
      "source": [
        "import subprocess\n",
        "!mkdir data\n",
        "!mkdir saved_models\n",
        "subprocess.call([\"gsutil\", \"-m\", \"cp\", \"-r\", f\"{TRAIN_DATA_PATHS[0]}\", \"data\"])\n",
        "subprocess.call([\"gsutil\", \"-m\", \"cp\", \"-r\", f\"{TEST_DATA_PATHS[0]}\", \"data\"])"
      ],
      "id": "KmesGK6wt-HQ",
      "execution_count": null,
      "outputs": []
    },
    {
      "cell_type": "markdown",
      "metadata": {
        "id": "a77428df"
      },
      "source": [
        "## Create PyTorch dataset + dataloaders\n",
        "\n",
        "Here we define a regular PyTorch dataset. Each item of the dataset is an image and corresponding annotations. Torchvision already provides a `CocoDetection` dataset, which we can use. We only add a feature extractor (`DetrFeatureExtractor`) to resize + normalize the images, and to turn the annotations (which are in COCO format) in the format that DETR expects. It will also resize the annotations accordingly."
      ],
      "id": "a77428df"
    },
    {
      "cell_type": "code",
      "metadata": {
        "id": "77e69478"
      },
      "source": [
        "DATA_BASE = 'data/rgb_ppt'"
      ],
      "id": "77e69478",
      "execution_count": 11,
      "outputs": []
    },
    {
      "cell_type": "code",
      "metadata": {
        "id": "3001804b"
      },
      "source": [
        "import torchvision\n",
        "import os\n",
        "\n",
        "class CocoDetection(torchvision.datasets.CocoDetection):\n",
        "    def __init__(self, img_folder, feature_extractor, train=True):\n",
        "        ann_file = os.path.join(img_folder, \"custom_train.json\" if train else \"custom_val.json\")\n",
        "        super(CocoDetection, self).__init__(img_folder, ann_file)\n",
        "        self.feature_extractor = feature_extractor\n",
        "\n",
        "    def __getitem__(self, idx):\n",
        "        # read in PIL image and target in COCO format\n",
        "        img, target = super(CocoDetection, self).__getitem__(idx)\n",
        "        \n",
        "        # preprocess image and target (converting target to DETR format, resizing + normalization of both image and target)\n",
        "        image_id = self.ids[idx]\n",
        "        target = {'image_id': image_id, 'annotations': target}\n",
        "        encoding = self.feature_extractor(images=img, annotations=target, return_tensors=\"pt\")\n",
        "        pixel_values = encoding[\"pixel_values\"].squeeze() # remove batch dimension\n",
        "        rotation = torch.as_tensor([a['rotation'] for a in target['annotations']])\n",
        "        fill = torch.as_tensor([a['fill'] for a in target['annotations']])\n",
        "        target = encoding[\"target\"][0] # remove batch dimension\n",
        "        target['rotation'] = rotation\n",
        "        target['fill'] = fill\n",
        "        return pixel_values, target"
      ],
      "id": "3001804b",
      "execution_count": 12,
      "outputs": []
    },
    {
      "cell_type": "code",
      "metadata": {
        "colab": {
          "base_uri": "https://localhost:8080/"
        },
        "id": "86a2677d",
        "outputId": "e0573491-0467-4444-e9d7-4c2d8407f518"
      },
      "source": [
        "# Based on the class defined above, we create training and validation datasets.\n",
        "from transformers import DetrFeatureExtractor\n",
        "\n",
        "feature_extractor = DetrFeatureExtractor.from_pretrained(\"facebook/detr-resnet-50\")\n",
        "\n",
        "train_dataset = CocoDetection(img_folder=f'{DATA_BASE}/train', feature_extractor=feature_extractor)\n",
        "val_dataset = CocoDetection(img_folder=f'{DATA_BASE}/val', feature_extractor=feature_extractor, train=False)"
      ],
      "id": "86a2677d",
      "execution_count": 13,
      "outputs": [
        {
          "output_type": "stream",
          "name": "stdout",
          "text": [
            "loading annotations into memory...\n",
            "Done (t=1.21s)\n",
            "creating index...\n",
            "index created!\n",
            "loading annotations into memory...\n",
            "Done (t=0.01s)\n",
            "creating index...\n",
            "index created!\n"
          ]
        }
      ]
    },
    {
      "cell_type": "code",
      "metadata": {
        "colab": {
          "base_uri": "https://localhost:8080/"
        },
        "id": "d393d468",
        "outputId": "c19813c4-846e-4698-c920-d0d1b006d915"
      },
      "source": [
        "print(\"Number of training examples:\", len(train_dataset))\n",
        "print(\"Number of validation examples:\", len(val_dataset))"
      ],
      "id": "d393d468",
      "execution_count": 14,
      "outputs": [
        {
          "output_type": "stream",
          "name": "stdout",
          "text": [
            "Number of training examples: 24000\nNumber of validation examples: 120\n"
          ]
        }
      ]
    },
    {
      "cell_type": "code",
      "metadata": {
        "colab": {
          "base_uri": "https://localhost:8080/",
          "height": 574
        },
        "id": "014637a0",
        "outputId": "60eedaa9-6018-4117-a774-5290d3939583"
      },
      "source": [
        "import numpy as np\n",
        "import os\n",
        "from PIL import Image, ImageDraw\n",
        "\n",
        "# based on https://github.com/woctezuma/finetune-detr/blob/master/finetune_detr.ipynb\n",
        "image_ids = train_dataset.coco.getImgIds()\n",
        "# let's pick a random image\n",
        "image_id = image_ids[np.random.randint(0, len(image_ids))]\n",
        "print('Image n°{}'.format(image_id))\n",
        "image = train_dataset.coco.loadImgs(image_id)[0]\n",
        "image = Image.open(os.path.join(f'{DATA_BASE}/train', image['file_name']))\n",
        "\n",
        "annotations = train_dataset.coco.imgToAnns[image_id]\n",
        "draw = ImageDraw.Draw(image, \"RGBA\")\n",
        "\n",
        "cats = train_dataset.coco.cats\n",
        "id2label = {k: v['name'] for k,v in cats.items()}\n",
        "\n",
        "for annotation in annotations:\n",
        "  box = annotation['bbox']\n",
        "  class_idx = annotation['category_id']\n",
        "  x,y,w,h = tuple(box)\n",
        "  draw.rectangle((x,y,x+w,y+h), outline='red', width=1)\n",
        "  draw.text((x, y), id2label[class_idx], fill='black')\n",
        "\n",
        "image"
      ],
      "id": "014637a0",
      "execution_count": 15,
      "outputs": [
        {
          "output_type": "stream",
          "name": "stdout",
          "text": [
            "Image n°13369\n"
          ]
        },
        {
          "output_type": "execute_result",
          "data": {
            "text/plain": [
              "<PIL.JpegImagePlugin.JpegImageFile image mode=RGB size=960x540 at 0x1FE23412100>"
            ],
            "image/png": "[encoded data removed]"
          },
          "metadata": {},
          "execution_count": 15
        }
      ]
    },
    {
      "cell_type": "code",
      "metadata": {
        "id": "03948d85"
      },
      "source": [
        "from torch.utils.data import DataLoader\n",
        "\n",
        "def collate_fn(batch):\n",
        "  pixel_values = [item[0] for item in batch]\n",
        "  encoding = feature_extractor.pad_and_create_pixel_mask(pixel_values, return_tensors=\"pt\")\n",
        "  labels = [item[1] for item in batch]\n",
        "  batch = {}\n",
        "  batch['pixel_values'] = encoding['pixel_values']\n",
        "  batch['pixel_mask'] = encoding['pixel_mask']\n",
        "  batch['labels'] = labels\n",
        "  return batch\n",
        "\n",
        "train_dataloader = DataLoader(train_dataset, collate_fn=collate_fn, batch_size=4, shuffle=True, num_workers = 3)\n",
        "val_dataloader = DataLoader(val_dataset, collate_fn=collate_fn, batch_size=4, shuffle=True, num_workers = 3)\n",
        "t_it = iter(train_dataloader)\n",
        "batch = next(t_it)"
      ],
      "id": "03948d85",
      "execution_count": null,
      "outputs": []
    },
    {
      "cell_type": "code",
      "metadata": {
        "id": "3362a4b1"
      },
      "source": [
        "# batch = next(t_it)\n",
        "# import matplotlib.pyplot as plt\n",
        "# for i in range(0,4):\n",
        "#     plt.imshow(batch['pixel_values'][i].permute(1,2,0))\n",
        "#     plt.show()"
      ],
      "id": "3362a4b1",
      "execution_count": null,
      "outputs": []
    },
    {
      "cell_type": "code",
      "metadata": {
        "id": "c0d75657"
      },
      "source": [
        "import lib\n",
        "import lib.DETR"
      ],
      "id": "c0d75657",
      "execution_count": null,
      "outputs": []
    },
    {
      "cell_type": "code",
      "metadata": {
        "colab": {
          "base_uri": "https://localhost:8080/"
        },
        "id": "QEy3dEAdxdGy",
        "outputId": "d65e47fb-f793-4085-ff94-4838f0239096"
      },
      "source": [
        "!git pull"
      ],
      "id": "QEy3dEAdxdGy",
      "execution_count": null,
      "outputs": [
        {
          "output_type": "stream",
          "text": [
            "remote: Enumerating objects: 5, done.\u001b[K\n",
            "remote: Counting objects:  20% (1/5)\u001b[K\rremote: Counting objects:  40% (2/5)\u001b[K\rremote: Counting objects:  60% (3/5)\u001b[K\rremote: Counting objects:  80% (4/5)\u001b[K\rremote: Counting objects: 100% (5/5)\u001b[K\rremote: Counting objects: 100% (5/5), done.\u001b[K\n",
            "remote: Compressing objects:  33% (1/3)\u001b[K\rremote: Compressing objects:  66% (2/3)\u001b[K\rremote: Compressing objects: 100% (3/3)\u001b[K\rremote: Compressing objects: 100% (3/3), done.\u001b[K\n",
            "Unpacking objects:  33% (1/3)   \rUnpacking objects:  66% (2/3)   \rremote: Total 3 (delta 1), reused 0 (delta 0), pack-reused 0\u001b[K\n",
            "Unpacking objects: 100% (3/3)   \rUnpacking objects: 100% (3/3), done.\n",
            "From https://github.com/sholtodouglas/artificial_graphics\n",
            "   fccb9dc..bb0366c  main       -> origin/main\n",
            "Updating fccb9dc..bb0366c\n",
            "Fast-forward\n",
            " DETR test.ipynb | 6804 \u001b[32m+++++++++++++++++++++++++++++++++++++\u001b[m\u001b[31m------------------\u001b[m\n",
            " 1 file changed, 4602 insertions(+), 2202 deletions(-)\n"
          ],
          "name": "stdout"
        }
      ]
    },
    {
      "cell_type": "code",
      "metadata": {
        "colab": {
          "base_uri": "https://localhost:8080/"
        },
        "id": "bb1c17f4",
        "outputId": "1dcc2d0c-24b2-4ba1-89f4-fb0eeaa4343d"
      },
      "source": [
        "from importlib import reload\n",
        "reload(lib)\n",
        "reload(lib.DETR)"
      ],
      "id": "bb1c17f4",
      "execution_count": null,
      "outputs": [
        {
          "output_type": "execute_result",
          "data": {
            "text/plain": [
              "<module 'lib.DETR' from '/content/artificial_graphics/lib/DETR.py'>"
            ]
          },
          "metadata": {
            "tags": []
          },
          "execution_count": 81
        }
      ]
    },
    {
      "cell_type": "code",
      "metadata": {
        "colab": {
          "base_uri": "https://localhost:8080/",
          "height": 967,
          "referenced_widgets": [
            "9d78fccd5b70424386d6f7fa88b49dc9",
            "fc349db507c04ee8ab20d3a4fdf7de54",
            "b88e10e6e4c14f229c376948c779f462",
            "96c64debff9343bd9ff71503e099bb7c",
            "68aed993342f4239885b2977940a6e94",
            "6e41d74e8cb045939a9897413176b160",
            "b3aecdf5f6ef4c12a70d5e010e43a4ba",
            "b90c7dc4f5ed4d0a89f2e2f45b02cf7a"
          ]
        },
        "id": "ZENcngZC-UIx",
        "outputId": "41ad5d86-218b-4573-8013-189501e24ef9"
      },
      "source": [
        "import wandb\n",
        "wandb.init(project=\"artificial_graphics_v3\")\n",
        "wandb.run.name = args.run_name"
      ],
      "id": "ZENcngZC-UIx",
      "execution_count": null,
      "outputs": [
        {
          "output_type": "display_data",
          "data": {
            "text/html": [
              "Finishing last run (ID:3cal2ssu) before initializing another..."
            ],
            "text/plain": [
              "<IPython.core.display.HTML object>"
            ]
          },
          "metadata": {
            "tags": []
          }
        },
        {
          "output_type": "display_data",
          "data": {
            "text/html": [
              "<br/>Waiting for W&B process to finish, PID 3783<br/>Program ended successfully."
            ],
            "text/plain": [
              "<IPython.core.display.HTML object>"
            ]
          },
          "metadata": {
            "tags": []
          }
        },
        {
          "output_type": "display_data",
          "data": {
            "application/vnd.jupyter.widget-view+json": {
              "model_id": "9d78fccd5b70424386d6f7fa88b49dc9",
              "version_minor": 0,
              "version_major": 2
            },
            "text/plain": [
              "VBox(children=(Label(value=' 0.00MB of 0.00MB uploaded (0.00MB deduped)\\r'), FloatProgress(value=1.0, max=1.0)…"
            ]
          },
          "metadata": {
            "tags": []
          }
        },
        {
          "output_type": "display_data",
          "data": {
            "text/html": [
              "Find user logs for this run at: <code>/content/artificial_graphics/wandb/run-20210620_122135-3cal2ssu/logs/debug.log</code>"
            ],
            "text/plain": [
              "<IPython.core.display.HTML object>"
            ]
          },
          "metadata": {
            "tags": []
          }
        },
        {
          "output_type": "display_data",
          "data": {
            "text/html": [
              "Find internal logs for this run at: <code>/content/artificial_graphics/wandb/run-20210620_122135-3cal2ssu/logs/debug-internal.log</code>"
            ],
            "text/plain": [
              "<IPython.core.display.HTML object>"
            ]
          },
          "metadata": {
            "tags": []
          }
        },
        {
          "output_type": "display_data",
          "data": {
            "text/html": [
              "<h3>Run summary:</h3><br/><style>\n",
              "    table.wandb td:nth-child(1) { padding: 0 10px; text-align: right }\n",
              "    </style><table class=\"wandb\">\n",
              "<tr><td>validation_loss_ce</td><td>0.21758</td></tr><tr><td>validation_loss_bbox</td><td>0.02362</td></tr><tr><td>validation_loss_giou</td><td>0.23239</td></tr><tr><td>validation_cardinality_error</td><td>1.5</td></tr><tr><td>validation_loss</td><td>0.80049</td></tr><tr><td>train_loss_ce</td><td>0.23793</td></tr><tr><td>train_loss_bbox</td><td>0.03072</td></tr><tr><td>train_loss_giou</td><td>0.18042</td></tr><tr><td>train_cardinality_error</td><td>3.25</td></tr><tr><td>train_loss</td><td>0.75235</td></tr><tr><td>_runtime</td><td>8386</td></tr><tr><td>_timestamp</td><td>1624200082</td></tr><tr><td>_step</td><td>1999</td></tr></table>"
            ],
            "text/plain": [
              "<IPython.core.display.HTML object>"
            ]
          },
          "metadata": {
            "tags": []
          }
        },
        {
          "output_type": "display_data",
          "data": {
            "text/html": [
              "<h3>Run history:</h3><br/><style>\n",
              "    table.wandb td:nth-child(1) { padding: 0 10px; text-align: right }\n",
              "    </style><table class=\"wandb\">\n",
              "<tr><td>validation_loss_ce</td><td>█▄▃▃▂▂▁▁▁▁▁</td></tr><tr><td>validation_loss_bbox</td><td>█▁▁▃▂▁▁▁▂▁▁</td></tr><tr><td>validation_loss_giou</td><td>█▃▂▃▂▁▁▂▃▂▁</td></tr><tr><td>validation_cardinality_error</td><td>█▁▁▁▁▂▁▁▁▁▁</td></tr><tr><td>validation_loss</td><td>█▃▂▃▂▁▁▂▂▁▁</td></tr><tr><td>train_loss_ce</td><td>█▆▆▆▅▆▅▄▄▄▃▃▃▃▂▃▂▂▂▂▂▃▃▁▃▂▂▃▂▂▂▃▁▁▁▁▁▂▂▁</td></tr><tr><td>train_loss_bbox</td><td>█▃▇▂▃▃▁▂▄▃▂▂▁▁▃▂▂▂▃▂▂▄▃▂▅▃▂▃▁▃▂▄▃▂▁▂▂▂▄▂</td></tr><tr><td>train_loss_giou</td><td>▇▄▅▅▅▄▂▂▄▇▅▅▁▅▃▄▄▅▃▆▂▄▅▅█▄▄▄▆▇█▆▅▂▃▄▄▅▆▄</td></tr><tr><td>train_cardinality_error</td><td>▃▄▄▅▄▃▄▂▂▁▃▁▃▁▃▂▄▃▅█▄▂▂▄▄▁▃▅▃▁▂▄▂▁▄▁▂▁▃▁</td></tr><tr><td>train_loss</td><td>█▅▆▅▅▅▃▃▄▄▃▃▁▃▂▃▂▂▂▃▁▃▃▂▄▂▂▃▂▃▃▄▂▁▁▂▂▃▃▁</td></tr><tr><td>_runtime</td><td>▁▁▁▁▂▂▂▂▂▃▃▃▃▃▃▄▄▄▄▄▅▅▅▅▅▆▆▆▆▆▆▇▇▇▇▇████</td></tr><tr><td>_timestamp</td><td>▁▁▁▁▂▂▂▂▂▃▃▃▃▃▃▄▄▄▄▄▅▅▅▅▅▆▆▆▆▆▆▇▇▇▇▇████</td></tr><tr><td>_step</td><td>▁▁▁▂▂▂▂▂▂▃▃▃▃▃▄▄▄▄▄▄▅▅▅▅▅▅▆▆▆▆▆▇▇▇▇▇▇███</td></tr></table><br/>"
            ],
            "text/plain": [
              "<IPython.core.display.HTML object>"
            ]
          },
          "metadata": {
            "tags": []
          }
        },
        {
          "output_type": "display_data",
          "data": {
            "text/html": [
              "Synced 5 W&B file(s), 0 media file(s), 0 artifact file(s) and 0 other file(s)"
            ],
            "text/plain": [
              "<IPython.core.display.HTML object>"
            ]
          },
          "metadata": {
            "tags": []
          }
        },
        {
          "output_type": "display_data",
          "data": {
            "text/html": [
              "\n",
              "                    <br/>Synced <strong style=\"color:#cdcd00\">smooth-snowflake-5</strong>: <a href=\"https://wandb.ai/sholto/artificial_graphics_v3/runs/3cal2ssu\" target=\"_blank\">https://wandb.ai/sholto/artificial_graphics_v3/runs/3cal2ssu</a><br/>\n",
              "                "
            ],
            "text/plain": [
              "<IPython.core.display.HTML object>"
            ]
          },
          "metadata": {
            "tags": []
          }
        },
        {
          "output_type": "display_data",
          "data": {
            "text/html": [
              "...Successfully finished last run (ID:3cal2ssu). Initializing new run:<br/><br/>"
            ],
            "text/plain": [
              "<IPython.core.display.HTML object>"
            ]
          },
          "metadata": {
            "tags": []
          }
        },
        {
          "output_type": "display_data",
          "data": {
            "text/html": [
              "\n",
              "                Tracking run with wandb version 0.10.32<br/>\n",
              "                Syncing run <strong style=\"color:#cdcd00\">golden-mountain-6</strong> to <a href=\"https://wandb.ai\" target=\"_blank\">Weights & Biases</a> <a href=\"https://docs.wandb.com/integrations/jupyter.html\" target=\"_blank\">(Documentation)</a>.<br/>\n",
              "                Project page: <a href=\"https://wandb.ai/sholto/artificial_graphics_v3\" target=\"_blank\">https://wandb.ai/sholto/artificial_graphics_v3</a><br/>\n",
              "                Run page: <a href=\"https://wandb.ai/sholto/artificial_graphics_v3/runs/uui1i209\" target=\"_blank\">https://wandb.ai/sholto/artificial_graphics_v3/runs/uui1i209</a><br/>\n",
              "                Run data is saved locally in <code>/content/artificial_graphics/wandb/run-20210620_144122-uui1i209</code><br/><br/>\n",
              "            "
            ],
            "text/plain": [
              "<IPython.core.display.HTML object>"
            ]
          },
          "metadata": {
            "tags": []
          }
        }
      ]
    },
    {
      "cell_type": "code",
      "metadata": {
        "id": "84f9dd5f"
      },
      "source": [
        "import pytorch_lightning as pl\n",
        "from transformers import DetrConfig\n",
        "from lib.DETR import DetrForObjectDetection\n",
        "import torch\n",
        "\n",
        "class Detr(pl.LightningModule):\n",
        "\n",
        "     def __init__(self, lr, lr_backbone, weight_decay):\n",
        "         super().__init__()\n",
        "         model = DetrForObjectDetection.from_pretrained(\"facebook/detr-resnet-50\")\n",
        "         state_dict = model.state_dict()\n",
        "         # Remove class weights\n",
        "         del state_dict[\"class_labels_classifier.weight\"]\n",
        "         del state_dict[\"class_labels_classifier.bias\"]\n",
        "         # define new model with custom class classifier\n",
        "         config = DetrConfig.from_pretrained(\"facebook/detr-resnet-50\", num_labels=len(id2label))\n",
        "         model = DetrForObjectDetection(config)\n",
        "         model.load_state_dict(state_dict, strict=False)\n",
        "         self.model = model\n",
        "\n",
        "         # see https://github.com/PyTorchLightning/pytorch-lightning/pull/1896\n",
        "         self.lr = lr\n",
        "         self.lr_backbone = lr_backbone\n",
        "         self.weight_decay = weight_decay\n",
        "\n",
        "     def forward(self, pixel_values, pixel_mask):\n",
        "       outputs = self.model(pixel_values=pixel_values, pixel_mask=pixel_mask)\n",
        "\n",
        "       return outputs\n",
        "     \n",
        "     def common_step(self, batch, batch_idx):\n",
        "       pixel_values = batch[\"pixel_values\"]\n",
        "       pixel_mask = batch[\"pixel_mask\"]\n",
        "       labels = [{k: v.to(self.device) for k, v in t.items()} for t in batch[\"labels\"]]\n",
        "\n",
        "       outputs = self.model(pixel_values=pixel_values, pixel_mask=pixel_mask, labels=labels)\n",
        "\n",
        "       loss = outputs.loss\n",
        "       loss_dict = outputs.loss_dict\n",
        "\n",
        "       return loss, loss_dict\n",
        "\n",
        "     def training_step(self, batch, batch_idx):\n",
        "        loss, loss_dict = self.common_step(batch, batch_idx)\n",
        "        log_dict = {\"train_\" + k: v.item() for k,v in loss_dict.items()}   \n",
        "        log_dict['train_loss'] = loss   \n",
        "        # logs metrics for each training_step,\n",
        "        # and the average across the epoch\n",
        "        # self.log(\"training_loss\", loss)\n",
        "        # for k,v in loss_dict.items():\n",
        "        #   self.log(\"train_\" + k, v.item())\n",
        "        wandb.log(log_dict, step=self.global_step)\n",
        "        return loss\n",
        "\n",
        "     def validation_step(self, batch, batch_idx):\n",
        "        loss, loss_dict = self.common_step(batch, batch_idx) \n",
        "        log_dict = {\"validation_\" + k: v.item() for k,v in loss_dict.items()}\n",
        "        log_dict['validation_loss'] = loss    \n",
        "        # self.log(\"validation_loss\", loss)\n",
        "        # for k,v in loss_dict.items():\n",
        "        #   self.log(\"validation_\" + k, v.item())\n",
        "        wandb.log(log_dict, step=self.global_step)\n",
        "        self.save()\n",
        "        return loss\n",
        "\n",
        "     def configure_optimizers(self):\n",
        "        param_dicts = [\n",
        "              {\"params\": [p for n, p in self.named_parameters() if \"backbone\" not in n and p.requires_grad]},\n",
        "              {\n",
        "                  \"params\": [p for n, p in self.named_parameters() if \"backbone\" in n and p.requires_grad],\n",
        "                  \"lr\": self.lr_backbone,\n",
        "              },\n",
        "        ]\n",
        "        optimizer = torch.optim.AdamW(param_dicts, lr=self.lr,\n",
        "                                  weight_decay=self.weight_decay)\n",
        "        \n",
        "        return optimizer\n",
        "\n",
        "     def train_dataloader(self):\n",
        "        return train_dataloader\n",
        "\n",
        "     def val_dataloader(self):\n",
        "        return val_dataloader\n",
        "\n",
        "    def save(self):\n",
        "        torch.save(self.model.state_dict(), f'saved_models/{args.run_name}')\n",
        "        subprocess.call([\"gsutil\", \"-m\", \"cp\", \"-r\", \"saved_models/\", str(STORAGE_PATH),])"
      ],
      "id": "84f9dd5f",
      "execution_count": null,
      "outputs": []
    },
    {
      "cell_type": "code",
      "metadata": {
        "colab": {
          "base_uri": "https://localhost:8080/"
        },
        "id": "003df751",
        "outputId": "d6fe91d7-3a6c-49c6-ddb3-357126f9255b"
      },
      "source": [
        "model = Detr(lr=1e-4, lr_backbone=1e-5, weight_decay=1e-4)\n",
        "\n",
        "outputs = model(pixel_values=batch['pixel_values'], pixel_mask=batch['pixel_mask'])"
      ],
      "id": "003df751",
      "execution_count": null,
      "outputs": [
        {
          "output_type": "stream",
          "text": [
            "/usr/local/lib/python3.7/dist-packages/torch/nn/functional.py:718: UserWarning: Named tensors and all their associated APIs are an experimental feature and subject to change. Please do not use them for anything important until they are released as stable. (Triggered internally at  /pytorch/c10/core/TensorImpl.h:1156.)\n",
            "  return torch.max_pool2d(input, kernel_size, stride, padding, dilation, ceil_mode)\n",
            "/usr/local/lib/python3.7/dist-packages/torch/_tensor.py:575: UserWarning: floor_divide is deprecated, and will be removed in a future version of pytorch. It currently rounds toward 0 (like the 'trunc' function NOT 'floor'). This results in incorrect rounding for negative values.\n",
            "To keep the current behavior, use torch.div(a, b, rounding_mode='trunc'), or for actual floor division, use torch.div(a, b, rounding_mode='floor'). (Triggered internally at  /pytorch/aten/src/ATen/native/BinaryOps.cpp:467.)\n",
            "  return torch.floor_divide(self, other)\n"
          ],
          "name": "stderr"
        }
      ]
    },
    {
      "cell_type": "code",
      "metadata": {
        "id": "rLB5ar-W36Z9",
        "colab": {
          "base_uri": "https://localhost:8080/"
        },
        "outputId": "436881da-dd77-4aad-ff02-913cb9ed2d2d"
      },
      "source": [
        "!ls saved_models"
      ],
      "id": "rLB5ar-W36Z9",
      "execution_count": null,
      "outputs": [
        {
          "output_type": "stream",
          "text": [
            "dummy_run2\n"
          ],
          "name": "stdout"
        }
      ]
    },
    {
      "cell_type": "code",
      "metadata": {
        "id": "VaIQSIkw4d-l",
        "colab": {
          "base_uri": "https://localhost:8080/"
        },
        "outputId": "0f99d075-20f5-408c-a697-7ff96855a408"
      },
      "source": [
        "!gsutil -m cp -r saved_models/ gs://lfp_europe_west4_a/"
      ],
      "id": "VaIQSIkw4d-l",
      "execution_count": null,
      "outputs": [
        {
          "output_type": "stream",
          "text": [
            "Copying file://saved_models/dummy_run2 [Content-Type=application/octet-stream]...\n",
            "/ [0/1 files][    0.0 B/158.9 MiB]   0% Done                                    \r==> NOTE: You are uploading one or more large file(s), which would run\n",
            "significantly faster if you enable parallel composite uploads. This\n",
            "feature can be enabled by editing the\n",
            "\"parallel_composite_upload_threshold\" value in your .boto\n",
            "configuration file. However, note that if you do this large files will\n",
            "be uploaded as `composite objects\n",
            "<https://cloud.google.com/storage/docs/composite-objects>`_,which\n",
            "means that any user who downloads such objects will need to have a\n",
            "compiled crcmod installed (see \"gsutil help crcmod\"). This is because\n",
            "without a compiled crcmod, computing checksums on composite objects is\n",
            "so slow that gsutil disables downloads of composite objects.\n",
            "\n",
            "\\ [1/1 files][158.9 MiB/158.9 MiB] 100% Done                                    \n",
            "Operation completed over 1 objects/158.9 MiB.                                    \n"
          ],
          "name": "stdout"
        }
      ]
    },
    {
      "cell_type": "code",
      "metadata": {
        "id": "OBIzijzx4WNO",
        "colab": {
          "base_uri": "https://localhost:8080/"
        },
        "outputId": "ea6c1e89-a532-4906-ee06-2a1ebc2bab9e"
      },
      "source": [],
      "id": "OBIzijzx4WNO",
      "execution_count": null,
      "outputs": [
        {
          "output_type": "execute_result",
          "data": {
            "text/plain": [
              "0"
            ]
          },
          "metadata": {
            "tags": []
          },
          "execution_count": 96
        }
      ]
    },
    {
      "cell_type": "code",
      "metadata": {
        "id": "4DKUV_Bp3734"
      },
      "source": [],
      "id": "4DKUV_Bp3734",
      "execution_count": null,
      "outputs": []
    },
    {
      "cell_type": "code",
      "metadata": {
        "colab": {
          "base_uri": "https://localhost:8080/",
          "height": 309,
          "referenced_widgets": [
            "885a0ceb89364e86a5cf982c10f6c10c",
            "56d8cb1d7a3b4935a41ba00e0da061ae",
            "02545af3be464a43855b79419f3bb4f8",
            "d922fa472dc242cd8d66fcf48375c3f5",
            "ebcf76ec9c56487da742b75fbaf035f9",
            "c0915be5a031484f94cd34b73c73b16e",
            "a27ff0ba8407413ba7d83976d4bd1b50",
            "e77483c888034edb8255980d12f39152",
            "06f4df8dc4da4145bcac5659a523eaa9",
            "9c7770c9f51c4e5eaf342ba2e1190e4e"
          ]
        },
        "id": "b9b629c6",
        "outputId": "dc78ccd9-5bf9-4ddc-f5d5-10d2651720b9"
      },
      "source": [
        "from pytorch_lightning import Trainer\n",
        "\n",
        "trainer = Trainer(gpus=1, max_steps=2000, gradient_clip_val=0.1)\n",
        "trainer.fit(model)"
      ],
      "id": "b9b629c6",
      "execution_count": null,
      "outputs": [
        {
          "output_type": "stream",
          "text": [
            "INFO:pytorch_lightning.utilities.distributed:GPU available: True, used: True\n",
            "INFO:pytorch_lightning.utilities.distributed:TPU available: False, using: 0 TPU cores\n",
            "INFO:pytorch_lightning.accelerators.gpu:LOCAL_RANK: 0 - CUDA_VISIBLE_DEVICES: [0]\n",
            "INFO:pytorch_lightning.core.lightning:\n",
            "  | Name  | Type                   | Params\n",
            "-------------------------------------------------\n",
            "0 | model | DetrForObjectDetection | 41.5 M\n",
            "-------------------------------------------------\n",
            "41.3 M    Trainable params\n",
            "222 K     Non-trainable params\n",
            "41.5 M    Total params\n",
            "166.045   Total estimated model params size (MB)\n"
          ],
          "name": "stderr"
        },
        {
          "output_type": "display_data",
          "data": {
            "application/vnd.jupyter.widget-view+json": {
              "model_id": "885a0ceb89364e86a5cf982c10f6c10c",
              "version_major": 2,
              "version_minor": 0
            },
            "text/plain": [
              "HBox(children=(FloatProgress(value=1.0, bar_style='info', description='Validation sanity check', layout=Layout…"
            ]
          },
          "metadata": {
            "tags": []
          }
        },
        {
          "output_type": "stream",
          "text": [
            "/usr/local/lib/python3.7/dist-packages/pytorch_lightning/utilities/distributed.py:69: UserWarning: The dataloader, val dataloader 0, does not have many workers which may be a bottleneck. Consider increasing the value of the `num_workers` argument` (try 4 which is the number of cpus on this machine) in the `DataLoader` init to improve performance.\n",
            "  warnings.warn(*args, **kwargs)\n"
          ],
          "name": "stderr"
        },
        {
          "output_type": "stream",
          "text": [
            "\r"
          ],
          "name": "stdout"
        },
        {
          "output_type": "display_data",
          "data": {
            "application/vnd.jupyter.widget-view+json": {
              "model_id": "56d8cb1d7a3b4935a41ba00e0da061ae",
              "version_major": 2,
              "version_minor": 0
            },
            "text/plain": [
              "HBox(children=(FloatProgress(value=1.0, bar_style='info', description='Training', layout=Layout(flex='2'), max…"
            ]
          },
          "metadata": {
            "tags": []
          }
        },
        {
          "output_type": "display_data",
          "data": {
            "application/vnd.jupyter.widget-view+json": {
              "model_id": "02545af3be464a43855b79419f3bb4f8",
              "version_minor": 0,
              "version_major": 2
            },
            "text/plain": [
              "HBox(children=(FloatProgress(value=1.0, bar_style='info', description='Validating', layout=Layout(flex='2'), m…"
            ]
          },
          "metadata": {
            "tags": []
          }
        }
      ]
    },
    {
      "cell_type": "code",
      "metadata": {
        "colab": {
          "base_uri": "https://localhost:8080/"
        },
        "id": "WJpfpS186XMY",
        "outputId": "822a572e-1218-4334-cce8-918f457f30ad"
      },
      "source": [
        "device = torch.device(\"cuda\" if torch.cuda.is_available() else \"cpu\")\n",
        "model.to(device)\n",
        "# model.eval()"
      ],
      "id": "WJpfpS186XMY",
      "execution_count": null,
      "outputs": [
        {
          "output_type": "execute_result",
          "data": {
            "text/plain": [
              "Detr(\n",
              "  (model): DetrForObjectDetection(\n",
              "    (model): DetrModel(\n",
              "      (backbone): DetrConvModel(\n",
              "        (conv_encoder): DetrTimmConvEncoder(\n",
              "          (model): FeatureListNet(\n",
              "            (conv1): Conv2d(3, 64, kernel_size=(7, 7), stride=(2, 2), padding=(3, 3), bias=False)\n",
              "            (bn1): DetrFrozenBatchNorm2d()\n",
              "            (act1): ReLU(inplace=True)\n",
              "            (maxpool): MaxPool2d(kernel_size=3, stride=2, padding=1, dilation=1, ceil_mode=False)\n",
              "            (layer1): Sequential(\n",
              "              (0): Bottleneck(\n",
              "                (conv1): Conv2d(64, 64, kernel_size=(1, 1), stride=(1, 1), bias=False)\n",
              "                (bn1): DetrFrozenBatchNorm2d()\n",
              "                (act1): ReLU(inplace=True)\n",
              "                (conv2): Conv2d(64, 64, kernel_size=(3, 3), stride=(1, 1), padding=(1, 1), bias=False)\n",
              "                (bn2): DetrFrozenBatchNorm2d()\n",
              "                (act2): ReLU(inplace=True)\n",
              "                (conv3): Conv2d(64, 256, kernel_size=(1, 1), stride=(1, 1), bias=False)\n",
              "                (bn3): DetrFrozenBatchNorm2d()\n",
              "                (act3): ReLU(inplace=True)\n",
              "                (downsample): Sequential(\n",
              "                  (0): Conv2d(64, 256, kernel_size=(1, 1), stride=(1, 1), bias=False)\n",
              "                  (1): BatchNorm2d(256, eps=1e-05, momentum=0.1, affine=True, track_running_stats=True)\n",
              "                )\n",
              "              )\n",
              "              (1): Bottleneck(\n",
              "                (conv1): Conv2d(256, 64, kernel_size=(1, 1), stride=(1, 1), bias=False)\n",
              "                (bn1): DetrFrozenBatchNorm2d()\n",
              "                (act1): ReLU(inplace=True)\n",
              "                (conv2): Conv2d(64, 64, kernel_size=(3, 3), stride=(1, 1), padding=(1, 1), bias=False)\n",
              "                (bn2): DetrFrozenBatchNorm2d()\n",
              "                (act2): ReLU(inplace=True)\n",
              "                (conv3): Conv2d(64, 256, kernel_size=(1, 1), stride=(1, 1), bias=False)\n",
              "                (bn3): DetrFrozenBatchNorm2d()\n",
              "                (act3): ReLU(inplace=True)\n",
              "              )\n",
              "              (2): Bottleneck(\n",
              "                (conv1): Conv2d(256, 64, kernel_size=(1, 1), stride=(1, 1), bias=False)\n",
              "                (bn1): DetrFrozenBatchNorm2d()\n",
              "                (act1): ReLU(inplace=True)\n",
              "                (conv2): Conv2d(64, 64, kernel_size=(3, 3), stride=(1, 1), padding=(1, 1), bias=False)\n",
              "                (bn2): DetrFrozenBatchNorm2d()\n",
              "                (act2): ReLU(inplace=True)\n",
              "                (conv3): Conv2d(64, 256, kernel_size=(1, 1), stride=(1, 1), bias=False)\n",
              "                (bn3): DetrFrozenBatchNorm2d()\n",
              "                (act3): ReLU(inplace=True)\n",
              "              )\n",
              "            )\n",
              "            (layer2): Sequential(\n",
              "              (0): Bottleneck(\n",
              "                (conv1): Conv2d(256, 128, kernel_size=(1, 1), stride=(1, 1), bias=False)\n",
              "                (bn1): DetrFrozenBatchNorm2d()\n",
              "                (act1): ReLU(inplace=True)\n",
              "                (conv2): Conv2d(128, 128, kernel_size=(3, 3), stride=(2, 2), padding=(1, 1), bias=False)\n",
              "                (bn2): DetrFrozenBatchNorm2d()\n",
              "                (act2): ReLU(inplace=True)\n",
              "                (conv3): Conv2d(128, 512, kernel_size=(1, 1), stride=(1, 1), bias=False)\n",
              "                (bn3): DetrFrozenBatchNorm2d()\n",
              "                (act3): ReLU(inplace=True)\n",
              "                (downsample): Sequential(\n",
              "                  (0): Conv2d(256, 512, kernel_size=(1, 1), stride=(2, 2), bias=False)\n",
              "                  (1): BatchNorm2d(512, eps=1e-05, momentum=0.1, affine=True, track_running_stats=True)\n",
              "                )\n",
              "              )\n",
              "              (1): Bottleneck(\n",
              "                (conv1): Conv2d(512, 128, kernel_size=(1, 1), stride=(1, 1), bias=False)\n",
              "                (bn1): DetrFrozenBatchNorm2d()\n",
              "                (act1): ReLU(inplace=True)\n",
              "                (conv2): Conv2d(128, 128, kernel_size=(3, 3), stride=(1, 1), padding=(1, 1), bias=False)\n",
              "                (bn2): DetrFrozenBatchNorm2d()\n",
              "                (act2): ReLU(inplace=True)\n",
              "                (conv3): Conv2d(128, 512, kernel_size=(1, 1), stride=(1, 1), bias=False)\n",
              "                (bn3): DetrFrozenBatchNorm2d()\n",
              "                (act3): ReLU(inplace=True)\n",
              "              )\n",
              "              (2): Bottleneck(\n",
              "                (conv1): Conv2d(512, 128, kernel_size=(1, 1), stride=(1, 1), bias=False)\n",
              "                (bn1): DetrFrozenBatchNorm2d()\n",
              "                (act1): ReLU(inplace=True)\n",
              "                (conv2): Conv2d(128, 128, kernel_size=(3, 3), stride=(1, 1), padding=(1, 1), bias=False)\n",
              "                (bn2): DetrFrozenBatchNorm2d()\n",
              "                (act2): ReLU(inplace=True)\n",
              "                (conv3): Conv2d(128, 512, kernel_size=(1, 1), stride=(1, 1), bias=False)\n",
              "                (bn3): DetrFrozenBatchNorm2d()\n",
              "                (act3): ReLU(inplace=True)\n",
              "              )\n",
              "              (3): Bottleneck(\n",
              "                (conv1): Conv2d(512, 128, kernel_size=(1, 1), stride=(1, 1), bias=False)\n",
              "                (bn1): DetrFrozenBatchNorm2d()\n",
              "                (act1): ReLU(inplace=True)\n",
              "                (conv2): Conv2d(128, 128, kernel_size=(3, 3), stride=(1, 1), padding=(1, 1), bias=False)\n",
              "                (bn2): DetrFrozenBatchNorm2d()\n",
              "                (act2): ReLU(inplace=True)\n",
              "                (conv3): Conv2d(128, 512, kernel_size=(1, 1), stride=(1, 1), bias=False)\n",
              "                (bn3): DetrFrozenBatchNorm2d()\n",
              "                (act3): ReLU(inplace=True)\n",
              "              )\n",
              "            )\n",
              "            (layer3): Sequential(\n",
              "              (0): Bottleneck(\n",
              "                (conv1): Conv2d(512, 256, kernel_size=(1, 1), stride=(1, 1), bias=False)\n",
              "                (bn1): DetrFrozenBatchNorm2d()\n",
              "                (act1): ReLU(inplace=True)\n",
              "                (conv2): Conv2d(256, 256, kernel_size=(3, 3), stride=(2, 2), padding=(1, 1), bias=False)\n",
              "                (bn2): DetrFrozenBatchNorm2d()\n",
              "                (act2): ReLU(inplace=True)\n",
              "                (conv3): Conv2d(256, 1024, kernel_size=(1, 1), stride=(1, 1), bias=False)\n",
              "                (bn3): DetrFrozenBatchNorm2d()\n",
              "                (act3): ReLU(inplace=True)\n",
              "                (downsample): Sequential(\n",
              "                  (0): Conv2d(512, 1024, kernel_size=(1, 1), stride=(2, 2), bias=False)\n",
              "                  (1): BatchNorm2d(1024, eps=1e-05, momentum=0.1, affine=True, track_running_stats=True)\n",
              "                )\n",
              "              )\n",
              "              (1): Bottleneck(\n",
              "                (conv1): Conv2d(1024, 256, kernel_size=(1, 1), stride=(1, 1), bias=False)\n",
              "                (bn1): DetrFrozenBatchNorm2d()\n",
              "                (act1): ReLU(inplace=True)\n",
              "                (conv2): Conv2d(256, 256, kernel_size=(3, 3), stride=(1, 1), padding=(1, 1), bias=False)\n",
              "                (bn2): DetrFrozenBatchNorm2d()\n",
              "                (act2): ReLU(inplace=True)\n",
              "                (conv3): Conv2d(256, 1024, kernel_size=(1, 1), stride=(1, 1), bias=False)\n",
              "                (bn3): DetrFrozenBatchNorm2d()\n",
              "                (act3): ReLU(inplace=True)\n",
              "              )\n",
              "              (2): Bottleneck(\n",
              "                (conv1): Conv2d(1024, 256, kernel_size=(1, 1), stride=(1, 1), bias=False)\n",
              "                (bn1): DetrFrozenBatchNorm2d()\n",
              "                (act1): ReLU(inplace=True)\n",
              "                (conv2): Conv2d(256, 256, kernel_size=(3, 3), stride=(1, 1), padding=(1, 1), bias=False)\n",
              "                (bn2): DetrFrozenBatchNorm2d()\n",
              "                (act2): ReLU(inplace=True)\n",
              "                (conv3): Conv2d(256, 1024, kernel_size=(1, 1), stride=(1, 1), bias=False)\n",
              "                (bn3): DetrFrozenBatchNorm2d()\n",
              "                (act3): ReLU(inplace=True)\n",
              "              )\n",
              "              (3): Bottleneck(\n",
              "                (conv1): Conv2d(1024, 256, kernel_size=(1, 1), stride=(1, 1), bias=False)\n",
              "                (bn1): DetrFrozenBatchNorm2d()\n",
              "                (act1): ReLU(inplace=True)\n",
              "                (conv2): Conv2d(256, 256, kernel_size=(3, 3), stride=(1, 1), padding=(1, 1), bias=False)\n",
              "                (bn2): DetrFrozenBatchNorm2d()\n",
              "                (act2): ReLU(inplace=True)\n",
              "                (conv3): Conv2d(256, 1024, kernel_size=(1, 1), stride=(1, 1), bias=False)\n",
              "                (bn3): DetrFrozenBatchNorm2d()\n",
              "                (act3): ReLU(inplace=True)\n",
              "              )\n",
              "              (4): Bottleneck(\n",
              "                (conv1): Conv2d(1024, 256, kernel_size=(1, 1), stride=(1, 1), bias=False)\n",
              "                (bn1): DetrFrozenBatchNorm2d()\n",
              "                (act1): ReLU(inplace=True)\n",
              "                (conv2): Conv2d(256, 256, kernel_size=(3, 3), stride=(1, 1), padding=(1, 1), bias=False)\n",
              "                (bn2): DetrFrozenBatchNorm2d()\n",
              "                (act2): ReLU(inplace=True)\n",
              "                (conv3): Conv2d(256, 1024, kernel_size=(1, 1), stride=(1, 1), bias=False)\n",
              "                (bn3): DetrFrozenBatchNorm2d()\n",
              "                (act3): ReLU(inplace=True)\n",
              "              )\n",
              "              (5): Bottleneck(\n",
              "                (conv1): Conv2d(1024, 256, kernel_size=(1, 1), stride=(1, 1), bias=False)\n",
              "                (bn1): DetrFrozenBatchNorm2d()\n",
              "                (act1): ReLU(inplace=True)\n",
              "                (conv2): Conv2d(256, 256, kernel_size=(3, 3), stride=(1, 1), padding=(1, 1), bias=False)\n",
              "                (bn2): DetrFrozenBatchNorm2d()\n",
              "                (act2): ReLU(inplace=True)\n",
              "                (conv3): Conv2d(256, 1024, kernel_size=(1, 1), stride=(1, 1), bias=False)\n",
              "                (bn3): DetrFrozenBatchNorm2d()\n",
              "                (act3): ReLU(inplace=True)\n",
              "              )\n",
              "            )\n",
              "            (layer4): Sequential(\n",
              "              (0): Bottleneck(\n",
              "                (conv1): Conv2d(1024, 512, kernel_size=(1, 1), stride=(1, 1), bias=False)\n",
              "                (bn1): DetrFrozenBatchNorm2d()\n",
              "                (act1): ReLU(inplace=True)\n",
              "                (conv2): Conv2d(512, 512, kernel_size=(3, 3), stride=(2, 2), padding=(1, 1), bias=False)\n",
              "                (bn2): DetrFrozenBatchNorm2d()\n",
              "                (act2): ReLU(inplace=True)\n",
              "                (conv3): Conv2d(512, 2048, kernel_size=(1, 1), stride=(1, 1), bias=False)\n",
              "                (bn3): DetrFrozenBatchNorm2d()\n",
              "                (act3): ReLU(inplace=True)\n",
              "                (downsample): Sequential(\n",
              "                  (0): Conv2d(1024, 2048, kernel_size=(1, 1), stride=(2, 2), bias=False)\n",
              "                  (1): BatchNorm2d(2048, eps=1e-05, momentum=0.1, affine=True, track_running_stats=True)\n",
              "                )\n",
              "              )\n",
              "              (1): Bottleneck(\n",
              "                (conv1): Conv2d(2048, 512, kernel_size=(1, 1), stride=(1, 1), bias=False)\n",
              "                (bn1): DetrFrozenBatchNorm2d()\n",
              "                (act1): ReLU(inplace=True)\n",
              "                (conv2): Conv2d(512, 512, kernel_size=(3, 3), stride=(1, 1), padding=(1, 1), bias=False)\n",
              "                (bn2): DetrFrozenBatchNorm2d()\n",
              "                (act2): ReLU(inplace=True)\n",
              "                (conv3): Conv2d(512, 2048, kernel_size=(1, 1), stride=(1, 1), bias=False)\n",
              "                (bn3): DetrFrozenBatchNorm2d()\n",
              "                (act3): ReLU(inplace=True)\n",
              "              )\n",
              "              (2): Bottleneck(\n",
              "                (conv1): Conv2d(2048, 512, kernel_size=(1, 1), stride=(1, 1), bias=False)\n",
              "                (bn1): DetrFrozenBatchNorm2d()\n",
              "                (act1): ReLU(inplace=True)\n",
              "                (conv2): Conv2d(512, 512, kernel_size=(3, 3), stride=(1, 1), padding=(1, 1), bias=False)\n",
              "                (bn2): DetrFrozenBatchNorm2d()\n",
              "                (act2): ReLU(inplace=True)\n",
              "                (conv3): Conv2d(512, 2048, kernel_size=(1, 1), stride=(1, 1), bias=False)\n",
              "                (bn3): DetrFrozenBatchNorm2d()\n",
              "                (act3): ReLU(inplace=True)\n",
              "              )\n",
              "            )\n",
              "          )\n",
              "        )\n",
              "        (position_embedding): DetrSinePositionEmbedding()\n",
              "      )\n",
              "      (input_projection): Conv2d(2048, 256, kernel_size=(1, 1), stride=(1, 1))\n",
              "      (query_position_embeddings): Embedding(100, 256)\n",
              "      (encoder): DetrEncoder(\n",
              "        (layers): ModuleList(\n",
              "          (0): DetrEncoderLayer(\n",
              "            (self_attn): DetrAttention(\n",
              "              (k_proj): Linear(in_features=256, out_features=256, bias=True)\n",
              "              (v_proj): Linear(in_features=256, out_features=256, bias=True)\n",
              "              (q_proj): Linear(in_features=256, out_features=256, bias=True)\n",
              "              (out_proj): Linear(in_features=256, out_features=256, bias=True)\n",
              "            )\n",
              "            (self_attn_layer_norm): LayerNorm((256,), eps=1e-05, elementwise_affine=True)\n",
              "            (fc1): Linear(in_features=256, out_features=2048, bias=True)\n",
              "            (fc2): Linear(in_features=2048, out_features=256, bias=True)\n",
              "            (final_layer_norm): LayerNorm((256,), eps=1e-05, elementwise_affine=True)\n",
              "          )\n",
              "          (1): DetrEncoderLayer(\n",
              "            (self_attn): DetrAttention(\n",
              "              (k_proj): Linear(in_features=256, out_features=256, bias=True)\n",
              "              (v_proj): Linear(in_features=256, out_features=256, bias=True)\n",
              "              (q_proj): Linear(in_features=256, out_features=256, bias=True)\n",
              "              (out_proj): Linear(in_features=256, out_features=256, bias=True)\n",
              "            )\n",
              "            (self_attn_layer_norm): LayerNorm((256,), eps=1e-05, elementwise_affine=True)\n",
              "            (fc1): Linear(in_features=256, out_features=2048, bias=True)\n",
              "            (fc2): Linear(in_features=2048, out_features=256, bias=True)\n",
              "            (final_layer_norm): LayerNorm((256,), eps=1e-05, elementwise_affine=True)\n",
              "          )\n",
              "          (2): DetrEncoderLayer(\n",
              "            (self_attn): DetrAttention(\n",
              "              (k_proj): Linear(in_features=256, out_features=256, bias=True)\n",
              "              (v_proj): Linear(in_features=256, out_features=256, bias=True)\n",
              "              (q_proj): Linear(in_features=256, out_features=256, bias=True)\n",
              "              (out_proj): Linear(in_features=256, out_features=256, bias=True)\n",
              "            )\n",
              "            (self_attn_layer_norm): LayerNorm((256,), eps=1e-05, elementwise_affine=True)\n",
              "            (fc1): Linear(in_features=256, out_features=2048, bias=True)\n",
              "            (fc2): Linear(in_features=2048, out_features=256, bias=True)\n",
              "            (final_layer_norm): LayerNorm((256,), eps=1e-05, elementwise_affine=True)\n",
              "          )\n",
              "          (3): DetrEncoderLayer(\n",
              "            (self_attn): DetrAttention(\n",
              "              (k_proj): Linear(in_features=256, out_features=256, bias=True)\n",
              "              (v_proj): Linear(in_features=256, out_features=256, bias=True)\n",
              "              (q_proj): Linear(in_features=256, out_features=256, bias=True)\n",
              "              (out_proj): Linear(in_features=256, out_features=256, bias=True)\n",
              "            )\n",
              "            (self_attn_layer_norm): LayerNorm((256,), eps=1e-05, elementwise_affine=True)\n",
              "            (fc1): Linear(in_features=256, out_features=2048, bias=True)\n",
              "            (fc2): Linear(in_features=2048, out_features=256, bias=True)\n",
              "            (final_layer_norm): LayerNorm((256,), eps=1e-05, elementwise_affine=True)\n",
              "          )\n",
              "          (4): DetrEncoderLayer(\n",
              "            (self_attn): DetrAttention(\n",
              "              (k_proj): Linear(in_features=256, out_features=256, bias=True)\n",
              "              (v_proj): Linear(in_features=256, out_features=256, bias=True)\n",
              "              (q_proj): Linear(in_features=256, out_features=256, bias=True)\n",
              "              (out_proj): Linear(in_features=256, out_features=256, bias=True)\n",
              "            )\n",
              "            (self_attn_layer_norm): LayerNorm((256,), eps=1e-05, elementwise_affine=True)\n",
              "            (fc1): Linear(in_features=256, out_features=2048, bias=True)\n",
              "            (fc2): Linear(in_features=2048, out_features=256, bias=True)\n",
              "            (final_layer_norm): LayerNorm((256,), eps=1e-05, elementwise_affine=True)\n",
              "          )\n",
              "          (5): DetrEncoderLayer(\n",
              "            (self_attn): DetrAttention(\n",
              "              (k_proj): Linear(in_features=256, out_features=256, bias=True)\n",
              "              (v_proj): Linear(in_features=256, out_features=256, bias=True)\n",
              "              (q_proj): Linear(in_features=256, out_features=256, bias=True)\n",
              "              (out_proj): Linear(in_features=256, out_features=256, bias=True)\n",
              "            )\n",
              "            (self_attn_layer_norm): LayerNorm((256,), eps=1e-05, elementwise_affine=True)\n",
              "            (fc1): Linear(in_features=256, out_features=2048, bias=True)\n",
              "            (fc2): Linear(in_features=2048, out_features=256, bias=True)\n",
              "            (final_layer_norm): LayerNorm((256,), eps=1e-05, elementwise_affine=True)\n",
              "          )\n",
              "        )\n",
              "      )\n",
              "      (decoder): DetrDecoder(\n",
              "        (layers): ModuleList(\n",
              "          (0): DetrDecoderLayer(\n",
              "            (self_attn): DetrAttention(\n",
              "              (k_proj): Linear(in_features=256, out_features=256, bias=True)\n",
              "              (v_proj): Linear(in_features=256, out_features=256, bias=True)\n",
              "              (q_proj): Linear(in_features=256, out_features=256, bias=True)\n",
              "              (out_proj): Linear(in_features=256, out_features=256, bias=True)\n",
              "            )\n",
              "            (self_attn_layer_norm): LayerNorm((256,), eps=1e-05, elementwise_affine=True)\n",
              "            (encoder_attn): DetrAttention(\n",
              "              (k_proj): Linear(in_features=256, out_features=256, bias=True)\n",
              "              (v_proj): Linear(in_features=256, out_features=256, bias=True)\n",
              "              (q_proj): Linear(in_features=256, out_features=256, bias=True)\n",
              "              (out_proj): Linear(in_features=256, out_features=256, bias=True)\n",
              "            )\n",
              "            (encoder_attn_layer_norm): LayerNorm((256,), eps=1e-05, elementwise_affine=True)\n",
              "            (fc1): Linear(in_features=256, out_features=2048, bias=True)\n",
              "            (fc2): Linear(in_features=2048, out_features=256, bias=True)\n",
              "            (final_layer_norm): LayerNorm((256,), eps=1e-05, elementwise_affine=True)\n",
              "          )\n",
              "          (1): DetrDecoderLayer(\n",
              "            (self_attn): DetrAttention(\n",
              "              (k_proj): Linear(in_features=256, out_features=256, bias=True)\n",
              "              (v_proj): Linear(in_features=256, out_features=256, bias=True)\n",
              "              (q_proj): Linear(in_features=256, out_features=256, bias=True)\n",
              "              (out_proj): Linear(in_features=256, out_features=256, bias=True)\n",
              "            )\n",
              "            (self_attn_layer_norm): LayerNorm((256,), eps=1e-05, elementwise_affine=True)\n",
              "            (encoder_attn): DetrAttention(\n",
              "              (k_proj): Linear(in_features=256, out_features=256, bias=True)\n",
              "              (v_proj): Linear(in_features=256, out_features=256, bias=True)\n",
              "              (q_proj): Linear(in_features=256, out_features=256, bias=True)\n",
              "              (out_proj): Linear(in_features=256, out_features=256, bias=True)\n",
              "            )\n",
              "            (encoder_attn_layer_norm): LayerNorm((256,), eps=1e-05, elementwise_affine=True)\n",
              "            (fc1): Linear(in_features=256, out_features=2048, bias=True)\n",
              "            (fc2): Linear(in_features=2048, out_features=256, bias=True)\n",
              "            (final_layer_norm): LayerNorm((256,), eps=1e-05, elementwise_affine=True)\n",
              "          )\n",
              "          (2): DetrDecoderLayer(\n",
              "            (self_attn): DetrAttention(\n",
              "              (k_proj): Linear(in_features=256, out_features=256, bias=True)\n",
              "              (v_proj): Linear(in_features=256, out_features=256, bias=True)\n",
              "              (q_proj): Linear(in_features=256, out_features=256, bias=True)\n",
              "              (out_proj): Linear(in_features=256, out_features=256, bias=True)\n",
              "            )\n",
              "            (self_attn_layer_norm): LayerNorm((256,), eps=1e-05, elementwise_affine=True)\n",
              "            (encoder_attn): DetrAttention(\n",
              "              (k_proj): Linear(in_features=256, out_features=256, bias=True)\n",
              "              (v_proj): Linear(in_features=256, out_features=256, bias=True)\n",
              "              (q_proj): Linear(in_features=256, out_features=256, bias=True)\n",
              "              (out_proj): Linear(in_features=256, out_features=256, bias=True)\n",
              "            )\n",
              "            (encoder_attn_layer_norm): LayerNorm((256,), eps=1e-05, elementwise_affine=True)\n",
              "            (fc1): Linear(in_features=256, out_features=2048, bias=True)\n",
              "            (fc2): Linear(in_features=2048, out_features=256, bias=True)\n",
              "            (final_layer_norm): LayerNorm((256,), eps=1e-05, elementwise_affine=True)\n",
              "          )\n",
              "          (3): DetrDecoderLayer(\n",
              "            (self_attn): DetrAttention(\n",
              "              (k_proj): Linear(in_features=256, out_features=256, bias=True)\n",
              "              (v_proj): Linear(in_features=256, out_features=256, bias=True)\n",
              "              (q_proj): Linear(in_features=256, out_features=256, bias=True)\n",
              "              (out_proj): Linear(in_features=256, out_features=256, bias=True)\n",
              "            )\n",
              "            (self_attn_layer_norm): LayerNorm((256,), eps=1e-05, elementwise_affine=True)\n",
              "            (encoder_attn): DetrAttention(\n",
              "              (k_proj): Linear(in_features=256, out_features=256, bias=True)\n",
              "              (v_proj): Linear(in_features=256, out_features=256, bias=True)\n",
              "              (q_proj): Linear(in_features=256, out_features=256, bias=True)\n",
              "              (out_proj): Linear(in_features=256, out_features=256, bias=True)\n",
              "            )\n",
              "            (encoder_attn_layer_norm): LayerNorm((256,), eps=1e-05, elementwise_affine=True)\n",
              "            (fc1): Linear(in_features=256, out_features=2048, bias=True)\n",
              "            (fc2): Linear(in_features=2048, out_features=256, bias=True)\n",
              "            (final_layer_norm): LayerNorm((256,), eps=1e-05, elementwise_affine=True)\n",
              "          )\n",
              "          (4): DetrDecoderLayer(\n",
              "            (self_attn): DetrAttention(\n",
              "              (k_proj): Linear(in_features=256, out_features=256, bias=True)\n",
              "              (v_proj): Linear(in_features=256, out_features=256, bias=True)\n",
              "              (q_proj): Linear(in_features=256, out_features=256, bias=True)\n",
              "              (out_proj): Linear(in_features=256, out_features=256, bias=True)\n",
              "            )\n",
              "            (self_attn_layer_norm): LayerNorm((256,), eps=1e-05, elementwise_affine=True)\n",
              "            (encoder_attn): DetrAttention(\n",
              "              (k_proj): Linear(in_features=256, out_features=256, bias=True)\n",
              "              (v_proj): Linear(in_features=256, out_features=256, bias=True)\n",
              "              (q_proj): Linear(in_features=256, out_features=256, bias=True)\n",
              "              (out_proj): Linear(in_features=256, out_features=256, bias=True)\n",
              "            )\n",
              "            (encoder_attn_layer_norm): LayerNorm((256,), eps=1e-05, elementwise_affine=True)\n",
              "            (fc1): Linear(in_features=256, out_features=2048, bias=True)\n",
              "            (fc2): Linear(in_features=2048, out_features=256, bias=True)\n",
              "            (final_layer_norm): LayerNorm((256,), eps=1e-05, elementwise_affine=True)\n",
              "          )\n",
              "          (5): DetrDecoderLayer(\n",
              "            (self_attn): DetrAttention(\n",
              "              (k_proj): Linear(in_features=256, out_features=256, bias=True)\n",
              "              (v_proj): Linear(in_features=256, out_features=256, bias=True)\n",
              "              (q_proj): Linear(in_features=256, out_features=256, bias=True)\n",
              "              (out_proj): Linear(in_features=256, out_features=256, bias=True)\n",
              "            )\n",
              "            (self_attn_layer_norm): LayerNorm((256,), eps=1e-05, elementwise_affine=True)\n",
              "            (encoder_attn): DetrAttention(\n",
              "              (k_proj): Linear(in_features=256, out_features=256, bias=True)\n",
              "              (v_proj): Linear(in_features=256, out_features=256, bias=True)\n",
              "              (q_proj): Linear(in_features=256, out_features=256, bias=True)\n",
              "              (out_proj): Linear(in_features=256, out_features=256, bias=True)\n",
              "            )\n",
              "            (encoder_attn_layer_norm): LayerNorm((256,), eps=1e-05, elementwise_affine=True)\n",
              "            (fc1): Linear(in_features=256, out_features=2048, bias=True)\n",
              "            (fc2): Linear(in_features=2048, out_features=256, bias=True)\n",
              "            (final_layer_norm): LayerNorm((256,), eps=1e-05, elementwise_affine=True)\n",
              "          )\n",
              "        )\n",
              "        (layernorm): LayerNorm((256,), eps=1e-05, elementwise_affine=True)\n",
              "      )\n",
              "    )\n",
              "    (class_labels_classifier): Linear(in_features=256, out_features=10, bias=True)\n",
              "    (bbox_predictor): DetrMLPPredictionHead(\n",
              "      (layers): ModuleList(\n",
              "        (0): Linear(in_features=256, out_features=256, bias=True)\n",
              "        (1): Linear(in_features=256, out_features=256, bias=True)\n",
              "        (2): Linear(in_features=256, out_features=4, bias=True)\n",
              "      )\n",
              "    )\n",
              "  )\n",
              ")"
            ]
          },
          "metadata": {
            "tags": []
          },
          "execution_count": 20
        }
      ]
    },
    {
      "cell_type": "code",
      "metadata": {
        "colab": {
          "base_uri": "https://localhost:8080/"
        },
        "id": "be6788fb",
        "outputId": "1cf0470d-e296-49d3-c484-e0699626d965"
      },
      "source": [
        "pixel_values, target = val_dataset[20]\n",
        "pixel_values = pixel_values.unsqueeze(0).to(device)\n",
        "print(pixel_values.shape)\n",
        "# forward pass to get class logits and bounding boxes\n",
        "outputs = model(pixel_values=pixel_values, pixel_mask=None)\n"
      ],
      "id": "be6788fb",
      "execution_count": null,
      "outputs": [
        {
          "output_type": "stream",
          "text": [
            "torch.Size([1, 3, 750, 1333])\n"
          ],
          "name": "stdout"
        }
      ]
    },
    {
      "cell_type": "code",
      "metadata": {
        "id": "NMA0IqoD5WzS"
      },
      "source": [
        "import torch\n",
        "import matplotlib.pyplot as plt\n",
        "\n",
        "# colors for visualization\n",
        "COLORS = [[0.000, 0.447, 0.741], [0.850, 0.325, 0.098], [0.929, 0.694, 0.125],\n",
        "          [0.494, 0.184, 0.556], [0.466, 0.674, 0.188], [0.301, 0.745, 0.933]]\n",
        "\n",
        "# for output bounding box post-processing\n",
        "def box_cxcywh_to_xyxy(x):\n",
        "    x_c, y_c, w, h = x.unbind(1)\n",
        "    b = [(x_c - 0.5 * w), (y_c - 0.5 * h),\n",
        "         (x_c + 0.5 * w), (y_c + 0.5 * h)]\n",
        "    return torch.stack(b, dim=1)\n",
        "\n",
        "def rescale_bboxes(out_bbox, size):\n",
        "    img_w, img_h = size\n",
        "    b = box_cxcywh_to_xyxy(out_bbox)\n",
        "    b = b * torch.tensor([img_w, img_h, img_w, img_h], dtype=torch.float32)\n",
        "    return b\n",
        "\n",
        "def plot_results(pil_img, prob, boxes):\n",
        "    plt.figure(figsize=(16,10))\n",
        "    plt.imshow(pil_img)\n",
        "    ax = plt.gca()\n",
        "    colors = COLORS * 100\n",
        "    for p, (xmin, ymin, xmax, ymax), c in zip(prob, boxes.tolist(), colors):\n",
        "        ax.add_patch(plt.Rectangle((xmin, ymin), xmax - xmin, ymax - ymin,\n",
        "                                   fill=False, color=c, linewidth=3))\n",
        "        cl = p.argmax()\n",
        "        text = f'{id2label[cl.item()]}: {p[cl]:0.2f}'\n",
        "        ax.text(xmin, ymin, text, fontsize=15,\n",
        "                bbox=dict(facecolor='yellow', alpha=0.5))\n",
        "    plt.axis('off')\n",
        "    plt.show()"
      ],
      "id": "NMA0IqoD5WzS",
      "execution_count": null,
      "outputs": []
    },
    {
      "cell_type": "code",
      "metadata": {
        "id": "Gm37iQan5akM"
      },
      "source": [
        "def visualize_predictions(image, outputs, threshold=0.5):\n",
        "  # keep only predictions with confidence >= threshold\n",
        "  probas = outputs.logits.softmax(-1)[0, :, :-1]\n",
        "  keep = probas.max(-1).values > threshold\n",
        "  \n",
        "  # convert predicted boxes from [0; 1] to image scales\n",
        "  bboxes_scaled = rescale_bboxes(outputs.pred_boxes[0, keep].cpu(), image.size)\n",
        "\n",
        "  # plot results\n",
        "  plot_results(image, probas[keep], bboxes_scaled)"
      ],
      "id": "Gm37iQan5akM",
      "execution_count": null,
      "outputs": []
    },
    {
      "cell_type": "code",
      "metadata": {
        "colab": {
          "base_uri": "https://localhost:8080/",
          "height": 533
        },
        "id": "DIesmz1u5cUV",
        "outputId": "7feecafb-187e-4dcb-ffa8-7ebbf43946d4"
      },
      "source": [
        "image_id = target['image_id'].item()\n",
        "image = val_dataset.coco.loadImgs(image_id)[0]\n",
        "image = Image.open(os.path.join(f'{DATA_BASE}/val', image['file_name']))\n",
        "\n",
        "visualize_predictions(image, outputs)"
      ],
      "id": "DIesmz1u5cUV",
      "execution_count": null,
      "outputs": [
        {
          "output_type": "display_data",
          "data": {
            "image/png": "[encoded data removed]",
            "text/plain": [
              "<Figure size 1152x720 with 1 Axes>"
            ]
          },
          "metadata": {
            "tags": [],
            "needs_background": "light"
          }
        }
      ]
    },
    {
      "cell_type": "code",
      "metadata": {
        "colab": {
          "base_uri": "https://localhost:8080/"
        },
        "id": "Ph_L5gQZ6fcl",
        "outputId": "39a55f41-5c0d-4647-d166-0fae978fa083"
      },
      "source": [
        "target['image_id']"
      ],
      "id": "Ph_L5gQZ6fcl",
      "execution_count": null,
      "outputs": [
        {
          "output_type": "execute_result",
          "data": {
            "text/plain": [
              "tensor([6])"
            ]
          },
          "metadata": {
            "tags": []
          },
          "execution_count": 25
        }
      ]
    },
    {
      "cell_type": "code",
      "metadata": {
        "id": "Mwpc6uZEWYT0"
      },
      "source": [],
      "id": "Mwpc6uZEWYT0",
      "execution_count": null,
      "outputs": []
    }
  ]
}