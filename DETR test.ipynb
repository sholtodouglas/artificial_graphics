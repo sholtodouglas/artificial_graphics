{
  "nbformat": 4,
  "nbformat_minor": 5,
  "metadata": {
    "kernelspec": {
      "name": "python3",
      "display_name": "Python 3.8.8 64-bit ('ProgramData': virtualenv)"
    },
    "language_info": {
      "codemirror_mode": {
        "name": "ipython",
        "version": 3
      },
      "file_extension": ".py",
      "mimetype": "text/x-python",
      "name": "python",
      "nbconvert_exporter": "python",
      "pygments_lexer": "ipython3",
      "version": "3.8.8"
    },
    "colab": {
      "name": "DETR test.ipynb",
      "provenance": [],
      "machine_shape": "hm"
    },
    "accelerator": "GPU",
    "widgets": {
      "application/vnd.jupyter.widget-state+json": {
        "cd6a4ceedc6543199da81cf72769b58d": {
          "model_module": "@jupyter-widgets/controls",
          "model_name": "HBoxModel",
          "state": {
            "_view_name": "HBoxView",
            "_dom_classes": [],
            "_model_name": "HBoxModel",
            "_view_module": "@jupyter-widgets/controls",
            "_model_module_version": "1.5.0",
            "_view_count": null,
            "_view_module_version": "1.5.0",
            "box_style": "",
            "layout": "IPY_MODEL_c75b6a9912084b14b77234f51be0ed73",
            "_model_module": "@jupyter-widgets/controls",
            "children": [
              "IPY_MODEL_5b6c7cbe98d74e0cba5969ad98414c68",
              "IPY_MODEL_c2945119d45a434d90c15212c5ec48cb"
            ]
          }
        },
        "c75b6a9912084b14b77234f51be0ed73": {
          "model_module": "@jupyter-widgets/base",
          "model_name": "LayoutModel",
          "state": {
            "_view_name": "LayoutView",
            "grid_template_rows": null,
            "right": null,
            "justify_content": null,
            "_view_module": "@jupyter-widgets/base",
            "overflow": null,
            "_model_module_version": "1.2.0",
            "_view_count": null,
            "flex_flow": null,
            "width": null,
            "min_width": null,
            "border": null,
            "align_items": null,
            "bottom": null,
            "_model_module": "@jupyter-widgets/base",
            "top": null,
            "grid_column": null,
            "overflow_y": null,
            "overflow_x": null,
            "grid_auto_flow": null,
            "grid_area": null,
            "grid_template_columns": null,
            "flex": null,
            "_model_name": "LayoutModel",
            "justify_items": null,
            "grid_row": null,
            "max_height": null,
            "align_content": null,
            "visibility": null,
            "align_self": null,
            "height": null,
            "min_height": null,
            "padding": null,
            "grid_auto_rows": null,
            "grid_gap": null,
            "max_width": null,
            "order": null,
            "_view_module_version": "1.2.0",
            "grid_template_areas": null,
            "object_position": null,
            "object_fit": null,
            "grid_auto_columns": null,
            "margin": null,
            "display": null,
            "left": null
          }
        },
        "5b6c7cbe98d74e0cba5969ad98414c68": {
          "model_module": "@jupyter-widgets/controls",
          "model_name": "FloatProgressModel",
          "state": {
            "_view_name": "ProgressView",
            "style": "IPY_MODEL_bd7b444b48934e6b97697cbe2f3bd686",
            "_dom_classes": [],
            "description": "Downloading: 100%",
            "_model_name": "FloatProgressModel",
            "bar_style": "success",
            "max": 4381,
            "_view_module": "@jupyter-widgets/controls",
            "_model_module_version": "1.5.0",
            "value": 4381,
            "_view_count": null,
            "_view_module_version": "1.5.0",
            "orientation": "horizontal",
            "min": 0,
            "description_tooltip": null,
            "_model_module": "@jupyter-widgets/controls",
            "layout": "IPY_MODEL_b6c1672cf4ae4863b1239c130b90532a"
          }
        },
        "c2945119d45a434d90c15212c5ec48cb": {
          "model_module": "@jupyter-widgets/controls",
          "model_name": "HTMLModel",
          "state": {
            "_view_name": "HTMLView",
            "style": "IPY_MODEL_ad1963c3042d4c8b81496a3b14db531f",
            "_dom_classes": [],
            "description": "",
            "_model_name": "HTMLModel",
            "placeholder": "​",
            "_view_module": "@jupyter-widgets/controls",
            "_model_module_version": "1.5.0",
            "value": " 4.38k/4.38k [00:00&lt;00:00, 11.5kB/s]",
            "_view_count": null,
            "_view_module_version": "1.5.0",
            "description_tooltip": null,
            "_model_module": "@jupyter-widgets/controls",
            "layout": "IPY_MODEL_f2d3b375a7924cab9ae93e705a997629"
          }
        },
        "bd7b444b48934e6b97697cbe2f3bd686": {
          "model_module": "@jupyter-widgets/controls",
          "model_name": "ProgressStyleModel",
          "state": {
            "_view_name": "StyleView",
            "_model_name": "ProgressStyleModel",
            "description_width": "initial",
            "_view_module": "@jupyter-widgets/base",
            "_model_module_version": "1.5.0",
            "_view_count": null,
            "_view_module_version": "1.2.0",
            "bar_color": null,
            "_model_module": "@jupyter-widgets/controls"
          }
        },
        "b6c1672cf4ae4863b1239c130b90532a": {
          "model_module": "@jupyter-widgets/base",
          "model_name": "LayoutModel",
          "state": {
            "_view_name": "LayoutView",
            "grid_template_rows": null,
            "right": null,
            "justify_content": null,
            "_view_module": "@jupyter-widgets/base",
            "overflow": null,
            "_model_module_version": "1.2.0",
            "_view_count": null,
            "flex_flow": null,
            "width": null,
            "min_width": null,
            "border": null,
            "align_items": null,
            "bottom": null,
            "_model_module": "@jupyter-widgets/base",
            "top": null,
            "grid_column": null,
            "overflow_y": null,
            "overflow_x": null,
            "grid_auto_flow": null,
            "grid_area": null,
            "grid_template_columns": null,
            "flex": null,
            "_model_name": "LayoutModel",
            "justify_items": null,
            "grid_row": null,
            "max_height": null,
            "align_content": null,
            "visibility": null,
            "align_self": null,
            "height": null,
            "min_height": null,
            "padding": null,
            "grid_auto_rows": null,
            "grid_gap": null,
            "max_width": null,
            "order": null,
            "_view_module_version": "1.2.0",
            "grid_template_areas": null,
            "object_position": null,
            "object_fit": null,
            "grid_auto_columns": null,
            "margin": null,
            "display": null,
            "left": null
          }
        },
        "ad1963c3042d4c8b81496a3b14db531f": {
          "model_module": "@jupyter-widgets/controls",
          "model_name": "DescriptionStyleModel",
          "state": {
            "_view_name": "StyleView",
            "_model_name": "DescriptionStyleModel",
            "description_width": "",
            "_view_module": "@jupyter-widgets/base",
            "_model_module_version": "1.5.0",
            "_view_count": null,
            "_view_module_version": "1.2.0",
            "_model_module": "@jupyter-widgets/controls"
          }
        },
        "f2d3b375a7924cab9ae93e705a997629": {
          "model_module": "@jupyter-widgets/base",
          "model_name": "LayoutModel",
          "state": {
            "_view_name": "LayoutView",
            "grid_template_rows": null,
            "right": null,
            "justify_content": null,
            "_view_module": "@jupyter-widgets/base",
            "overflow": null,
            "_model_module_version": "1.2.0",
            "_view_count": null,
            "flex_flow": null,
            "width": null,
            "min_width": null,
            "border": null,
            "align_items": null,
            "bottom": null,
            "_model_module": "@jupyter-widgets/base",
            "top": null,
            "grid_column": null,
            "overflow_y": null,
            "overflow_x": null,
            "grid_auto_flow": null,
            "grid_area": null,
            "grid_template_columns": null,
            "flex": null,
            "_model_name": "LayoutModel",
            "justify_items": null,
            "grid_row": null,
            "max_height": null,
            "align_content": null,
            "visibility": null,
            "align_self": null,
            "height": null,
            "min_height": null,
            "padding": null,
            "grid_auto_rows": null,
            "grid_gap": null,
            "max_width": null,
            "order": null,
            "_view_module_version": "1.2.0",
            "grid_template_areas": null,
            "object_position": null,
            "object_fit": null,
            "grid_auto_columns": null,
            "margin": null,
            "display": null,
            "left": null
          }
        },
        "802006b7603345d7a02c12df2346bd2b": {
          "model_module": "@jupyter-widgets/controls",
          "model_name": "HBoxModel",
          "state": {
            "_view_name": "HBoxView",
            "_dom_classes": [],
            "_model_name": "HBoxModel",
            "_view_module": "@jupyter-widgets/controls",
            "_model_module_version": "1.5.0",
            "_view_count": null,
            "_view_module_version": "1.5.0",
            "box_style": "",
            "layout": "IPY_MODEL_00d7137400e747349d0df6957e2ff9e1",
            "_model_module": "@jupyter-widgets/controls",
            "children": [
              "IPY_MODEL_f19915f54bd84080995a8d2c04c525f8",
              "IPY_MODEL_4067d12c9ea34959ba273500c6ef1c03"
            ]
          }
        },
        "00d7137400e747349d0df6957e2ff9e1": {
          "model_module": "@jupyter-widgets/base",
          "model_name": "LayoutModel",
          "state": {
            "_view_name": "LayoutView",
            "grid_template_rows": null,
            "right": null,
            "justify_content": null,
            "_view_module": "@jupyter-widgets/base",
            "overflow": null,
            "_model_module_version": "1.2.0",
            "_view_count": null,
            "flex_flow": null,
            "width": null,
            "min_width": null,
            "border": null,
            "align_items": null,
            "bottom": null,
            "_model_module": "@jupyter-widgets/base",
            "top": null,
            "grid_column": null,
            "overflow_y": null,
            "overflow_x": null,
            "grid_auto_flow": null,
            "grid_area": null,
            "grid_template_columns": null,
            "flex": null,
            "_model_name": "LayoutModel",
            "justify_items": null,
            "grid_row": null,
            "max_height": null,
            "align_content": null,
            "visibility": null,
            "align_self": null,
            "height": null,
            "min_height": null,
            "padding": null,
            "grid_auto_rows": null,
            "grid_gap": null,
            "max_width": null,
            "order": null,
            "_view_module_version": "1.2.0",
            "grid_template_areas": null,
            "object_position": null,
            "object_fit": null,
            "grid_auto_columns": null,
            "margin": null,
            "display": null,
            "left": null
          }
        },
        "f19915f54bd84080995a8d2c04c525f8": {
          "model_module": "@jupyter-widgets/controls",
          "model_name": "FloatProgressModel",
          "state": {
            "_view_name": "ProgressView",
            "style": "IPY_MODEL_ff57c6bddbc84a68a9e6cc2fd2310322",
            "_dom_classes": [],
            "description": "Downloading: 100%",
            "_model_name": "FloatProgressModel",
            "bar_style": "success",
            "max": 166731871,
            "_view_module": "@jupyter-widgets/controls",
            "_model_module_version": "1.5.0",
            "value": 166731871,
            "_view_count": null,
            "_view_module_version": "1.5.0",
            "orientation": "horizontal",
            "min": 0,
            "description_tooltip": null,
            "_model_module": "@jupyter-widgets/controls",
            "layout": "IPY_MODEL_43d736fe2a484a12be851fdf5111ec01"
          }
        },
        "4067d12c9ea34959ba273500c6ef1c03": {
          "model_module": "@jupyter-widgets/controls",
          "model_name": "HTMLModel",
          "state": {
            "_view_name": "HTMLView",
            "style": "IPY_MODEL_31bd85e7c93f498eb4fd791ed3251477",
            "_dom_classes": [],
            "description": "",
            "_model_name": "HTMLModel",
            "placeholder": "​",
            "_view_module": "@jupyter-widgets/controls",
            "_model_module_version": "1.5.0",
            "value": " 167M/167M [00:03&lt;00:00, 55.0MB/s]",
            "_view_count": null,
            "_view_module_version": "1.5.0",
            "description_tooltip": null,
            "_model_module": "@jupyter-widgets/controls",
            "layout": "IPY_MODEL_de63e3a4bb7b4276b464f45fb4ca4da7"
          }
        },
        "ff57c6bddbc84a68a9e6cc2fd2310322": {
          "model_module": "@jupyter-widgets/controls",
          "model_name": "ProgressStyleModel",
          "state": {
            "_view_name": "StyleView",
            "_model_name": "ProgressStyleModel",
            "description_width": "initial",
            "_view_module": "@jupyter-widgets/base",
            "_model_module_version": "1.5.0",
            "_view_count": null,
            "_view_module_version": "1.2.0",
            "bar_color": null,
            "_model_module": "@jupyter-widgets/controls"
          }
        },
        "43d736fe2a484a12be851fdf5111ec01": {
          "model_module": "@jupyter-widgets/base",
          "model_name": "LayoutModel",
          "state": {
            "_view_name": "LayoutView",
            "grid_template_rows": null,
            "right": null,
            "justify_content": null,
            "_view_module": "@jupyter-widgets/base",
            "overflow": null,
            "_model_module_version": "1.2.0",
            "_view_count": null,
            "flex_flow": null,
            "width": null,
            "min_width": null,
            "border": null,
            "align_items": null,
            "bottom": null,
            "_model_module": "@jupyter-widgets/base",
            "top": null,
            "grid_column": null,
            "overflow_y": null,
            "overflow_x": null,
            "grid_auto_flow": null,
            "grid_area": null,
            "grid_template_columns": null,
            "flex": null,
            "_model_name": "LayoutModel",
            "justify_items": null,
            "grid_row": null,
            "max_height": null,
            "align_content": null,
            "visibility": null,
            "align_self": null,
            "height": null,
            "min_height": null,
            "padding": null,
            "grid_auto_rows": null,
            "grid_gap": null,
            "max_width": null,
            "order": null,
            "_view_module_version": "1.2.0",
            "grid_template_areas": null,
            "object_position": null,
            "object_fit": null,
            "grid_auto_columns": null,
            "margin": null,
            "display": null,
            "left": null
          }
        },
        "31bd85e7c93f498eb4fd791ed3251477": {
          "model_module": "@jupyter-widgets/controls",
          "model_name": "DescriptionStyleModel",
          "state": {
            "_view_name": "StyleView",
            "_model_name": "DescriptionStyleModel",
            "description_width": "",
            "_view_module": "@jupyter-widgets/base",
            "_model_module_version": "1.5.0",
            "_view_count": null,
            "_view_module_version": "1.2.0",
            "_model_module": "@jupyter-widgets/controls"
          }
        },
        "de63e3a4bb7b4276b464f45fb4ca4da7": {
          "model_module": "@jupyter-widgets/base",
          "model_name": "LayoutModel",
          "state": {
            "_view_name": "LayoutView",
            "grid_template_rows": null,
            "right": null,
            "justify_content": null,
            "_view_module": "@jupyter-widgets/base",
            "overflow": null,
            "_model_module_version": "1.2.0",
            "_view_count": null,
            "flex_flow": null,
            "width": null,
            "min_width": null,
            "border": null,
            "align_items": null,
            "bottom": null,
            "_model_module": "@jupyter-widgets/base",
            "top": null,
            "grid_column": null,
            "overflow_y": null,
            "overflow_x": null,
            "grid_auto_flow": null,
            "grid_area": null,
            "grid_template_columns": null,
            "flex": null,
            "_model_name": "LayoutModel",
            "justify_items": null,
            "grid_row": null,
            "max_height": null,
            "align_content": null,
            "visibility": null,
            "align_self": null,
            "height": null,
            "min_height": null,
            "padding": null,
            "grid_auto_rows": null,
            "grid_gap": null,
            "max_width": null,
            "order": null,
            "_view_module_version": "1.2.0",
            "grid_template_areas": null,
            "object_position": null,
            "object_fit": null,
            "grid_auto_columns": null,
            "margin": null,
            "display": null,
            "left": null
          }
        },
        "f1821489df8d4954b8f7a6b59810c8be": {
          "model_module": "@jupyter-widgets/controls",
          "model_name": "HBoxModel",
          "state": {
            "_view_name": "HBoxView",
            "_dom_classes": [],
            "_model_name": "HBoxModel",
            "_view_module": "@jupyter-widgets/controls",
            "_model_module_version": "1.5.0",
            "_view_count": null,
            "_view_module_version": "1.5.0",
            "box_style": "",
            "layout": "IPY_MODEL_7872e3ccc3344fdcbccda58bf1c4e98e",
            "_model_module": "@jupyter-widgets/controls",
            "children": [
              "IPY_MODEL_53264e53881746fa87f456e0d524201f",
              "IPY_MODEL_930468ff8d9846098eee26cc63e54ca6"
            ]
          }
        },
        "7872e3ccc3344fdcbccda58bf1c4e98e": {
          "model_module": "@jupyter-widgets/base",
          "model_name": "LayoutModel",
          "state": {
            "_view_name": "LayoutView",
            "grid_template_rows": null,
            "right": null,
            "justify_content": null,
            "_view_module": "@jupyter-widgets/base",
            "overflow": null,
            "_model_module_version": "1.2.0",
            "_view_count": null,
            "flex_flow": "row wrap",
            "width": "100%",
            "min_width": null,
            "border": null,
            "align_items": null,
            "bottom": null,
            "_model_module": "@jupyter-widgets/base",
            "top": null,
            "grid_column": null,
            "overflow_y": null,
            "overflow_x": null,
            "grid_auto_flow": null,
            "grid_area": null,
            "grid_template_columns": null,
            "flex": null,
            "_model_name": "LayoutModel",
            "justify_items": null,
            "grid_row": null,
            "max_height": null,
            "align_content": null,
            "visibility": null,
            "align_self": null,
            "height": null,
            "min_height": null,
            "padding": null,
            "grid_auto_rows": null,
            "grid_gap": null,
            "max_width": null,
            "order": null,
            "_view_module_version": "1.2.0",
            "grid_template_areas": null,
            "object_position": null,
            "object_fit": null,
            "grid_auto_columns": null,
            "margin": null,
            "display": "inline-flex",
            "left": null
          }
        },
        "53264e53881746fa87f456e0d524201f": {
          "model_module": "@jupyter-widgets/controls",
          "model_name": "FloatProgressModel",
          "state": {
            "_view_name": "ProgressView",
            "style": "IPY_MODEL_17349e0374f04e6f862bb8ecad6fee0d",
            "_dom_classes": [],
            "description": "Validation sanity check:   0%",
            "_model_name": "FloatProgressModel",
            "bar_style": "info",
            "max": 2,
            "_view_module": "@jupyter-widgets/controls",
            "_model_module_version": "1.5.0",
            "value": 0,
            "_view_count": null,
            "_view_module_version": "1.5.0",
            "orientation": "horizontal",
            "min": 0,
            "description_tooltip": null,
            "_model_module": "@jupyter-widgets/controls",
            "layout": "IPY_MODEL_ce7593f8a9054bdcb45918bae4234c41"
          }
        },
        "930468ff8d9846098eee26cc63e54ca6": {
          "model_module": "@jupyter-widgets/controls",
          "model_name": "HTMLModel",
          "state": {
            "_view_name": "HTMLView",
            "style": "IPY_MODEL_a3a2ea10ffb544b6963fcba3aa41739c",
            "_dom_classes": [],
            "description": "",
            "_model_name": "HTMLModel",
            "placeholder": "​",
            "_view_module": "@jupyter-widgets/controls",
            "_model_module_version": "1.5.0",
            "value": " 0/2 [00:00&lt;?, ?it/s]",
            "_view_count": null,
            "_view_module_version": "1.5.0",
            "description_tooltip": null,
            "_model_module": "@jupyter-widgets/controls",
            "layout": "IPY_MODEL_b7c17859289b403f804586e7132b2d28"
          }
        },
        "17349e0374f04e6f862bb8ecad6fee0d": {
          "model_module": "@jupyter-widgets/controls",
          "model_name": "ProgressStyleModel",
          "state": {
            "_view_name": "StyleView",
            "_model_name": "ProgressStyleModel",
            "description_width": "initial",
            "_view_module": "@jupyter-widgets/base",
            "_model_module_version": "1.5.0",
            "_view_count": null,
            "_view_module_version": "1.2.0",
            "bar_color": null,
            "_model_module": "@jupyter-widgets/controls"
          }
        },
        "ce7593f8a9054bdcb45918bae4234c41": {
          "model_module": "@jupyter-widgets/base",
          "model_name": "LayoutModel",
          "state": {
            "_view_name": "LayoutView",
            "grid_template_rows": null,
            "right": null,
            "justify_content": null,
            "_view_module": "@jupyter-widgets/base",
            "overflow": null,
            "_model_module_version": "1.2.0",
            "_view_count": null,
            "flex_flow": null,
            "width": null,
            "min_width": null,
            "border": null,
            "align_items": null,
            "bottom": null,
            "_model_module": "@jupyter-widgets/base",
            "top": null,
            "grid_column": null,
            "overflow_y": null,
            "overflow_x": null,
            "grid_auto_flow": null,
            "grid_area": null,
            "grid_template_columns": null,
            "flex": "2",
            "_model_name": "LayoutModel",
            "justify_items": null,
            "grid_row": null,
            "max_height": null,
            "align_content": null,
            "visibility": null,
            "align_self": null,
            "height": null,
            "min_height": null,
            "padding": null,
            "grid_auto_rows": null,
            "grid_gap": null,
            "max_width": null,
            "order": null,
            "_view_module_version": "1.2.0",
            "grid_template_areas": null,
            "object_position": null,
            "object_fit": null,
            "grid_auto_columns": null,
            "margin": null,
            "display": null,
            "left": null
          }
        },
        "a3a2ea10ffb544b6963fcba3aa41739c": {
          "model_module": "@jupyter-widgets/controls",
          "model_name": "DescriptionStyleModel",
          "state": {
            "_view_name": "StyleView",
            "_model_name": "DescriptionStyleModel",
            "description_width": "",
            "_view_module": "@jupyter-widgets/base",
            "_model_module_version": "1.5.0",
            "_view_count": null,
            "_view_module_version": "1.2.0",
            "_model_module": "@jupyter-widgets/controls"
          }
        },
        "b7c17859289b403f804586e7132b2d28": {
          "model_module": "@jupyter-widgets/base",
          "model_name": "LayoutModel",
          "state": {
            "_view_name": "LayoutView",
            "grid_template_rows": null,
            "right": null,
            "justify_content": null,
            "_view_module": "@jupyter-widgets/base",
            "overflow": null,
            "_model_module_version": "1.2.0",
            "_view_count": null,
            "flex_flow": null,
            "width": null,
            "min_width": null,
            "border": null,
            "align_items": null,
            "bottom": null,
            "_model_module": "@jupyter-widgets/base",
            "top": null,
            "grid_column": null,
            "overflow_y": null,
            "overflow_x": null,
            "grid_auto_flow": null,
            "grid_area": null,
            "grid_template_columns": null,
            "flex": null,
            "_model_name": "LayoutModel",
            "justify_items": null,
            "grid_row": null,
            "max_height": null,
            "align_content": null,
            "visibility": null,
            "align_self": null,
            "height": null,
            "min_height": null,
            "padding": null,
            "grid_auto_rows": null,
            "grid_gap": null,
            "max_width": null,
            "order": null,
            "_view_module_version": "1.2.0",
            "grid_template_areas": null,
            "object_position": null,
            "object_fit": null,
            "grid_auto_columns": null,
            "margin": null,
            "display": null,
            "left": null
          }
        }
      }
    },
    "interpreter": {
      "hash": "b3ba2566441a7c06988d0923437866b63cedc61552a5af99d1f4fb67d367b25f"
    }
  },
  "cells": [
    {
      "cell_type": "code",
      "metadata": {
        "colab": {
          "base_uri": "https://localhost:8080/"
        },
        "id": "vwpK68LVsWYM",
        "outputId": "bdf04d33-c2dc-4615-8170-1a10ad47cf1f"
      },
      "source": [
        "import requests\n",
        "r = requests.get('https://ipinfo.io')\n",
        "region = r.json()['region']\n",
        "r.json()"
      ],
      "id": "vwpK68LVsWYM",
      "execution_count": 1,
      "outputs": [
        {
          "output_type": "execute_result",
          "data": {
            "text/plain": [
              "{'city': 'Groningen',\n",
              " 'country': 'NL',\n",
              " 'hostname': '136.130.204.35.bc.googleusercontent.com',\n",
              " 'ip': '35.204.130.136',\n",
              " 'loc': '53.2192,6.5667',\n",
              " 'org': 'AS15169 Google LLC',\n",
              " 'postal': '9711',\n",
              " 'readme': 'https://ipinfo.io/missingauth',\n",
              " 'region': 'Groningen',\n",
              " 'timezone': 'Europe/Amsterdam'}"
            ]
          },
          "metadata": {
            "tags": []
          },
          "execution_count": 1
        }
      ]
    },
    {
      "cell_type": "code",
      "metadata": {
        "colab": {
          "base_uri": "https://localhost:8080/"
        },
        "id": "s4Tw9MYYp-Xx",
        "outputId": "b2f80c95-bd5c-48ab-93b8-12c4dd567e9e"
      },
      "source": [
        "!pip install pathy -q\n",
        "!pip install wandb -q\n",
        "!pip install -q git+https://github.com/huggingface/transformers.git timm\n",
        "!pip install -q pytorch-lightning"
      ],
      "id": "s4Tw9MYYp-Xx",
      "execution_count": 2,
      "outputs": [
        {
          "output_type": "stream",
          "text": [
            "\u001b[K     |████████████████████████████████| 51kB 6.1MB/s \n",
            "\u001b[K     |████████████████████████████████| 1.8MB 14.2MB/s \n",
            "\u001b[K     |████████████████████████████████| 133kB 49.7MB/s \n",
            "\u001b[K     |████████████████████████████████| 174kB 55.4MB/s \n",
            "\u001b[K     |████████████████████████████████| 102kB 14.1MB/s \n",
            "\u001b[K     |████████████████████████████████| 71kB 10.6MB/s \n",
            "\u001b[?25h  Building wheel for pathtools (setup.py) ... \u001b[?25l\u001b[?25hdone\n",
            "  Building wheel for subprocess32 (setup.py) ... \u001b[?25l\u001b[?25hdone\n",
            "  Installing build dependencies ... \u001b[?25l\u001b[?25hdone\n",
            "  Getting requirements to build wheel ... \u001b[?25l\u001b[?25hdone\n",
            "    Preparing wheel metadata ... \u001b[?25l\u001b[?25hdone\n",
            "\u001b[K     |████████████████████████████████| 348kB 15.2MB/s \n",
            "\u001b[K     |████████████████████████████████| 901kB 27.8MB/s \n",
            "\u001b[K     |████████████████████████████████| 3.3MB 51.5MB/s \n",
            "\u001b[?25h  Building wheel for transformers (PEP 517) ... \u001b[?25l\u001b[?25hdone\n",
            "\u001b[K     |████████████████████████████████| 819kB 14.0MB/s \n",
            "\u001b[K     |████████████████████████████████| 122kB 29.8MB/s \n",
            "\u001b[K     |████████████████████████████████| 10.6MB 22.1MB/s \n",
            "\u001b[K     |████████████████████████████████| 829kB 47.1MB/s \n",
            "\u001b[K     |████████████████████████████████| 645kB 50.8MB/s \n",
            "\u001b[K     |████████████████████████████████| 276kB 59.1MB/s \n",
            "\u001b[K     |████████████████████████████████| 1.3MB 51.5MB/s \n",
            "\u001b[K     |████████████████████████████████| 143kB 67.1MB/s \n",
            "\u001b[K     |████████████████████████████████| 296kB 65.9MB/s \n",
            "\u001b[?25h  Building wheel for future (setup.py) ... \u001b[?25l\u001b[?25hdone\n",
            "\u001b[31mERROR: tensorflow 2.5.0 has requirement tensorboard~=2.5, but you'll have tensorboard 2.4.1 which is incompatible.\u001b[0m\n"
          ],
          "name": "stdout"
        }
      ]
    },
    {
      "cell_type": "code",
      "metadata": {
        "id": "lf0sC2ohsULu"
      },
      "source": [
        "import argparse\n",
        "from natsort import natsorted\n",
        "\n",
        "parser = argparse.ArgumentParser(description='AG training arguments')\n",
        "parser.add_argument('run_name')\n",
        "parser.add_argument('--train_datasets', nargs='+', help='Training dataset names')\n",
        "parser.add_argument('--test_datasets', nargs='+', help='Testing dataset names')\n",
        "parser.add_argument('-c', '--colab', default=False, action='store_true', help='Enable if using colab environment')\n",
        "parser.add_argument('-s', '--data_source', default='DRIVE', help='Source of training data')\n",
        "parser.add_argument('-d', '--device', default='TPU', help='Hardware device to train on')\n",
        "parser.add_argument('-b', '--batch_size', default=16, type=int)\n",
        "parser.add_argument('-lr', '--learning_rate', type=float, default=2e-4)\n",
        "parser.add_argument('-t', '--train_steps', type=int, default=1000)\n",
        "parser.add_argument('--bucket_name', help='GCS bucket name to stream data from')\n",
        "parser.add_argument('--tpu_name', help='GCP TPU name') # Only used in the script on GCP\n",
        "\n",
        "\n",
        "\n",
        "### Sample local config\n",
        "args = parser.parse_args('''\n",
        "angles*rgb \n",
        "--train_dataset rgb_simple_ppt/train\n",
        "--test_dataset rgb_simple_ppt/val\n",
        "-c\n",
        "-s GCS\n",
        "--bucket_name lfp_europe_west4_a\n",
        "'''.split())\n",
        "\n",
        "### Sample local config\n",
        "# args = parser.parse_args('''\n",
        "# angles&rgb \n",
        "# --train_dataset rgb_ppt/train\n",
        "# --test_dataset rgb_ppt/val\n",
        "# -s LOCAL\n",
        "# --bucket_name lfp_europe_west4_a\n",
        "# '''.split())"
      ],
      "id": "lf0sC2ohsULu",
      "execution_count": 1,
      "outputs": []
    },
    {
      "cell_type": "code",
      "metadata": {
        "cellView": "form",
        "colab": {
          "base_uri": "https://localhost:8080/"
        },
        "id": "au8ZNw-5tWpU",
        "outputId": "07597b3a-e145-4a56-bff0-1333057d6863"
      },
      "source": [
        "from pathlib import Path\n",
        "from pathy import Pathy\n",
        "import os\n",
        "import requests\n",
        "import json\n",
        "import pprint\n",
        "import logging\n",
        "import numpy as np\n",
        "import tensorflow as tf\n",
        "import time\n",
        "\n",
        "\n",
        "\n",
        "pp = pprint.PrettyPrinter(indent=4)\n",
        "# In[4]:\n",
        "\n",
        "\n",
        "#@title Workpace Setup (Local vs Colab)\n",
        "\n",
        "# Set up working directory and libraries\n",
        "if args.colab:\n",
        "    from google.colab import drive, auth\n",
        "    print('Using colab setup')\n",
        "    WORKING_PATH = Path('/content/artificial_graphics')\n",
        "    # Clone repo\n",
        "    try:\n",
        "        get_ipython().system(\"git clone 'https://github.com/sholtodouglas/artificial_graphics' {WORKING_PATH}\")\n",
        "    except: \n",
        "        pass\n",
        "    # Mount drive\n",
        "    drive.mount('/content/drive')\n",
        "else:\n",
        "    print('Using local setup')\n",
        "    WORKING_PATH = Path.cwd()\n",
        "    print(f'Working path: {WORKING_PATH}')\n",
        "\n",
        "# Change working directory to artificial_graphics\n",
        "os.chdir(WORKING_PATH)\n",
        "import lib\n",
        "\n",
        "# Set up storage directory and datasets\n",
        "if args.data_source == 'DRIVE':\n",
        "    assert args.colab, \"Must be using Colab\"\n",
        "    print('Reading data from Google Drive')\n",
        "    STORAGE_PATH = Path('/content/drive/My Drive/artificial_graphics')\n",
        "elif args.data_source == 'GCS':\n",
        "    if args.colab:\n",
        "      auth.authenticate_user()\n",
        "    print('Reading data from Google Cloud Storage')\n",
        "    r = requests.get('https://ipinfo.io')\n",
        "    region = r.json()['region']\n",
        "    project_id = 'learning-from-play-303306'\n",
        "    logging.warning(f'You are accessing GCS data from {region}, make sure this is the same as your bucket {args.bucket_name}')\n",
        "    STORAGE_PATH = Pathy(f'gs://{args.bucket_name}')\n",
        "else:\n",
        "    print('Reading data from local filesystem')\n",
        "    STORAGE_PATH = WORKING_PATH\n",
        "\n",
        "print(f'Storage path: {STORAGE_PATH}')\n",
        "TRAIN_DATA_PATHS = [STORAGE_PATH/'data'/x for x in args.train_datasets]\n",
        "TEST_DATA_PATHS = [STORAGE_PATH/'data'/x for x in args.test_datasets]"
      ],
      "id": "au8ZNw-5tWpU",
      "execution_count": 2,
      "outputs": [
        {
          "output_type": "stream",
          "text": [
            "Using colab setup\n",
            "fatal: destination path '/content/artificial_graphics' already exists and is not an empty directory.\n",
            "Drive already mounted at /content/drive; to attempt to forcibly remount, call drive.mount(\"/content/drive\", force_remount=True).\n"
          ],
          "name": "stdout"
        },
        {
          "output_type": "stream",
          "text": [
            "WARNING:root:You are accessing GCS data from Groningen, make sure this is the same as your bucket lfp_europe_west4_a\n"
          ],
          "name": "stderr"
        },
        {
          "output_type": "stream",
          "text": [
            "Reading data from Google Cloud Storage\n",
            "Storage path: gs://lfp_europe_west4_a/\n"
          ],
          "name": "stdout"
        }
      ]
    },
    {
      "cell_type": "markdown",
      "metadata": {
        "id": "Bew8Z1nLtpEa"
      },
      "source": [
        "## With Pytorch - we have to copy the data over\n"
      ],
      "id": "Bew8Z1nLtpEa"
    },
    {
      "cell_type": "code",
      "metadata": {
        "colab": {
          "base_uri": "https://localhost:8080/"
        },
        "id": "KmesGK6wt-HQ",
        "outputId": "60ccb054-fe7b-4db7-dbac-91059924fdca"
      },
      "source": [
        "import subprocess\n",
        "!mkdir data\n",
        "!mkdir saved_models\n",
        "subprocess.call([\"gsutil\", \"-m\", \"cp\", \"-r\", f\"{TRAIN_DATA_PATHS[0]}\", \"data\"])\n",
        "subprocess.call([\"gsutil\", \"-m\", \"cp\", \"-r\", f\"{TEST_DATA_PATHS[0]}\", \"data\"])"
      ],
      "id": "KmesGK6wt-HQ",
      "execution_count": 8,
      "outputs": [
        {
          "output_type": "execute_result",
          "data": {
            "text/plain": [
              "0"
            ]
          },
          "metadata": {
            "tags": []
          },
          "execution_count": 8
        }
      ]
    },
    {
      "cell_type": "markdown",
      "metadata": {
        "id": "a77428df"
      },
      "source": [
        "## Create PyTorch dataset + dataloaders\n",
        "\n",
        "Here we define a regular PyTorch dataset. Each item of the dataset is an image and corresponding annotations. Torchvision already provides a `CocoDetection` dataset, which we can use. We only add a feature extractor (`DetrFeatureExtractor`) to resize + normalize the images, and to turn the annotations (which are in COCO format) in the format that DETR expects. It will also resize the annotations accordingly."
      ],
      "id": "a77428df"
    },
    {
      "cell_type": "code",
      "metadata": {
        "id": "77e69478"
      },
      "source": [
        "DATA_BASE = 'data/'"
      ],
      "id": "77e69478",
      "execution_count": 3,
      "outputs": []
    },
    {
      "cell_type": "code",
      "metadata": {
        "id": "3001804b"
      },
      "source": [
        "import torchvision\n",
        "import os\n",
        "import torch \n",
        "\n",
        "class CocoDetection(torchvision.datasets.CocoDetection):\n",
        "    def __init__(self, img_folder, feature_extractor, train=True):\n",
        "        ann_file = os.path.join(img_folder, \"custom_train.json\" if train else \"custom_val.json\")\n",
        "        super(CocoDetection, self).__init__(img_folder, ann_file)\n",
        "        self.feature_extractor = feature_extractor\n",
        "\n",
        "    def __getitem__(self, idx):\n",
        "        # read in PIL image and target in COCO format\n",
        "        img, target = super(CocoDetection, self).__getitem__(idx)\n",
        "        \n",
        "        # preprocess image and target (converting target to DETR format, resizing + normalization of both image and target)\n",
        "        image_id = self.ids[idx]\n",
        "        target = {'image_id': image_id, 'annotations': target}\n",
        "        encoding = self.feature_extractor(images=img, annotations=target, return_tensors=\"pt\")\n",
        "        pixel_values = encoding[\"pixel_values\"].squeeze() # remove batch dimension\n",
        "        rotation = torch.as_tensor([a['rotation'] for a in target['annotations']])\n",
        "        fill = torch.as_tensor([a['fill'] for a in target['annotations']])\n",
        "        target = encoding[\"target\"][0] # remove batch dimension\n",
        "        target['rotation'] = rotation\n",
        "        target['fill'] = fill\n",
        "        return pixel_values, target"
      ],
      "id": "3001804b",
      "execution_count": 4,
      "outputs": []
    },
    {
      "cell_type": "code",
      "metadata": {
        "colab": {
          "base_uri": "https://localhost:8080/"
        },
        "id": "86a2677d",
        "outputId": "f6ec4c59-4b88-430f-ccc4-a7db050da4c4"
      },
      "source": [
        "# Based on the class defined above, we create training and validation datasets.\n",
        "from transformers import DetrFeatureExtractor\n",
        "\n",
        "feature_extractor = DetrFeatureExtractor.from_pretrained(\"facebook/detr-resnet-50\")\n",
        "\n",
        "train_dataset = CocoDetection(img_folder=f'{DATA_BASE}/train', feature_extractor=feature_extractor)\n",
        "val_dataset = CocoDetection(img_folder=f'{DATA_BASE}/val', feature_extractor=feature_extractor, train=False)"
      ],
      "id": "86a2677d",
      "execution_count": 5,
      "outputs": [
        {
          "output_type": "stream",
          "text": [
            "loading annotations into memory...\n",
            "Done (t=0.40s)\n",
            "creating index...\n",
            "index created!\n",
            "loading annotations into memory...\n",
            "Done (t=0.01s)\n",
            "creating index...\n",
            "index created!\n"
          ],
          "name": "stdout"
        }
      ]
    },
    {
      "cell_type": "code",
      "metadata": {
        "colab": {
          "base_uri": "https://localhost:8080/"
        },
        "id": "d393d468",
        "outputId": "361b8345-d38f-4e3f-ba37-f322591624cf"
      },
      "source": [
        "print(\"Number of training examples:\", len(train_dataset))\n",
        "print(\"Number of validation examples:\", len(val_dataset))"
      ],
      "id": "d393d468",
      "execution_count": 6,
      "outputs": [
        {
          "output_type": "stream",
          "text": [
            "Number of training examples: 3120\n",
            "Number of validation examples: 80\n"
          ],
          "name": "stdout"
        }
      ]
    },
    {
      "cell_type": "code",
      "metadata": {
        "colab": {
          "base_uri": "https://localhost:8080/",
          "height": 574
        },
        "id": "014637a0",
        "outputId": "cc4d4082-7d94-421d-c78b-b10d39d2bc31"
      },
      "source": [
        "import numpy as np\n",
        "import os\n",
        "from PIL import Image, ImageDraw\n",
        "import math\n",
        "\n",
        "def makeRectangle(l, w, theta, offset=(0,0)):\n",
        "    c, s = math.cos(theta), math.sin(theta)\n",
        "    rectCoords = [(l/2.0, w/2.0), (l/2.0, -w/2.0), (-l/2.0, -w/2.0), (-l/2.0, w/2.0)]\n",
        "    return [(c*x-s*y+offset[0], s*x+c*y+offset[1]) for (x,y) in rectCoords]\n",
        "\n",
        "# based on https://github.com/woctezuma/finetune-detr/blob/master/finetune_detr.ipynb\n",
        "image_ids = val_dataset.coco.getImgIds()\n",
        "# let's pick a random image\n",
        "image_id = 0# image_ids[np.random.randint(0, len(image_ids))]\n",
        "print('Image n°{}'.format(image_id))\n",
        "image = val_dataset.coco.loadImgs(image_id)[0]\n",
        "image = Image.open(os.path.join(f'{DATA_BASE}/val', image['file_name']))\n",
        "\n",
        "annotations = val_dataset.coco.imgToAnns[image_id]\n",
        "draw = ImageDraw.Draw(image, \"RGBA\")\n",
        "\n",
        "cats = val_dataset.coco.cats\n",
        "id2label = {k: v['name'] for k,v in cats.items()}\n",
        "\n",
        "for annotation in annotations:\n",
        "  box = annotation['bbox']\n",
        "  class_idx = annotation['category_id']\n",
        "  x,y,w,h = tuple(box)\n",
        "  #draw.rectangle((x,y,x+w,y+h), outline='red', width=1)\n",
        "  v1,v2 = annotation['rotation']\n",
        "  A  = np.arctan2(v2,v1)\n",
        "  vertices = makeRectangle(w, h, A, offset=(x+w/2, y+h/2))  \n",
        "  draw.polygon(vertices, outline='red')\n",
        "  \n",
        "  draw.text((vertices[2][0], vertices[2][1]), id2label[class_idx], fill='black')\n",
        "\n",
        "image"
      ],
      "id": "014637a0",
      "execution_count": 7,
      "outputs": [
        {
          "output_type": "stream",
          "text": [
            "Image n°0\n"
          ],
          "name": "stdout"
        },
        {
          "output_type": "execute_result",
          "data": {
            "image/png": "[encoded data removed]",
            "text/plain": [
              "<PIL.JpegImagePlugin.JpegImageFile image mode=RGB size=960x540 at 0x7FACF5A732D0>"
            ]
          },
          "metadata": {
            "tags": []
          },
          "execution_count": 7
        }
      ]
    },
    {
      "cell_type": "code",
      "metadata": {
        "id": "03948d85"
      },
      "source": [
        "from torch.utils.data import DataLoader\n",
        "\n",
        "def collate_fn(batch):\n",
        "  pixel_values = [item[0] for item in batch]\n",
        "  encoding = feature_extractor.pad_and_create_pixel_mask(pixel_values, return_tensors=\"pt\")\n",
        "  labels = [item[1] for item in batch]\n",
        "  batch = {}\n",
        "  batch['pixel_values'] = encoding['pixel_values']\n",
        "  batch['pixel_mask'] = encoding['pixel_mask']\n",
        "  batch['labels'] = labels\n",
        "  return batch\n",
        "\n",
        "train_dataloader = DataLoader(train_dataset, collate_fn=collate_fn, batch_size=4, shuffle=True, num_workers = 3)\n",
        "val_dataloader = DataLoader(val_dataset, collate_fn=collate_fn, batch_size=4, shuffle=True, num_workers = 3)\n",
        "t_it = iter(train_dataloader)\n",
        "batch = next(t_it)"
      ],
      "id": "03948d85",
      "execution_count": 8,
      "outputs": []
    },
    {
      "cell_type": "code",
      "metadata": {
        "id": "3362a4b1"
      },
      "source": [
        "# batch = next(t_it)\n",
        "# import matplotlib.pyplot as plt\n",
        "# for i in range(0,4):\n",
        "#     plt.imshow(batch['pixel_values'][i].permute(1,2,0))\n",
        "#     plt.show()"
      ],
      "id": "3362a4b1",
      "execution_count": 9,
      "outputs": []
    },
    {
      "cell_type": "code",
      "metadata": {
        "id": "c0d75657"
      },
      "source": [
        "import lib\n",
        "import lib.DETR"
      ],
      "id": "c0d75657",
      "execution_count": 10,
      "outputs": []
    },
    {
      "cell_type": "code",
      "metadata": {
        "colab": {
          "base_uri": "https://localhost:8080/"
        },
        "id": "QEy3dEAdxdGy",
        "outputId": "90782536-aeff-43d6-de6e-b7bd4b9300cb"
      },
      "source": [
        "!git pull"
      ],
      "id": "QEy3dEAdxdGy",
      "execution_count": 11,
      "outputs": [
        {
          "output_type": "stream",
          "text": [
            "Already up to date.\n"
          ],
          "name": "stdout"
        }
      ]
    },
    {
      "cell_type": "code",
      "metadata": {
        "colab": {
          "base_uri": "https://localhost:8080/"
        },
        "id": "bb1c17f4",
        "outputId": "9e2476b8-48e3-4bd5-cf1c-699b8f7cd0f9"
      },
      "source": [
        "from importlib import reload\n",
        "reload(lib)\n",
        "reload(lib.DETR)"
      ],
      "id": "bb1c17f4",
      "execution_count": 12,
      "outputs": [
        {
          "output_type": "execute_result",
          "data": {
            "text/plain": [
              "<module 'lib.DETR' from '/content/artificial_graphics/lib/DETR.py'>"
            ]
          },
          "metadata": {
            "tags": []
          },
          "execution_count": 12
        }
      ]
    },
    {
      "cell_type": "code",
      "metadata": {
        "colab": {
          "base_uri": "https://localhost:8080/",
          "height": 187
        },
        "id": "ZENcngZC-UIx",
        "outputId": "b4f1c449-98af-4c11-c610-1a4ad3aa31d3"
      },
      "source": [
        "import wandb\n",
        "wandb.init(project=\"artificial_graphics_v3\")\n",
        "wandb.run.name = args.run_name"
      ],
      "id": "ZENcngZC-UIx",
      "execution_count": 13,
      "outputs": [
        {
          "output_type": "display_data",
          "data": {
            "application/javascript": [
              "\n",
              "        window._wandbApiKey = new Promise((resolve, reject) => {\n",
              "            function loadScript(url) {\n",
              "            return new Promise(function(resolve, reject) {\n",
              "                let newScript = document.createElement(\"script\");\n",
              "                newScript.onerror = reject;\n",
              "                newScript.onload = resolve;\n",
              "                document.body.appendChild(newScript);\n",
              "                newScript.src = url;\n",
              "            });\n",
              "            }\n",
              "            loadScript(\"https://cdn.jsdelivr.net/npm/postmate/build/postmate.min.js\").then(() => {\n",
              "            const iframe = document.createElement('iframe')\n",
              "            iframe.style.cssText = \"width:0;height:0;border:none\"\n",
              "            document.body.appendChild(iframe)\n",
              "            const handshake = new Postmate({\n",
              "                container: iframe,\n",
              "                url: 'https://wandb.ai/authorize'\n",
              "            });\n",
              "            const timeout = setTimeout(() => reject(\"Couldn't auto authenticate\"), 5000)\n",
              "            handshake.then(function(child) {\n",
              "                child.on('authorize', data => {\n",
              "                    clearTimeout(timeout)\n",
              "                    resolve(data)\n",
              "                });\n",
              "            });\n",
              "            })\n",
              "        });\n",
              "    "
            ],
            "text/plain": [
              "<IPython.core.display.Javascript object>"
            ]
          },
          "metadata": {
            "tags": []
          }
        },
        {
          "output_type": "stream",
          "text": [
            "\u001b[34m\u001b[1mwandb\u001b[0m: You can find your API key in your browser here: https://wandb.ai/authorize\n"
          ],
          "name": "stderr"
        },
        {
          "output_type": "stream",
          "text": [
            "wandb: Paste an API key from your profile and hit enter: ··········\n"
          ],
          "name": "stdout"
        },
        {
          "output_type": "stream",
          "text": [
            "\u001b[34m\u001b[1mwandb\u001b[0m: Appending key for api.wandb.ai to your netrc file: /root/.netrc\n"
          ],
          "name": "stderr"
        },
        {
          "output_type": "display_data",
          "data": {
            "text/html": [
              "\n",
              "                Tracking run with wandb version 0.10.32<br/>\n",
              "                Syncing run <strong style=\"color:#cdcd00\">dandy-flower-11</strong> to <a href=\"https://wandb.ai\" target=\"_blank\">Weights & Biases</a> <a href=\"https://docs.wandb.com/integrations/jupyter.html\" target=\"_blank\">(Documentation)</a>.<br/>\n",
              "                Project page: <a href=\"https://wandb.ai/sholto/artificial_graphics_v3\" target=\"_blank\">https://wandb.ai/sholto/artificial_graphics_v3</a><br/>\n",
              "                Run page: <a href=\"https://wandb.ai/sholto/artificial_graphics_v3/runs/2bvex58p\" target=\"_blank\">https://wandb.ai/sholto/artificial_graphics_v3/runs/2bvex58p</a><br/>\n",
              "                Run data is saved locally in <code>/content/artificial_graphics/wandb/run-20210627_093309-2bvex58p</code><br/><br/>\n",
              "            "
            ],
            "text/plain": [
              "<IPython.core.display.HTML object>"
            ]
          },
          "metadata": {
            "tags": []
          }
        }
      ]
    },
    {
      "cell_type": "code",
      "metadata": {
        "id": "84f9dd5f",
        "colab": {
          "base_uri": "https://localhost:8080/"
        },
        "outputId": "663b8f06-9973-4bb2-986b-6b6d8ca9426e"
      },
      "source": [
        "import pytorch_lightning as pl\n",
        "from transformers import DetrConfig\n",
        "from lib.DETR import DetrForObjectDetection\n",
        "import torch\n",
        "\n",
        "class Detr(pl.LightningModule):\n",
        "\n",
        "     def __init__(self, lr, lr_backbone, weight_decay):\n",
        "         super().__init__()\n",
        "         model = DetrForObjectDetection.from_pretrained(\"facebook/detr-resnet-50\")\n",
        "         state_dict = model.state_dict()\n",
        "         # Remove class weights\n",
        "         del state_dict[\"class_labels_classifier.weight\"]\n",
        "         del state_dict[\"class_labels_classifier.bias\"]\n",
        "         # define new model with custom class classifier\n",
        "         config = DetrConfig.from_pretrained(\"facebook/detr-resnet-50\", num_labels=len(id2label))\n",
        "         model = DetrForObjectDetection(config)\n",
        "         model.load_state_dict(state_dict, strict=False)\n",
        "         self.model = model\n",
        "\n",
        "         # see https://github.com/PyTorchLightning/pytorch-lightning/pull/1896\n",
        "         self.lr = lr\n",
        "         self.lr_backbone = lr_backbone\n",
        "         self.weight_decay = weight_decay\n",
        "\n",
        "     def forward(self, pixel_values, pixel_mask):\n",
        "       outputs = self.model(pixel_values=pixel_values, pixel_mask=pixel_mask)\n",
        "\n",
        "       return outputs\n",
        "     \n",
        "     def common_step(self, batch, batch_idx):\n",
        "       pixel_values = batch[\"pixel_values\"]\n",
        "       pixel_mask = batch[\"pixel_mask\"]\n",
        "       labels = [{k: v.to(self.device) for k, v in t.items()} for t in batch[\"labels\"]]\n",
        "\n",
        "       outputs = self.model(pixel_values=pixel_values, pixel_mask=pixel_mask, labels=labels)\n",
        "\n",
        "       loss = outputs.loss\n",
        "       loss_dict = outputs.loss_dict\n",
        "\n",
        "       return loss, loss_dict\n",
        "\n",
        "     def training_step(self, batch, batch_idx):\n",
        "        loss, loss_dict = self.common_step(batch, batch_idx)\n",
        "        log_dict = {\"train_\" + k: v.item() for k,v in loss_dict.items()}   \n",
        "        log_dict['train_loss'] = loss   \n",
        "        # logs metrics for each training_step,\n",
        "        # and the average across the epoch\n",
        "        # self.log(\"training_loss\", loss)\n",
        "        # for k,v in loss_dict.items():\n",
        "        #   self.log(\"train_\" + k, v.item())\n",
        "        wandb.log(log_dict, step=self.global_step)\n",
        "        return loss\n",
        "\n",
        "     def validation_step(self, batch, batch_idx):\n",
        "        loss, loss_dict = self.common_step(batch, batch_idx) \n",
        "        log_dict = {\"validation_\" + k: v.item() for k,v in loss_dict.items()}\n",
        "        log_dict['validation_loss'] = loss    \n",
        "        # self.log(\"validation_loss\", loss)\n",
        "        # for k,v in loss_dict.items():\n",
        "        #   self.log(\"validation_\" + k, v.item())\n",
        "        wandb.log(log_dict, step=self.global_step)\n",
        "        self.save()\n",
        "        return loss\n",
        "\n",
        "     def configure_optimizers(self):\n",
        "        param_dicts = [\n",
        "              {\"params\": [p for n, p in self.named_parameters() if \"backbone\" not in n and p.requires_grad]},\n",
        "              {\n",
        "                  \"params\": [p for n, p in self.named_parameters() if \"backbone\" in n and p.requires_grad],\n",
        "                  \"lr\": self.lr_backbone,\n",
        "              },\n",
        "        ]\n",
        "        optimizer = torch.optim.AdamW(param_dicts, lr=self.lr,\n",
        "                                  weight_decay=self.weight_decay)\n",
        "        \n",
        "        return optimizer\n",
        "\n",
        "     def train_dataloader(self):\n",
        "        return train_dataloader\n",
        "\n",
        "     def val_dataloader(self):\n",
        "        return val_dataloader\n",
        "\n",
        "     def save(self):\n",
        "        torch.save(self.model.state_dict(), f'saved_models/{args.run_name}')\n",
        "        subprocess.call([\"gsutil\", \"-m\", \"cp\", \"-r\", \"saved_models/\", str(STORAGE_PATH),])"
      ],
      "id": "84f9dd5f",
      "execution_count": 15,
      "outputs": [
        {
          "output_type": "stream",
          "text": [
            "/usr/local/lib/python3.7/dist-packages/pytorch_lightning/metrics/__init__.py:44: LightningDeprecationWarning: `pytorch_lightning.metrics.*` module has been renamed to `torchmetrics.*` and split off to its own package (https://github.com/PyTorchLightning/metrics) since v1.3 and will be removed in v1.5\n",
            "  \"`pytorch_lightning.metrics.*` module has been renamed to `torchmetrics.*` and split off to its own package\"\n"
          ],
          "name": "stderr"
        }
      ]
    },
    {
      "cell_type": "code",
      "metadata": {
        "colab": {
          "base_uri": "https://localhost:8080/",
          "height": 271,
          "referenced_widgets": [
            "cd6a4ceedc6543199da81cf72769b58d",
            "c75b6a9912084b14b77234f51be0ed73",
            "5b6c7cbe98d74e0cba5969ad98414c68",
            "c2945119d45a434d90c15212c5ec48cb",
            "bd7b444b48934e6b97697cbe2f3bd686",
            "b6c1672cf4ae4863b1239c130b90532a",
            "ad1963c3042d4c8b81496a3b14db531f",
            "f2d3b375a7924cab9ae93e705a997629",
            "802006b7603345d7a02c12df2346bd2b",
            "00d7137400e747349d0df6957e2ff9e1",
            "f19915f54bd84080995a8d2c04c525f8",
            "4067d12c9ea34959ba273500c6ef1c03",
            "ff57c6bddbc84a68a9e6cc2fd2310322",
            "43d736fe2a484a12be851fdf5111ec01",
            "31bd85e7c93f498eb4fd791ed3251477",
            "de63e3a4bb7b4276b464f45fb4ca4da7"
          ]
        },
        "id": "003df751",
        "outputId": "e03d06fd-3eef-483c-bddd-1c7e0e9e1f2a"
      },
      "source": [
        "model = Detr(lr=1e-4, lr_backbone=1e-5, weight_decay=1e-4)\n",
        "\n",
        "outputs = model(pixel_values=batch['pixel_values'], pixel_mask=batch['pixel_mask'])"
      ],
      "id": "003df751",
      "execution_count": 16,
      "outputs": [
        {
          "output_type": "display_data",
          "data": {
            "application/vnd.jupyter.widget-view+json": {
              "model_id": "cd6a4ceedc6543199da81cf72769b58d",
              "version_minor": 0,
              "version_major": 2
            },
            "text/plain": [
              "HBox(children=(FloatProgress(value=0.0, description='Downloading', max=4381.0, style=ProgressStyle(description…"
            ]
          },
          "metadata": {
            "tags": []
          }
        },
        {
          "output_type": "stream",
          "text": [
            "\n"
          ],
          "name": "stdout"
        },
        {
          "output_type": "display_data",
          "data": {
            "application/vnd.jupyter.widget-view+json": {
              "model_id": "802006b7603345d7a02c12df2346bd2b",
              "version_minor": 0,
              "version_major": 2
            },
            "text/plain": [
              "HBox(children=(FloatProgress(value=0.0, description='Downloading', max=166731871.0, style=ProgressStyle(descri…"
            ]
          },
          "metadata": {
            "tags": []
          }
        },
        {
          "output_type": "stream",
          "text": [
            "\n"
          ],
          "name": "stdout"
        },
        {
          "output_type": "stream",
          "text": [
            "Downloading: \"https://github.com/rwightman/pytorch-image-models/releases/download/v0.1-weights/resnet50_ram-a26f946b.pth\" to /root/.cache/torch/hub/checkpoints/resnet50_ram-a26f946b.pth\n",
            "Some weights of DetrForObjectDetection were not initialized from the model checkpoint at facebook/detr-resnet-50 and are newly initialized: ['rotation_predictor.layers.1.bias', 'fill_predictor.layers.1.weight', 'fill_predictor.layers.0.weight', 'fill_predictor.layers.0.bias', 'rotation_predictor.layers.1.weight', 'fill_predictor.layers.1.bias', 'rotation_predictor.layers.0.weight', 'rotation_predictor.layers.0.bias']\n",
            "You should probably TRAIN this model on a down-stream task to be able to use it for predictions and inference.\n",
            "/usr/local/lib/python3.7/dist-packages/torch/nn/functional.py:718: UserWarning: Named tensors and all their associated APIs are an experimental feature and subject to change. Please do not use them for anything important until they are released as stable. (Triggered internally at  /pytorch/c10/core/TensorImpl.h:1156.)\n",
            "  return torch.max_pool2d(input, kernel_size, stride, padding, dilation, ceil_mode)\n",
            "/usr/local/lib/python3.7/dist-packages/torch/_tensor.py:575: UserWarning: floor_divide is deprecated, and will be removed in a future version of pytorch. It currently rounds toward 0 (like the 'trunc' function NOT 'floor'). This results in incorrect rounding for negative values.\n",
            "To keep the current behavior, use torch.div(a, b, rounding_mode='trunc'), or for actual floor division, use torch.div(a, b, rounding_mode='floor'). (Triggered internally at  /pytorch/aten/src/ATen/native/BinaryOps.cpp:467.)\n",
            "  return torch.floor_divide(self, other)\n"
          ],
          "name": "stderr"
        }
      ]
    },
    {
      "cell_type": "code",
      "metadata": {
        "colab": {
          "base_uri": "https://localhost:8080/",
          "height": 307,
          "referenced_widgets": [
            "f1821489df8d4954b8f7a6b59810c8be",
            "7872e3ccc3344fdcbccda58bf1c4e98e",
            "53264e53881746fa87f456e0d524201f",
            "930468ff8d9846098eee26cc63e54ca6",
            "17349e0374f04e6f862bb8ecad6fee0d",
            "ce7593f8a9054bdcb45918bae4234c41",
            "a3a2ea10ffb544b6963fcba3aa41739c",
            "b7c17859289b403f804586e7132b2d28"
          ]
        },
        "id": "b9b629c6",
        "outputId": "2492c83f-4431-4f2d-fbad-035879079454"
      },
      "source": [
        "from pytorch_lightning import Trainer\n",
        "\n",
        "trainer = Trainer(gpus=1, max_steps=20000, gradient_clip_val=0.1)\n",
        "trainer.fit(model)"
      ],
      "id": "b9b629c6",
      "execution_count": null,
      "outputs": [
        {
          "output_type": "stream",
          "text": [
            "INFO:pytorch_lightning.utilities.distributed:GPU available: True, used: True\n",
            "INFO:pytorch_lightning.utilities.distributed:TPU available: False, using: 0 TPU cores\n",
            "INFO:pytorch_lightning.accelerators.gpu:LOCAL_RANK: 0 - CUDA_VISIBLE_DEVICES: [0]\n",
            "INFO:pytorch_lightning.core.lightning:\n",
            "  | Name  | Type                   | Params\n",
            "-------------------------------------------------\n",
            "0 | model | DetrForObjectDetection | 41.6 M\n",
            "-------------------------------------------------\n",
            "41.4 M    Trainable params\n",
            "222 K     Non-trainable params\n",
            "41.6 M    Total params\n",
            "166.577   Total estimated model params size (MB)\n"
          ],
          "name": "stderr"
        },
        {
          "output_type": "display_data",
          "data": {
            "application/vnd.jupyter.widget-view+json": {
              "model_id": "f1821489df8d4954b8f7a6b59810c8be",
              "version_minor": 0,
              "version_major": 2
            },
            "text/plain": [
              "HBox(children=(FloatProgress(value=1.0, bar_style='info', description='Validation sanity check', layout=Layout…"
            ]
          },
          "metadata": {
            "tags": []
          }
        },
        {
          "output_type": "stream",
          "text": [
            "/usr/local/lib/python3.7/dist-packages/pytorch_lightning/trainer/data_loading.py:349: UserWarning: Your val_dataloader has `shuffle=True`, it is best practice to turn this off for val/test/predict dataloaders.\n",
            "  f'Your {mode}_dataloader has `shuffle=True`, it is best practice to turn'\n"
          ],
          "name": "stderr"
        }
      ]
    },
    {
      "cell_type": "code",
      "metadata": {
        "id": "rLB5ar-W36Z9",
        "colab": {
          "base_uri": "https://localhost:8080/"
        },
        "outputId": "436881da-dd77-4aad-ff02-913cb9ed2d2d"
      },
      "source": [
        "!ls saved_models"
      ],
      "id": "rLB5ar-W36Z9",
      "execution_count": null,
      "outputs": [
        {
          "output_type": "stream",
          "text": [
            "dummy_run2\n"
          ],
          "name": "stdout"
        }
      ]
    },
    {
      "cell_type": "code",
      "metadata": {
        "id": "VaIQSIkw4d-l",
        "colab": {
          "base_uri": "https://localhost:8080/"
        },
        "outputId": "0f99d075-20f5-408c-a697-7ff96855a408"
      },
      "source": [
        "!gsutil -m cp -r saved_models/ gs://lfp_europe_west4_a/"
      ],
      "id": "VaIQSIkw4d-l",
      "execution_count": null,
      "outputs": [
        {
          "output_type": "stream",
          "text": [
            "Copying file://saved_models/dummy_run2 [Content-Type=application/octet-stream]...\n",
            "/ [0/1 files][    0.0 B/158.9 MiB]   0% Done                                    \r==> NOTE: You are uploading one or more large file(s), which would run\n",
            "significantly faster if you enable parallel composite uploads. This\n",
            "feature can be enabled by editing the\n",
            "\"parallel_composite_upload_threshold\" value in your .boto\n",
            "configuration file. However, note that if you do this large files will\n",
            "be uploaded as `composite objects\n",
            "<https://cloud.google.com/storage/docs/composite-objects>`_,which\n",
            "means that any user who downloads such objects will need to have a\n",
            "compiled crcmod installed (see \"gsutil help crcmod\"). This is because\n",
            "without a compiled crcmod, computing checksums on composite objects is\n",
            "so slow that gsutil disables downloads of composite objects.\n",
            "\n",
            "\\ [1/1 files][158.9 MiB/158.9 MiB] 100% Done                                    \n",
            "Operation completed over 1 objects/158.9 MiB.                                    \n"
          ],
          "name": "stdout"
        }
      ]
    },
    {
      "cell_type": "code",
      "metadata": {
        "id": "OBIzijzx4WNO",
        "colab": {
          "base_uri": "https://localhost:8080/"
        },
        "outputId": "ea6c1e89-a532-4906-ee06-2a1ebc2bab9e"
      },
      "source": [
        ""
      ],
      "id": "OBIzijzx4WNO",
      "execution_count": null,
      "outputs": [
        {
          "output_type": "execute_result",
          "data": {
            "text/plain": [
              "0"
            ]
          },
          "metadata": {
            "tags": []
          },
          "execution_count": 96
        }
      ]
    },
    {
      "cell_type": "code",
      "metadata": {
        "id": "4DKUV_Bp3734"
      },
      "source": [
        ""
      ],
      "id": "4DKUV_Bp3734",
      "execution_count": null,
      "outputs": []
    },
    {
      "cell_type": "code",
      "metadata": {
        "colab": {
          "base_uri": "https://localhost:8080/"
        },
        "id": "WJpfpS186XMY",
        "outputId": "822a572e-1218-4334-cce8-918f457f30ad"
      },
      "source": [
        "device = torch.device(\"cuda\" if torch.cuda.is_available() else \"cpu\")\n",
        "model.to(device)\n",
        "# model.eval()"
      ],
      "id": "WJpfpS186XMY",
      "execution_count": null,
      "outputs": [
        {
          "output_type": "execute_result",
          "data": {
            "text/plain": [
              "Detr(\n",
              "  (model): DetrForObjectDetection(\n",
              "    (model): DetrModel(\n",
              "      (backbone): DetrConvModel(\n",
              "        (conv_encoder): DetrTimmConvEncoder(\n",
              "          (model): FeatureListNet(\n",
              "            (conv1): Conv2d(3, 64, kernel_size=(7, 7), stride=(2, 2), padding=(3, 3), bias=False)\n",
              "            (bn1): DetrFrozenBatchNorm2d()\n",
              "            (act1): ReLU(inplace=True)\n",
              "            (maxpool): MaxPool2d(kernel_size=3, stride=2, padding=1, dilation=1, ceil_mode=False)\n",
              "            (layer1): Sequential(\n",
              "              (0): Bottleneck(\n",
              "                (conv1): Conv2d(64, 64, kernel_size=(1, 1), stride=(1, 1), bias=False)\n",
              "                (bn1): DetrFrozenBatchNorm2d()\n",
              "                (act1): ReLU(inplace=True)\n",
              "                (conv2): Conv2d(64, 64, kernel_size=(3, 3), stride=(1, 1), padding=(1, 1), bias=False)\n",
              "                (bn2): DetrFrozenBatchNorm2d()\n",
              "                (act2): ReLU(inplace=True)\n",
              "                (conv3): Conv2d(64, 256, kernel_size=(1, 1), stride=(1, 1), bias=False)\n",
              "                (bn3): DetrFrozenBatchNorm2d()\n",
              "                (act3): ReLU(inplace=True)\n",
              "                (downsample): Sequential(\n",
              "                  (0): Conv2d(64, 256, kernel_size=(1, 1), stride=(1, 1), bias=False)\n",
              "                  (1): BatchNorm2d(256, eps=1e-05, momentum=0.1, affine=True, track_running_stats=True)\n",
              "                )\n",
              "              )\n",
              "              (1): Bottleneck(\n",
              "                (conv1): Conv2d(256, 64, kernel_size=(1, 1), stride=(1, 1), bias=False)\n",
              "                (bn1): DetrFrozenBatchNorm2d()\n",
              "                (act1): ReLU(inplace=True)\n",
              "                (conv2): Conv2d(64, 64, kernel_size=(3, 3), stride=(1, 1), padding=(1, 1), bias=False)\n",
              "                (bn2): DetrFrozenBatchNorm2d()\n",
              "                (act2): ReLU(inplace=True)\n",
              "                (conv3): Conv2d(64, 256, kernel_size=(1, 1), stride=(1, 1), bias=False)\n",
              "                (bn3): DetrFrozenBatchNorm2d()\n",
              "                (act3): ReLU(inplace=True)\n",
              "              )\n",
              "              (2): Bottleneck(\n",
              "                (conv1): Conv2d(256, 64, kernel_size=(1, 1), stride=(1, 1), bias=False)\n",
              "                (bn1): DetrFrozenBatchNorm2d()\n",
              "                (act1): ReLU(inplace=True)\n",
              "                (conv2): Conv2d(64, 64, kernel_size=(3, 3), stride=(1, 1), padding=(1, 1), bias=False)\n",
              "                (bn2): DetrFrozenBatchNorm2d()\n",
              "                (act2): ReLU(inplace=True)\n",
              "                (conv3): Conv2d(64, 256, kernel_size=(1, 1), stride=(1, 1), bias=False)\n",
              "                (bn3): DetrFrozenBatchNorm2d()\n",
              "                (act3): ReLU(inplace=True)\n",
              "              )\n",
              "            )\n",
              "            (layer2): Sequential(\n",
              "              (0): Bottleneck(\n",
              "                (conv1): Conv2d(256, 128, kernel_size=(1, 1), stride=(1, 1), bias=False)\n",
              "                (bn1): DetrFrozenBatchNorm2d()\n",
              "                (act1): ReLU(inplace=True)\n",
              "                (conv2): Conv2d(128, 128, kernel_size=(3, 3), stride=(2, 2), padding=(1, 1), bias=False)\n",
              "                (bn2): DetrFrozenBatchNorm2d()\n",
              "                (act2): ReLU(inplace=True)\n",
              "                (conv3): Conv2d(128, 512, kernel_size=(1, 1), stride=(1, 1), bias=False)\n",
              "                (bn3): DetrFrozenBatchNorm2d()\n",
              "                (act3): ReLU(inplace=True)\n",
              "                (downsample): Sequential(\n",
              "                  (0): Conv2d(256, 512, kernel_size=(1, 1), stride=(2, 2), bias=False)\n",
              "                  (1): BatchNorm2d(512, eps=1e-05, momentum=0.1, affine=True, track_running_stats=True)\n",
              "                )\n",
              "              )\n",
              "              (1): Bottleneck(\n",
              "                (conv1): Conv2d(512, 128, kernel_size=(1, 1), stride=(1, 1), bias=False)\n",
              "                (bn1): DetrFrozenBatchNorm2d()\n",
              "                (act1): ReLU(inplace=True)\n",
              "                (conv2): Conv2d(128, 128, kernel_size=(3, 3), stride=(1, 1), padding=(1, 1), bias=False)\n",
              "                (bn2): DetrFrozenBatchNorm2d()\n",
              "                (act2): ReLU(inplace=True)\n",
              "                (conv3): Conv2d(128, 512, kernel_size=(1, 1), stride=(1, 1), bias=False)\n",
              "                (bn3): DetrFrozenBatchNorm2d()\n",
              "                (act3): ReLU(inplace=True)\n",
              "              )\n",
              "              (2): Bottleneck(\n",
              "                (conv1): Conv2d(512, 128, kernel_size=(1, 1), stride=(1, 1), bias=False)\n",
              "                (bn1): DetrFrozenBatchNorm2d()\n",
              "                (act1): ReLU(inplace=True)\n",
              "                (conv2): Conv2d(128, 128, kernel_size=(3, 3), stride=(1, 1), padding=(1, 1), bias=False)\n",
              "                (bn2): DetrFrozenBatchNorm2d()\n",
              "                (act2): ReLU(inplace=True)\n",
              "                (conv3): Conv2d(128, 512, kernel_size=(1, 1), stride=(1, 1), bias=False)\n",
              "                (bn3): DetrFrozenBatchNorm2d()\n",
              "                (act3): ReLU(inplace=True)\n",
              "              )\n",
              "              (3): Bottleneck(\n",
              "                (conv1): Conv2d(512, 128, kernel_size=(1, 1), stride=(1, 1), bias=False)\n",
              "                (bn1): DetrFrozenBatchNorm2d()\n",
              "                (act1): ReLU(inplace=True)\n",
              "                (conv2): Conv2d(128, 128, kernel_size=(3, 3), stride=(1, 1), padding=(1, 1), bias=False)\n",
              "                (bn2): DetrFrozenBatchNorm2d()\n",
              "                (act2): ReLU(inplace=True)\n",
              "                (conv3): Conv2d(128, 512, kernel_size=(1, 1), stride=(1, 1), bias=False)\n",
              "                (bn3): DetrFrozenBatchNorm2d()\n",
              "                (act3): ReLU(inplace=True)\n",
              "              )\n",
              "            )\n",
              "            (layer3): Sequential(\n",
              "              (0): Bottleneck(\n",
              "                (conv1): Conv2d(512, 256, kernel_size=(1, 1), stride=(1, 1), bias=False)\n",
              "                (bn1): DetrFrozenBatchNorm2d()\n",
              "                (act1): ReLU(inplace=True)\n",
              "                (conv2): Conv2d(256, 256, kernel_size=(3, 3), stride=(2, 2), padding=(1, 1), bias=False)\n",
              "                (bn2): DetrFrozenBatchNorm2d()\n",
              "                (act2): ReLU(inplace=True)\n",
              "                (conv3): Conv2d(256, 1024, kernel_size=(1, 1), stride=(1, 1), bias=False)\n",
              "                (bn3): DetrFrozenBatchNorm2d()\n",
              "                (act3): ReLU(inplace=True)\n",
              "                (downsample): Sequential(\n",
              "                  (0): Conv2d(512, 1024, kernel_size=(1, 1), stride=(2, 2), bias=False)\n",
              "                  (1): BatchNorm2d(1024, eps=1e-05, momentum=0.1, affine=True, track_running_stats=True)\n",
              "                )\n",
              "              )\n",
              "              (1): Bottleneck(\n",
              "                (conv1): Conv2d(1024, 256, kernel_size=(1, 1), stride=(1, 1), bias=False)\n",
              "                (bn1): DetrFrozenBatchNorm2d()\n",
              "                (act1): ReLU(inplace=True)\n",
              "                (conv2): Conv2d(256, 256, kernel_size=(3, 3), stride=(1, 1), padding=(1, 1), bias=False)\n",
              "                (bn2): DetrFrozenBatchNorm2d()\n",
              "                (act2): ReLU(inplace=True)\n",
              "                (conv3): Conv2d(256, 1024, kernel_size=(1, 1), stride=(1, 1), bias=False)\n",
              "                (bn3): DetrFrozenBatchNorm2d()\n",
              "                (act3): ReLU(inplace=True)\n",
              "              )\n",
              "              (2): Bottleneck(\n",
              "                (conv1): Conv2d(1024, 256, kernel_size=(1, 1), stride=(1, 1), bias=False)\n",
              "                (bn1): DetrFrozenBatchNorm2d()\n",
              "                (act1): ReLU(inplace=True)\n",
              "                (conv2): Conv2d(256, 256, kernel_size=(3, 3), stride=(1, 1), padding=(1, 1), bias=False)\n",
              "                (bn2): DetrFrozenBatchNorm2d()\n",
              "                (act2): ReLU(inplace=True)\n",
              "                (conv3): Conv2d(256, 1024, kernel_size=(1, 1), stride=(1, 1), bias=False)\n",
              "                (bn3): DetrFrozenBatchNorm2d()\n",
              "                (act3): ReLU(inplace=True)\n",
              "              )\n",
              "              (3): Bottleneck(\n",
              "                (conv1): Conv2d(1024, 256, kernel_size=(1, 1), stride=(1, 1), bias=False)\n",
              "                (bn1): DetrFrozenBatchNorm2d()\n",
              "                (act1): ReLU(inplace=True)\n",
              "                (conv2): Conv2d(256, 256, kernel_size=(3, 3), stride=(1, 1), padding=(1, 1), bias=False)\n",
              "                (bn2): DetrFrozenBatchNorm2d()\n",
              "                (act2): ReLU(inplace=True)\n",
              "                (conv3): Conv2d(256, 1024, kernel_size=(1, 1), stride=(1, 1), bias=False)\n",
              "                (bn3): DetrFrozenBatchNorm2d()\n",
              "                (act3): ReLU(inplace=True)\n",
              "              )\n",
              "              (4): Bottleneck(\n",
              "                (conv1): Conv2d(1024, 256, kernel_size=(1, 1), stride=(1, 1), bias=False)\n",
              "                (bn1): DetrFrozenBatchNorm2d()\n",
              "                (act1): ReLU(inplace=True)\n",
              "                (conv2): Conv2d(256, 256, kernel_size=(3, 3), stride=(1, 1), padding=(1, 1), bias=False)\n",
              "                (bn2): DetrFrozenBatchNorm2d()\n",
              "                (act2): ReLU(inplace=True)\n",
              "                (conv3): Conv2d(256, 1024, kernel_size=(1, 1), stride=(1, 1), bias=False)\n",
              "                (bn3): DetrFrozenBatchNorm2d()\n",
              "                (act3): ReLU(inplace=True)\n",
              "              )\n",
              "              (5): Bottleneck(\n",
              "                (conv1): Conv2d(1024, 256, kernel_size=(1, 1), stride=(1, 1), bias=False)\n",
              "                (bn1): DetrFrozenBatchNorm2d()\n",
              "                (act1): ReLU(inplace=True)\n",
              "                (conv2): Conv2d(256, 256, kernel_size=(3, 3), stride=(1, 1), padding=(1, 1), bias=False)\n",
              "                (bn2): DetrFrozenBatchNorm2d()\n",
              "                (act2): ReLU(inplace=True)\n",
              "                (conv3): Conv2d(256, 1024, kernel_size=(1, 1), stride=(1, 1), bias=False)\n",
              "                (bn3): DetrFrozenBatchNorm2d()\n",
              "                (act3): ReLU(inplace=True)\n",
              "              )\n",
              "            )\n",
              "            (layer4): Sequential(\n",
              "              (0): Bottleneck(\n",
              "                (conv1): Conv2d(1024, 512, kernel_size=(1, 1), stride=(1, 1), bias=False)\n",
              "                (bn1): DetrFrozenBatchNorm2d()\n",
              "                (act1): ReLU(inplace=True)\n",
              "                (conv2): Conv2d(512, 512, kernel_size=(3, 3), stride=(2, 2), padding=(1, 1), bias=False)\n",
              "                (bn2): DetrFrozenBatchNorm2d()\n",
              "                (act2): ReLU(inplace=True)\n",
              "                (conv3): Conv2d(512, 2048, kernel_size=(1, 1), stride=(1, 1), bias=False)\n",
              "                (bn3): DetrFrozenBatchNorm2d()\n",
              "                (act3): ReLU(inplace=True)\n",
              "                (downsample): Sequential(\n",
              "                  (0): Conv2d(1024, 2048, kernel_size=(1, 1), stride=(2, 2), bias=False)\n",
              "                  (1): BatchNorm2d(2048, eps=1e-05, momentum=0.1, affine=True, track_running_stats=True)\n",
              "                )\n",
              "              )\n",
              "              (1): Bottleneck(\n",
              "                (conv1): Conv2d(2048, 512, kernel_size=(1, 1), stride=(1, 1), bias=False)\n",
              "                (bn1): DetrFrozenBatchNorm2d()\n",
              "                (act1): ReLU(inplace=True)\n",
              "                (conv2): Conv2d(512, 512, kernel_size=(3, 3), stride=(1, 1), padding=(1, 1), bias=False)\n",
              "                (bn2): DetrFrozenBatchNorm2d()\n",
              "                (act2): ReLU(inplace=True)\n",
              "                (conv3): Conv2d(512, 2048, kernel_size=(1, 1), stride=(1, 1), bias=False)\n",
              "                (bn3): DetrFrozenBatchNorm2d()\n",
              "                (act3): ReLU(inplace=True)\n",
              "              )\n",
              "              (2): Bottleneck(\n",
              "                (conv1): Conv2d(2048, 512, kernel_size=(1, 1), stride=(1, 1), bias=False)\n",
              "                (bn1): DetrFrozenBatchNorm2d()\n",
              "                (act1): ReLU(inplace=True)\n",
              "                (conv2): Conv2d(512, 512, kernel_size=(3, 3), stride=(1, 1), padding=(1, 1), bias=False)\n",
              "                (bn2): DetrFrozenBatchNorm2d()\n",
              "                (act2): ReLU(inplace=True)\n",
              "                (conv3): Conv2d(512, 2048, kernel_size=(1, 1), stride=(1, 1), bias=False)\n",
              "                (bn3): DetrFrozenBatchNorm2d()\n",
              "                (act3): ReLU(inplace=True)\n",
              "              )\n",
              "            )\n",
              "          )\n",
              "        )\n",
              "        (position_embedding): DetrSinePositionEmbedding()\n",
              "      )\n",
              "      (input_projection): Conv2d(2048, 256, kernel_size=(1, 1), stride=(1, 1))\n",
              "      (query_position_embeddings): Embedding(100, 256)\n",
              "      (encoder): DetrEncoder(\n",
              "        (layers): ModuleList(\n",
              "          (0): DetrEncoderLayer(\n",
              "            (self_attn): DetrAttention(\n",
              "              (k_proj): Linear(in_features=256, out_features=256, bias=True)\n",
              "              (v_proj): Linear(in_features=256, out_features=256, bias=True)\n",
              "              (q_proj): Linear(in_features=256, out_features=256, bias=True)\n",
              "              (out_proj): Linear(in_features=256, out_features=256, bias=True)\n",
              "            )\n",
              "            (self_attn_layer_norm): LayerNorm((256,), eps=1e-05, elementwise_affine=True)\n",
              "            (fc1): Linear(in_features=256, out_features=2048, bias=True)\n",
              "            (fc2): Linear(in_features=2048, out_features=256, bias=True)\n",
              "            (final_layer_norm): LayerNorm((256,), eps=1e-05, elementwise_affine=True)\n",
              "          )\n",
              "          (1): DetrEncoderLayer(\n",
              "            (self_attn): DetrAttention(\n",
              "              (k_proj): Linear(in_features=256, out_features=256, bias=True)\n",
              "              (v_proj): Linear(in_features=256, out_features=256, bias=True)\n",
              "              (q_proj): Linear(in_features=256, out_features=256, bias=True)\n",
              "              (out_proj): Linear(in_features=256, out_features=256, bias=True)\n",
              "            )\n",
              "            (self_attn_layer_norm): LayerNorm((256,), eps=1e-05, elementwise_affine=True)\n",
              "            (fc1): Linear(in_features=256, out_features=2048, bias=True)\n",
              "            (fc2): Linear(in_features=2048, out_features=256, bias=True)\n",
              "            (final_layer_norm): LayerNorm((256,), eps=1e-05, elementwise_affine=True)\n",
              "          )\n",
              "          (2): DetrEncoderLayer(\n",
              "            (self_attn): DetrAttention(\n",
              "              (k_proj): Linear(in_features=256, out_features=256, bias=True)\n",
              "              (v_proj): Linear(in_features=256, out_features=256, bias=True)\n",
              "              (q_proj): Linear(in_features=256, out_features=256, bias=True)\n",
              "              (out_proj): Linear(in_features=256, out_features=256, bias=True)\n",
              "            )\n",
              "            (self_attn_layer_norm): LayerNorm((256,), eps=1e-05, elementwise_affine=True)\n",
              "            (fc1): Linear(in_features=256, out_features=2048, bias=True)\n",
              "            (fc2): Linear(in_features=2048, out_features=256, bias=True)\n",
              "            (final_layer_norm): LayerNorm((256,), eps=1e-05, elementwise_affine=True)\n",
              "          )\n",
              "          (3): DetrEncoderLayer(\n",
              "            (self_attn): DetrAttention(\n",
              "              (k_proj): Linear(in_features=256, out_features=256, bias=True)\n",
              "              (v_proj): Linear(in_features=256, out_features=256, bias=True)\n",
              "              (q_proj): Linear(in_features=256, out_features=256, bias=True)\n",
              "              (out_proj): Linear(in_features=256, out_features=256, bias=True)\n",
              "            )\n",
              "            (self_attn_layer_norm): LayerNorm((256,), eps=1e-05, elementwise_affine=True)\n",
              "            (fc1): Linear(in_features=256, out_features=2048, bias=True)\n",
              "            (fc2): Linear(in_features=2048, out_features=256, bias=True)\n",
              "            (final_layer_norm): LayerNorm((256,), eps=1e-05, elementwise_affine=True)\n",
              "          )\n",
              "          (4): DetrEncoderLayer(\n",
              "            (self_attn): DetrAttention(\n",
              "              (k_proj): Linear(in_features=256, out_features=256, bias=True)\n",
              "              (v_proj): Linear(in_features=256, out_features=256, bias=True)\n",
              "              (q_proj): Linear(in_features=256, out_features=256, bias=True)\n",
              "              (out_proj): Linear(in_features=256, out_features=256, bias=True)\n",
              "            )\n",
              "            (self_attn_layer_norm): LayerNorm((256,), eps=1e-05, elementwise_affine=True)\n",
              "            (fc1): Linear(in_features=256, out_features=2048, bias=True)\n",
              "            (fc2): Linear(in_features=2048, out_features=256, bias=True)\n",
              "            (final_layer_norm): LayerNorm((256,), eps=1e-05, elementwise_affine=True)\n",
              "          )\n",
              "          (5): DetrEncoderLayer(\n",
              "            (self_attn): DetrAttention(\n",
              "              (k_proj): Linear(in_features=256, out_features=256, bias=True)\n",
              "              (v_proj): Linear(in_features=256, out_features=256, bias=True)\n",
              "              (q_proj): Linear(in_features=256, out_features=256, bias=True)\n",
              "              (out_proj): Linear(in_features=256, out_features=256, bias=True)\n",
              "            )\n",
              "            (self_attn_layer_norm): LayerNorm((256,), eps=1e-05, elementwise_affine=True)\n",
              "            (fc1): Linear(in_features=256, out_features=2048, bias=True)\n",
              "            (fc2): Linear(in_features=2048, out_features=256, bias=True)\n",
              "            (final_layer_norm): LayerNorm((256,), eps=1e-05, elementwise_affine=True)\n",
              "          )\n",
              "        )\n",
              "      )\n",
              "      (decoder): DetrDecoder(\n",
              "        (layers): ModuleList(\n",
              "          (0): DetrDecoderLayer(\n",
              "            (self_attn): DetrAttention(\n",
              "              (k_proj): Linear(in_features=256, out_features=256, bias=True)\n",
              "              (v_proj): Linear(in_features=256, out_features=256, bias=True)\n",
              "              (q_proj): Linear(in_features=256, out_features=256, bias=True)\n",
              "              (out_proj): Linear(in_features=256, out_features=256, bias=True)\n",
              "            )\n",
              "            (self_attn_layer_norm): LayerNorm((256,), eps=1e-05, elementwise_affine=True)\n",
              "            (encoder_attn): DetrAttention(\n",
              "              (k_proj): Linear(in_features=256, out_features=256, bias=True)\n",
              "              (v_proj): Linear(in_features=256, out_features=256, bias=True)\n",
              "              (q_proj): Linear(in_features=256, out_features=256, bias=True)\n",
              "              (out_proj): Linear(in_features=256, out_features=256, bias=True)\n",
              "            )\n",
              "            (encoder_attn_layer_norm): LayerNorm((256,), eps=1e-05, elementwise_affine=True)\n",
              "            (fc1): Linear(in_features=256, out_features=2048, bias=True)\n",
              "            (fc2): Linear(in_features=2048, out_features=256, bias=True)\n",
              "            (final_layer_norm): LayerNorm((256,), eps=1e-05, elementwise_affine=True)\n",
              "          )\n",
              "          (1): DetrDecoderLayer(\n",
              "            (self_attn): DetrAttention(\n",
              "              (k_proj): Linear(in_features=256, out_features=256, bias=True)\n",
              "              (v_proj): Linear(in_features=256, out_features=256, bias=True)\n",
              "              (q_proj): Linear(in_features=256, out_features=256, bias=True)\n",
              "              (out_proj): Linear(in_features=256, out_features=256, bias=True)\n",
              "            )\n",
              "            (self_attn_layer_norm): LayerNorm((256,), eps=1e-05, elementwise_affine=True)\n",
              "            (encoder_attn): DetrAttention(\n",
              "              (k_proj): Linear(in_features=256, out_features=256, bias=True)\n",
              "              (v_proj): Linear(in_features=256, out_features=256, bias=True)\n",
              "              (q_proj): Linear(in_features=256, out_features=256, bias=True)\n",
              "              (out_proj): Linear(in_features=256, out_features=256, bias=True)\n",
              "            )\n",
              "            (encoder_attn_layer_norm): LayerNorm((256,), eps=1e-05, elementwise_affine=True)\n",
              "            (fc1): Linear(in_features=256, out_features=2048, bias=True)\n",
              "            (fc2): Linear(in_features=2048, out_features=256, bias=True)\n",
              "            (final_layer_norm): LayerNorm((256,), eps=1e-05, elementwise_affine=True)\n",
              "          )\n",
              "          (2): DetrDecoderLayer(\n",
              "            (self_attn): DetrAttention(\n",
              "              (k_proj): Linear(in_features=256, out_features=256, bias=True)\n",
              "              (v_proj): Linear(in_features=256, out_features=256, bias=True)\n",
              "              (q_proj): Linear(in_features=256, out_features=256, bias=True)\n",
              "              (out_proj): Linear(in_features=256, out_features=256, bias=True)\n",
              "            )\n",
              "            (self_attn_layer_norm): LayerNorm((256,), eps=1e-05, elementwise_affine=True)\n",
              "            (encoder_attn): DetrAttention(\n",
              "              (k_proj): Linear(in_features=256, out_features=256, bias=True)\n",
              "              (v_proj): Linear(in_features=256, out_features=256, bias=True)\n",
              "              (q_proj): Linear(in_features=256, out_features=256, bias=True)\n",
              "              (out_proj): Linear(in_features=256, out_features=256, bias=True)\n",
              "            )\n",
              "            (encoder_attn_layer_norm): LayerNorm((256,), eps=1e-05, elementwise_affine=True)\n",
              "            (fc1): Linear(in_features=256, out_features=2048, bias=True)\n",
              "            (fc2): Linear(in_features=2048, out_features=256, bias=True)\n",
              "            (final_layer_norm): LayerNorm((256,), eps=1e-05, elementwise_affine=True)\n",
              "          )\n",
              "          (3): DetrDecoderLayer(\n",
              "            (self_attn): DetrAttention(\n",
              "              (k_proj): Linear(in_features=256, out_features=256, bias=True)\n",
              "              (v_proj): Linear(in_features=256, out_features=256, bias=True)\n",
              "              (q_proj): Linear(in_features=256, out_features=256, bias=True)\n",
              "              (out_proj): Linear(in_features=256, out_features=256, bias=True)\n",
              "            )\n",
              "            (self_attn_layer_norm): LayerNorm((256,), eps=1e-05, elementwise_affine=True)\n",
              "            (encoder_attn): DetrAttention(\n",
              "              (k_proj): Linear(in_features=256, out_features=256, bias=True)\n",
              "              (v_proj): Linear(in_features=256, out_features=256, bias=True)\n",
              "              (q_proj): Linear(in_features=256, out_features=256, bias=True)\n",
              "              (out_proj): Linear(in_features=256, out_features=256, bias=True)\n",
              "            )\n",
              "            (encoder_attn_layer_norm): LayerNorm((256,), eps=1e-05, elementwise_affine=True)\n",
              "            (fc1): Linear(in_features=256, out_features=2048, bias=True)\n",
              "            (fc2): Linear(in_features=2048, out_features=256, bias=True)\n",
              "            (final_layer_norm): LayerNorm((256,), eps=1e-05, elementwise_affine=True)\n",
              "          )\n",
              "          (4): DetrDecoderLayer(\n",
              "            (self_attn): DetrAttention(\n",
              "              (k_proj): Linear(in_features=256, out_features=256, bias=True)\n",
              "              (v_proj): Linear(in_features=256, out_features=256, bias=True)\n",
              "              (q_proj): Linear(in_features=256, out_features=256, bias=True)\n",
              "              (out_proj): Linear(in_features=256, out_features=256, bias=True)\n",
              "            )\n",
              "            (self_attn_layer_norm): LayerNorm((256,), eps=1e-05, elementwise_affine=True)\n",
              "            (encoder_attn): DetrAttention(\n",
              "              (k_proj): Linear(in_features=256, out_features=256, bias=True)\n",
              "              (v_proj): Linear(in_features=256, out_features=256, bias=True)\n",
              "              (q_proj): Linear(in_features=256, out_features=256, bias=True)\n",
              "              (out_proj): Linear(in_features=256, out_features=256, bias=True)\n",
              "            )\n",
              "            (encoder_attn_layer_norm): LayerNorm((256,), eps=1e-05, elementwise_affine=True)\n",
              "            (fc1): Linear(in_features=256, out_features=2048, bias=True)\n",
              "            (fc2): Linear(in_features=2048, out_features=256, bias=True)\n",
              "            (final_layer_norm): LayerNorm((256,), eps=1e-05, elementwise_affine=True)\n",
              "          )\n",
              "          (5): DetrDecoderLayer(\n",
              "            (self_attn): DetrAttention(\n",
              "              (k_proj): Linear(in_features=256, out_features=256, bias=True)\n",
              "              (v_proj): Linear(in_features=256, out_features=256, bias=True)\n",
              "              (q_proj): Linear(in_features=256, out_features=256, bias=True)\n",
              "              (out_proj): Linear(in_features=256, out_features=256, bias=True)\n",
              "            )\n",
              "            (self_attn_layer_norm): LayerNorm((256,), eps=1e-05, elementwise_affine=True)\n",
              "            (encoder_attn): DetrAttention(\n",
              "              (k_proj): Linear(in_features=256, out_features=256, bias=True)\n",
              "              (v_proj): Linear(in_features=256, out_features=256, bias=True)\n",
              "              (q_proj): Linear(in_features=256, out_features=256, bias=True)\n",
              "              (out_proj): Linear(in_features=256, out_features=256, bias=True)\n",
              "            )\n",
              "            (encoder_attn_layer_norm): LayerNorm((256,), eps=1e-05, elementwise_affine=True)\n",
              "            (fc1): Linear(in_features=256, out_features=2048, bias=True)\n",
              "            (fc2): Linear(in_features=2048, out_features=256, bias=True)\n",
              "            (final_layer_norm): LayerNorm((256,), eps=1e-05, elementwise_affine=True)\n",
              "          )\n",
              "        )\n",
              "        (layernorm): LayerNorm((256,), eps=1e-05, elementwise_affine=True)\n",
              "      )\n",
              "    )\n",
              "    (class_labels_classifier): Linear(in_features=256, out_features=10, bias=True)\n",
              "    (bbox_predictor): DetrMLPPredictionHead(\n",
              "      (layers): ModuleList(\n",
              "        (0): Linear(in_features=256, out_features=256, bias=True)\n",
              "        (1): Linear(in_features=256, out_features=256, bias=True)\n",
              "        (2): Linear(in_features=256, out_features=4, bias=True)\n",
              "      )\n",
              "    )\n",
              "  )\n",
              ")"
            ]
          },
          "metadata": {
            "tags": []
          },
          "execution_count": 20
        }
      ]
    },
    {
      "cell_type": "code",
      "metadata": {
        "colab": {
          "base_uri": "https://localhost:8080/"
        },
        "id": "be6788fb",
        "outputId": "1cf0470d-e296-49d3-c484-e0699626d965"
      },
      "source": [
        "pixel_values, target = val_dataset[20]\n",
        "pixel_values = pixel_values.unsqueeze(0).to(device)\n",
        "print(pixel_values.shape)\n",
        "# forward pass to get class logits and bounding boxes\n",
        "outputs = model(pixel_values=pixel_values, pixel_mask=None)\n"
      ],
      "id": "be6788fb",
      "execution_count": null,
      "outputs": [
        {
          "output_type": "stream",
          "text": [
            "torch.Size([1, 3, 750, 1333])\n"
          ],
          "name": "stdout"
        }
      ]
    },
    {
      "cell_type": "code",
      "metadata": {
        "id": "NMA0IqoD5WzS"
      },
      "source": [
        "import torch\n",
        "import matplotlib.pyplot as plt\n",
        "\n",
        "# colors for visualization\n",
        "COLORS = [[0.000, 0.447, 0.741], [0.850, 0.325, 0.098], [0.929, 0.694, 0.125],\n",
        "          [0.494, 0.184, 0.556], [0.466, 0.674, 0.188], [0.301, 0.745, 0.933]]\n",
        "\n",
        "# for output bounding box post-processing\n",
        "def box_cxcywh_to_xyxy(x):\n",
        "    x_c, y_c, w, h = x.unbind(1)\n",
        "    b = [(x_c - 0.5 * w), (y_c - 0.5 * h),\n",
        "         (x_c + 0.5 * w), (y_c + 0.5 * h)]\n",
        "    return torch.stack(b, dim=1)\n",
        "\n",
        "def rescale_bboxes(out_bbox, size):\n",
        "    img_w, img_h = size\n",
        "    b = box_cxcywh_to_xyxy(out_bbox)\n",
        "    b = b * torch.tensor([img_w, img_h, img_w, img_h], dtype=torch.float32)\n",
        "    return b\n",
        "\n",
        "def plot_results(pil_img, prob, boxes):\n",
        "    plt.figure(figsize=(16,10))\n",
        "    plt.imshow(pil_img)\n",
        "    ax = plt.gca()\n",
        "    colors = COLORS * 100\n",
        "    for p, (xmin, ymin, xmax, ymax), c in zip(prob, boxes.tolist(), colors):\n",
        "        ax.add_patch(plt.Rectangle((xmin, ymin), xmax - xmin, ymax - ymin,\n",
        "                                   fill=False, color=c, linewidth=3))\n",
        "        cl = p.argmax()\n",
        "        text = f'{id2label[cl.item()]}: {p[cl]:0.2f}'\n",
        "        ax.text(xmin, ymin, text, fontsize=15,\n",
        "                bbox=dict(facecolor='yellow', alpha=0.5))\n",
        "    plt.axis('off')\n",
        "    plt.show()"
      ],
      "id": "NMA0IqoD5WzS",
      "execution_count": null,
      "outputs": []
    },
    {
      "cell_type": "code",
      "metadata": {
        "id": "Gm37iQan5akM"
      },
      "source": [
        "def visualize_predictions(image, outputs, threshold=0.5):\n",
        "  # keep only predictions with confidence >= threshold\n",
        "  probas = outputs.logits.softmax(-1)[0, :, :-1]\n",
        "  keep = probas.max(-1).values > threshold\n",
        "  \n",
        "  # convert predicted boxes from [0; 1] to image scales\n",
        "  bboxes_scaled = rescale_bboxes(outputs.pred_boxes[0, keep].cpu(), image.size)\n",
        "\n",
        "  # plot results\n",
        "  plot_results(image, probas[keep], bboxes_scaled)"
      ],
      "id": "Gm37iQan5akM",
      "execution_count": null,
      "outputs": []
    },
    {
      "cell_type": "code",
      "metadata": {
        "colab": {
          "base_uri": "https://localhost:8080/",
          "height": 533
        },
        "id": "DIesmz1u5cUV",
        "outputId": "7feecafb-187e-4dcb-ffa8-7ebbf43946d4"
      },
      "source": [
        "image_id = target['image_id'].item()\n",
        "image = val_dataset.coco.loadImgs(image_id)[0]\n",
        "image = Image.open(os.path.join(f'{DATA_BASE}/val', image['file_name']))\n",
        "\n",
        "visualize_predictions(image, outputs)"
      ],
      "id": "DIesmz1u5cUV",
      "execution_count": null,
      "outputs": [
        {
          "output_type": "display_data",
          "data": {
            "image/png": "[encoded data removed]",
            "text/plain": [
              "<Figure size 1152x720 with 1 Axes>"
            ]
          },
          "metadata": {
            "tags": [],
            "needs_background": "light"
          }
        }
      ]
    },
    {
      "cell_type": "code",
      "metadata": {
        "colab": {
          "base_uri": "https://localhost:8080/"
        },
        "id": "Ph_L5gQZ6fcl",
        "outputId": "39a55f41-5c0d-4647-d166-0fae978fa083"
      },
      "source": [
        "target['image_id']"
      ],
      "id": "Ph_L5gQZ6fcl",
      "execution_count": null,
      "outputs": [
        {
          "output_type": "execute_result",
          "data": {
            "text/plain": [
              "tensor([6])"
            ]
          },
          "metadata": {
            "tags": []
          },
          "execution_count": 25
        }
      ]
    },
    {
      "cell_type": "code",
      "metadata": {
        "id": "Mwpc6uZEWYT0"
      },
      "source": [
        ""
      ],
      "id": "Mwpc6uZEWYT0",
      "execution_count": null,
      "outputs": []
    }
  ]
}