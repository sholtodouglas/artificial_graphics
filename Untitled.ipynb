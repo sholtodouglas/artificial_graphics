{
 "cells": [
  {
   "cell_type": "code",
   "execution_count": 3,
   "metadata": {},
   "outputs": [],
   "source": [
    "# import sys\n",
    "# !{sys.executable} -m pip install python-pptx\n",
    "from pptx import Presentation\n",
    "\n",
    "prs = Presentation()\n"
   ]
  },
  {
   "cell_type": "code",
   "execution_count": 4,
   "metadata": {},
   "outputs": [],
   "source": [
    "prs.save('test.pptx')"
   ]
  },
  {
   "cell_type": "code",
   "execution_count": 9,
   "metadata": {},
   "outputs": [],
   "source": [
    "\n",
    "#prs.save('default_template.pptx')\n"
   ]
  },
  {
   "cell_type": "code",
   "execution_count": 18,
   "metadata": {},
   "outputs": [],
   "source": [
    "prs = Presentation('test2.pptx')"
   ]
  },
  {
   "cell_type": "code",
   "execution_count": 19,
   "metadata": {},
   "outputs": [],
   "source": [
    "slide = prs.slides[0]\n"
   ]
  },
  {
   "cell_type": "code",
   "execution_count": 30,
   "metadata": {},
   "outputs": [
    {
     "data": {
      "text/plain": [
       "1"
      ]
     },
     "execution_count": 30,
     "metadata": {},
     "output_type": "execute_result"
    }
   ],
   "source": [
    "slide.shapes[0].shape_type"
   ]
  },
  {
   "cell_type": "code",
   "execution_count": 28,
   "metadata": {},
   "outputs": [
    {
     "data": {
      "text/plain": [
       "['__class__',\n",
       " '__delattr__',\n",
       " '__dict__',\n",
       " '__dir__',\n",
       " '__doc__',\n",
       " '__eq__',\n",
       " '__format__',\n",
       " '__ge__',\n",
       " '__getattribute__',\n",
       " '__gt__',\n",
       " '__hash__',\n",
       " '__init__',\n",
       " '__init_subclass__',\n",
       " '__le__',\n",
       " '__lt__',\n",
       " '__module__',\n",
       " '__ne__',\n",
       " '__new__',\n",
       " '__reduce__',\n",
       " '__reduce_ex__',\n",
       " '__repr__',\n",
       " '__setattr__',\n",
       " '__sizeof__',\n",
       " '__str__',\n",
       " '__subclasshook__',\n",
       " '__weakref__',\n",
       " '_element',\n",
       " '_parent',\n",
       " '_sp',\n",
       " 'adjustments',\n",
       " 'auto_shape_type',\n",
       " 'click_action',\n",
       " 'element',\n",
       " 'fill',\n",
       " 'get_or_add_ln',\n",
       " 'has_chart',\n",
       " 'has_table',\n",
       " 'has_text_frame',\n",
       " 'height',\n",
       " 'is_placeholder',\n",
       " 'left',\n",
       " 'line',\n",
       " 'ln',\n",
       " 'name',\n",
       " 'part',\n",
       " 'placeholder_format',\n",
       " 'rotation',\n",
       " 'shadow',\n",
       " 'shape_id',\n",
       " 'shape_type',\n",
       " 'text',\n",
       " 'text_frame',\n",
       " 'top',\n",
       " 'width']"
      ]
     },
     "execution_count": 28,
     "metadata": {},
     "output_type": "execute_result"
    }
   ],
   "source": [
    "dir(slide.shapes[0].s"
   ]
  },
  {
   "cell_type": "code",
   "execution_count": 17,
   "metadata": {},
   "outputs": [],
   "source": [
    "from pptx.enum.shapes import MSO_SHAPE\n",
    "from pptx.util import Inches, Pt\n",
    "    \n",
    "shapes = slide.shapes\n",
    "left = top = width = height = Inches(1.0)\n",
    "shape = shapes.add_shape(\n",
    "    MSO_SHAPE.ROUNDED_RECTANGLE, left, top, width, height\n",
    ")\n",
    "prs.save('test2.pptx')"
   ]
  },
  {
   "cell_type": "code",
   "execution_count": null,
   "metadata": {},
   "outputs": [],
   "source": []
  }
 ],
 "metadata": {
  "kernelspec": {
   "display_name": "Python 3",
   "language": "python",
   "name": "python3"
  },
  "language_info": {
   "codemirror_mode": {
    "name": "ipython",
    "version": 3
   },
   "file_extension": ".py",
   "mimetype": "text/x-python",
   "name": "python",
   "nbconvert_exporter": "python",
   "pygments_lexer": "ipython3",
   "version": "3.7.4"
  }
 },
 "nbformat": 4,
 "nbformat_minor": 2
}
