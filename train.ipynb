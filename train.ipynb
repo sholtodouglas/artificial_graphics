{
  "nbformat": 4,
  "nbformat_minor": 0,
  "metadata": {
    "colab": {
      "name": "artificial_graphics_jax.ipynb",
      "provenance": [],
      "collapsed_sections": [],
      "machine_shape": "hm",
      "authorship_tag": "ABX9TyM/w0JRkbgO97wzh1JdwU7i",
      "include_colab_link": true
    },
    "kernelspec": {
      "name": "python3",
      "display_name": "Python 3"
    },
    "language_info": {
      "name": "python"
    },
    "accelerator": "TPU"
  },
  "cells": [
    {
      "cell_type": "markdown",
      "metadata": {
        "id": "view-in-github",
        "colab_type": "text"
      },
      "source": [
        "<a href=\"https://colab.research.google.com/github/sholtodouglas/artificial_graphics/blob/main/train.ipynb\" target=\"_parent\"><img src=\"https://colab.research.google.com/assets/colab-badge.svg\" alt=\"Open In Colab\"/></a>"
      ]
    },
    {
      "cell_type": "code",
      "metadata": {
        "id": "4PxRnoyxKDfG",
        "colab": {
          "base_uri": "https://localhost:8080/"
        },
        "outputId": "a6c77c27-42d8-482e-df39-64a2566cbe44"
      },
      "source": [
        "!pip install git+https://github.com/deepmind/dm-haiku\n",
        "!pip install wandb -q\n",
        "!pip install pathy -q\n",
        "!pip install natsorted -q\n",
        "!pip install dall-e -q"
      ],
      "execution_count": 13,
      "outputs": [
        {
          "output_type": "stream",
          "text": [
            "Collecting git+https://github.com/deepmind/dm-haiku\n",
            "  Cloning https://github.com/deepmind/dm-haiku to /tmp/pip-req-build-0neu7hy1\n",
            "  Running command git clone -q https://github.com/deepmind/dm-haiku /tmp/pip-req-build-0neu7hy1\n",
            "Requirement already satisfied (use --upgrade to upgrade): dm-haiku==0.0.5.dev0 from git+https://github.com/deepmind/dm-haiku in /usr/local/lib/python3.7/dist-packages\n",
            "Requirement already satisfied: absl-py>=0.7.1 in /usr/local/lib/python3.7/dist-packages (from dm-haiku==0.0.5.dev0) (0.12.0)\n",
            "Requirement already satisfied: jmp>=0.0.2 in /usr/local/lib/python3.7/dist-packages (from dm-haiku==0.0.5.dev0) (0.0.2)\n",
            "Requirement already satisfied: numpy>=1.18.0 in /usr/local/lib/python3.7/dist-packages (from dm-haiku==0.0.5.dev0) (1.19.5)\n",
            "Requirement already satisfied: tabulate>=0.8.9 in /usr/local/lib/python3.7/dist-packages (from dm-haiku==0.0.5.dev0) (0.8.9)\n",
            "Requirement already satisfied: typing_extensions in /usr/local/lib/python3.7/dist-packages (from dm-haiku==0.0.5.dev0) (3.7.4.3)\n",
            "Requirement already satisfied: six in /usr/local/lib/python3.7/dist-packages (from absl-py>=0.7.1->dm-haiku==0.0.5.dev0) (1.15.0)\n",
            "Building wheels for collected packages: dm-haiku\n",
            "  Building wheel for dm-haiku (setup.py) ... \u001b[?25l\u001b[?25hdone\n",
            "  Created wheel for dm-haiku: filename=dm_haiku-0.0.5.dev0-cp37-none-any.whl size=552722 sha256=fa82cd7fa807727dd5a6b8dab326a78cc4c7892d33384acbaed73f2c512caf7e\n",
            "  Stored in directory: /tmp/pip-ephem-wheel-cache-gof4925v/wheels/97/0f/e9/17f34e377f8d4060fa88a7e82bee5d8afbf7972384768a5499\n",
            "Successfully built dm-haiku\n",
            "\u001b[31mERROR: Could not find a version that satisfies the requirement natsorted (from versions: none)\u001b[0m\n",
            "\u001b[31mERROR: No matching distribution found for natsorted\u001b[0m\n",
            "\u001b[K     |████████████████████████████████| 21.6MB 92.8MB/s \n",
            "\u001b[K     |████████████████████████████████| 61kB 7.1MB/s \n",
            "\u001b[K     |████████████████████████████████| 747kB 61.5MB/s \n",
            "\u001b[K     |████████████████████████████████| 1.9MB 63.9MB/s \n",
            "\u001b[31mERROR: blobfile 1.2.0 has requirement urllib3~=1.25, but you'll have urllib3 1.24.3 which is incompatible.\u001b[0m\n",
            "\u001b[?25h"
          ],
          "name": "stdout"
        }
      ]
    },
    {
      "cell_type": "code",
      "metadata": {
        "id": "cyfunQypud_a"
      },
      "source": [
        "import argparse\n",
        "from natsort import natsorted\n",
        "\n",
        "parser = argparse.ArgumentParser(description='AG training arguments')\n",
        "parser.add_argument('run_name')\n",
        "parser.add_argument('--train_datasets', nargs='+', help='Training dataset names')\n",
        "parser.add_argument('--test_datasets', nargs='+', help='Testing dataset names')\n",
        "parser.add_argument('-c', '--colab', default=False, action='store_true', help='Enable if using colab environment')\n",
        "parser.add_argument('-s', '--data_source', default='DRIVE', help='Source of training data')\n",
        "parser.add_argument('-d', '--device', default='TPU', help='Hardware device to train on')\n",
        "parser.add_argument('-b', '--batch_size', default=128, type=int)\n",
        "parser.add_argument('-lr', '--learning_rate', type=float, default=3e-4)\n",
        "parser.add_argument('-t', '--train_steps', type=int, default=200000)\n",
        "parser.add_argument('--bucket_name', help='GCS bucket name to stream data from')\n",
        "parser.add_argument('--tpu_name', help='GCP TPU name') # Only used in the script on GCP\n",
        "\n",
        "### Sample local config\n",
        "args = parser.parse_args('''\n",
        "dummy_run \n",
        "--train_dataset train\n",
        "--test_dataset test\n",
        "-c\n",
        "-s DRIVE\n",
        "--bucket_name iowa_bucket_lfp\n",
        "'''.split())\n",
        "\n"
      ],
      "execution_count": 2,
      "outputs": []
    },
    {
      "cell_type": "code",
      "metadata": {
        "colab": {
          "base_uri": "https://localhost:8080/"
        },
        "cellView": "form",
        "id": "aCItVwK0vFtz",
        "outputId": "7513ab37-5e17-44cd-9f89-d0f086a2dd8c"
      },
      "source": [
        "from pathlib import Path\n",
        "from pathy import Pathy\n",
        "import os\n",
        "import requests\n",
        "import json\n",
        "import pprint\n",
        "import logging\n",
        "import numpy as np\n",
        "import tensorflow as tf\n",
        "import time\n",
        "\n",
        "\n",
        "\n",
        "pp = pprint.PrettyPrinter(indent=4)\n",
        "# In[4]:\n",
        "\n",
        "\n",
        "#@title Workpace Setup (Local vs Colab)\n",
        "\n",
        "# Set up working directory and libraries\n",
        "if args.colab:\n",
        "    from google.colab import drive, auth\n",
        "    print('Using colab setup')\n",
        "    WORKING_PATH = Path('/content/artificial_graphics')\n",
        "    # Clone repo\n",
        "    try:\n",
        "        get_ipython().system(\"git clone 'https://github.com/sholtodouglas/artificial_graphics' {WORKING_PATH}\")\n",
        "    except: \n",
        "        pass\n",
        "    # Mount drive\n",
        "    drive.mount('/content/drive')\n",
        "else:\n",
        "    print('Using local setup')\n",
        "    WORKING_PATH = Path.cwd()\n",
        "    print(f'Working path: {WORKING_PATH}')\n",
        "\n",
        "# Change working directory to artificial_graphics\n",
        "os.chdir(WORKING_PATH)\n",
        "import lib\n",
        "\n",
        "# Set up storage directory and datasets\n",
        "if args.data_source == 'DRIVE':\n",
        "    assert args.colab, \"Must be using Colab\"\n",
        "    print('Reading data from Google Drive')\n",
        "    STORAGE_PATH = Path('/content/drive/My Drive/artificial_graphics')\n",
        "elif args.data_source == 'GCS':\n",
        "    if args.colab:\n",
        "      auth.authenticate_user()\n",
        "    print('Reading data from Google Cloud Storage')\n",
        "    r = requests.get('https://ipinfo.io')\n",
        "    region = r.json()['region']\n",
        "    project_id = 'learning-from-play-303306'\n",
        "    logging.warning(f'You are accessing GCS data from {region}, make sure this is the same as your bucket {args.bucket_name}')\n",
        "    STORAGE_PATH = Pathy(f'gs://{args.bucket_name}')\n",
        "else:\n",
        "    print('Reading data from local filesystem')\n",
        "    STORAGE_PATH = WORKING_PATH\n",
        "\n",
        "print(f'Storage path: {STORAGE_PATH}')\n",
        "TRAIN_DATA_PATHS = [STORAGE_PATH/'data'/x for x in args.train_datasets]\n",
        "TEST_DATA_PATHS = [STORAGE_PATH/'data'/x for x in args.test_datasets]"
      ],
      "execution_count": 3,
      "outputs": [
        {
          "output_type": "stream",
          "text": [
            "Using colab setup\n",
            "Cloning into '/content/artificial_graphics'...\n",
            "remote: Enumerating objects: 65, done.\u001b[K\n",
            "remote: Counting objects: 100% (65/65), done.\u001b[K\n",
            "remote: Compressing objects: 100% (47/47), done.\u001b[K\n",
            "remote: Total 65 (delta 25), reused 42 (delta 13), pack-reused 0\u001b[K\n",
            "Unpacking objects: 100% (65/65), done.\n",
            "Mounted at /content/drive\n",
            "Reading data from Google Drive\n",
            "Storage path: /content/drive/My Drive/artificial_graphics\n"
          ],
          "name": "stdout"
        }
      ]
    },
    {
      "cell_type": "code",
      "metadata": {
        "id": "2zo6X0DIKSld"
      },
      "source": [
        "if args.colab:\n",
        "  import jax.tools.colab_tpu\n",
        "  jax.tools.colab_tpu.setup_tpu()\n",
        "else:\n",
        "  raise NotImplementedError\n",
        "\n",
        "DEVICES = jax.devices()\n",
        "NUM_DEVICS = len(DEVICES)"
      ],
      "execution_count": 141,
      "outputs": []
    },
    {
      "cell_type": "code",
      "metadata": {
        "colab": {
          "base_uri": "https://localhost:8080/"
        },
        "id": "0vlgGSHVFnc6",
        "outputId": "84ea7213-c33e-41f2-9c8a-083fb33e7d72"
      },
      "source": [
        "!git pull\n",
        "from importlib import reload\n",
        "reload(lib.data)"
      ],
      "execution_count": 136,
      "outputs": [
        {
          "output_type": "stream",
          "text": [
            "Already up to date.\n"
          ],
          "name": "stdout"
        },
        {
          "output_type": "execute_result",
          "data": {
            "text/plain": [
              "<module 'lib.data' from '/content/artificial_graphics/lib/data.py'>"
            ]
          },
          "metadata": {
            "tags": []
          },
          "execution_count": 136
        }
      ]
    },
    {
      "cell_type": "code",
      "metadata": {
        "id": "WBlPoHz5VCh7"
      },
      "source": [
        ""
      ],
      "execution_count": null,
      "outputs": []
    },
    {
      "cell_type": "code",
      "metadata": {
        "id": "qvZHzDiUAm0M"
      },
      "source": [
        "  \n",
        "import io\n",
        "\n",
        "import jax\n",
        "import requests\n",
        "import PIL\n",
        "from PIL import ImageOps\n",
        "\n",
        "import numpy as np\n",
        "import jax.numpy as jnp\n",
        "from jax import grad, jit, vmap, pmap\n",
        "from jax import random\n",
        "\n",
        "from lib.dall_e_jax import get_encoder, get_decoder, map_pixels, unmap_pixels, download_image\n",
        "\n",
        "import matplotlib.pyplot as plt\n",
        "\n",
        "\n",
        "\n",
        "target_image_size = 256\n",
        "\n",
        "\n",
        "jax_enc_fn, jax_enc_params = get_encoder(str(STORAGE_PATH/'saved_models/') + \"/encoder.pkl\")\n",
        "jax_dec_fn, jax_dec_params = get_decoder(str(STORAGE_PATH/'saved_models/') + \"/decoder.pkl\")"
      ],
      "execution_count": 87,
      "outputs": []
    },
    {
      "cell_type": "code",
      "metadata": {
        "id": "Lme5QXcxKgYs"
      },
      "source": [
        "\n",
        "\n",
        "\n",
        "@jit\n",
        "def preprocess_batch(b: dict, logit_laplace_eps = 0.1) -> dict:\n",
        "  imgs = b['img']/255.0\n",
        "  b['img'] = jnp.transpose(imgs, axes = [0, 3, 1, 2])\n",
        "  b['img'] = (1 - 2 * logit_laplace_eps) * b['img'] + logit_laplace_eps\n",
        "  return b\n",
        "\n",
        "\n"
      ],
      "execution_count": 215,
      "outputs": []
    },
    {
      "cell_type": "code",
      "metadata": {
        "id": "_uEFFQ3fC0XL"
      },
      "source": [
        "from lib.data import dataloader\n",
        "import tensorflow_datasets as tfds\n",
        "\n",
        "train_dl = dataloader(TRAIN_DATA_PATHS[0], batch_size = 128) # to make this distributed, pass num devices so we get an 8 ways batch - and then pmap it\n",
        "train_dataset = iter(tfds.as_numpy(train_dl.dataset))\n"
      ],
      "execution_count": 207,
      "outputs": []
    },
    {
      "cell_type": "code",
      "metadata": {
        "id": "FZisCKAZZGE7"
      },
      "source": [
        "b = next(train_dataset)\n",
        "b = jax.device_put(b, DEVICES[0])\n",
        "b = preprocess_batch(b)"
      ],
      "execution_count": 236,
      "outputs": []
    },
    {
      "cell_type": "code",
      "metadata": {
        "id": "1JdLYoPzaUP7"
      },
      "source": [
        ""
      ],
      "execution_count": 223,
      "outputs": []
    },
    {
      "cell_type": "code",
      "metadata": {
        "id": "BIeRbX-hNxL0"
      },
      "source": [
        "\n"
      ],
      "execution_count": 231,
      "outputs": []
    },
    {
      "cell_type": "code",
      "metadata": {
        "id": "YvH07ADRV_IZ"
      },
      "source": [
        "\n"
      ],
      "execution_count": 234,
      "outputs": []
    },
    {
      "cell_type": "code",
      "metadata": {
        "colab": {
          "base_uri": "https://localhost:8080/",
          "height": 286
        },
        "id": "0a_VG_JbKnPL",
        "cellView": "form",
        "outputId": "1765d24d-eb07-4e3c-bb5a-388f94129401"
      },
      "source": [
        "#@title Test recon\n",
        "x = b['img'][0][jnp.newaxis]\n",
        "z_logits = jax_enc_fn(jax_enc_params, x)\n",
        "z = jnp.argmax(z_logits, axis=1)\n",
        "z = jnp.transpose(jax.nn.one_hot(z, num_classes=8192), (0, 3, 1, 2))\n",
        "B, D, H, W = z.shape\n",
        "#z = jnp.reshape(jnp.repeat(jnp.reshape(z, (B, D, H*W))[:,:,::2], 2, axis = -1), (B,D,H,W))\n",
        "x_stats = jax_dec_fn(jax_dec_params, z)\n",
        "x_rec = unmap_pixels(jax.nn.sigmoid(x_stats[:, :3]))\n",
        "x_rec = np.transpose((np.array(x_rec[0]) * 255).astype(np.uint8), (1, 2, 0))\n",
        "plt.imshow(x_rec)"
      ],
      "execution_count": 241,
      "outputs": [
        {
          "output_type": "execute_result",
          "data": {
            "text/plain": [
              "<matplotlib.image.AxesImage at 0x7f32798b5e90>"
            ]
          },
          "metadata": {
            "tags": []
          },
          "execution_count": 241
        },
        {
          "output_type": "display_data",
          "data": {
            "image/png": "[encoded data removed]",
            "text/plain": [
              "<Figure size 432x288 with 1 Axes>"
            ]
          },
          "metadata": {
            "tags": [],
            "needs_background": "light"
          }
        }
      ]
    },
    {
      "cell_type": "code",
      "metadata": {
        "id": "ECXzFkTcizy8"
      },
      "source": [
        ""
      ],
      "execution_count": null,
      "outputs": []
    }
  ]
}